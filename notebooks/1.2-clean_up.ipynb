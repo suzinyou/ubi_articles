{
 "cells": [
  {
   "cell_type": "code",
   "execution_count": 1,
   "metadata": {},
   "outputs": [],
   "source": [
    "import os\n",
    "import re\n",
    "import pickle\n",
    "\n",
    "import pandas as pd\n",
    "import matplotlib.pyplot as plt\n",
    "\n",
    "from src.env import PROJECT_DIR\n",
    "\n",
    "plt.rcParams[\"font.family\"] = 'NanumBarunGothic'"
   ]
  },
  {
   "cell_type": "code",
   "execution_count": 78,
   "metadata": {},
   "outputs": [],
   "source": [
    "file_names = [\n",
    "    '20170101-20181231.csv',\n",
    "    '20190101-20191231.csv',\n",
    "    '20200101-20200731.csv']"
   ]
  },
  {
   "cell_type": "code",
   "execution_count": 79,
   "metadata": {},
   "outputs": [],
   "source": [
    "data_dir = PROJECT_DIR / 'data' / 'raw'\n",
    "media_dfs = dict()\n",
    "\n",
    "for outlet in os.scandir(data_dir):\n",
    "    if not os.path.isdir(outlet):\n",
    "        continue\n",
    "    dfs = []\n",
    "    for f in os.scandir(outlet.path):\n",
    "        if f.name not in file_names:\n",
    "            continue\n",
    "        dfs.append(pd.read_csv(f.path))\n",
    "        \n",
    "    df = pd.concat(dfs)\n",
    "    media_dfs[outlet.name] = df"
   ]
  },
  {
   "cell_type": "markdown",
   "metadata": {},
   "source": [
    "Compile regexes"
   ]
  },
  {
   "cell_type": "code",
   "execution_count": 80,
   "metadata": {},
   "outputs": [],
   "source": [
    "square_brackets = re.compile(r'\\[([^\\]\\[]+)\\]')\n",
    "\n",
    "sentence_break = re.compile(r'\\.[\\s\\'\"\\)\\>\\?!]')\n",
    "\n",
    "quotation_marks = re.compile(r'[‘’“”\"\\']')\n",
    "\n",
    "open_brackets = re.compile(r'(?<=[^\\s])([\\[\\(\\{\\<])')\n",
    "close_brackets = re.compile(r'([\\]\\)\\}\\>])(?=[^\\s])')\n",
    "\n",
    "non_word_chars = re.compile(r'[^\\uac00-\\ud799A-Za-z\\d\\.,?!@%]+')\n",
    "\n",
    "basic_income = re.compile(r'기본 소득')"
   ]
  },
  {
   "cell_type": "code",
   "execution_count": 25,
   "metadata": {},
   "outputs": [
    {
     "data": {
      "text/plain": [
       "['우아한 청년 발언대', '전문']"
      ]
     },
     "execution_count": 25,
     "metadata": {},
     "output_type": "execute_result"
    }
   ],
   "source": [
    "square_brackets.findall('코로나 시대의 평등 [우아한 청년 발언대][전문]')"
   ]
  },
  {
   "cell_type": "code",
   "execution_count": 84,
   "metadata": {},
   "outputs": [
    {
     "data": {
      "text/plain": [
       "' 기본소득이 세상을 바꾼다 오준호 지음 개마고원 232쪽 1만4000원'"
      ]
     },
     "execution_count": 84,
     "metadata": {},
     "output_type": "execute_result"
    }
   ],
   "source": [
    "non_word_chars.sub(' ', 'ㆍ기본소득이 세상을 바꾼다ㆍ오준호 지음 |개마고원 | 232쪽 | 1만4000원')"
   ]
  },
  {
   "cell_type": "code",
   "execution_count": 81,
   "metadata": {},
   "outputs": [],
   "source": [
    "dfs = dict()\n",
    "for k, df in media_dfs.items():\n",
    "    v = df.copy()\n",
    "    \n",
    "    # Parse datetime\n",
    "    v.loc[:, 'datetime'] = pd.to_datetime(v.date)\n",
    "    \n",
    "    # Extract article labels if it exists\n",
    "    v.loc[:, 'extracted_category'] = v.title.apply(lambda title: square_brackets.findall(title))\n",
    "    \n",
    "    # Replace '기본 소득' with '기본소득'\n",
    "    v.loc[:, 'text'] = v.text.apply(lambda text: basic_income.sub('기본소득', text))\n",
    "    \n",
    "    # Remove [<source>]\n",
    "    source_tag = re.compile(r'^\\[' + k + r'\\]')\n",
    "    v.loc[:, 'text'] = v.text.apply(lambda text: source_tag.sub('', text))\n",
    "    \n",
    "    # Remove quotation marks\n",
    "    v.loc[:, 'text'] = v.text.apply(lambda text: quotation_marks.sub('', text))\n",
    "    \n",
    "    # Add spaces around brackets\n",
    "    v.loc[:, 'text'] = v.text.apply(lambda text: open_brackets.sub(r' \\1', text))\n",
    "    v.loc[:, 'text'] = v.text.apply(lambda text: close_brackets.sub(r'\\1 ', text))\n",
    "    \n",
    "    # Replace special characters with space\n",
    "    v.loc[:, 'text'] = v.text.apply(lambda text: non_word_chars.sub(' ', text))\n",
    "    \n",
    "    # Break into sentences\n",
    "    v.loc[:, 'sentences'] = v.text.apply(lambda text: [s.strip() for s in sentence_break.split(text)])\n",
    "    \n",
    "    v = v.set_index('datetime')\n",
    "    v.drop(columns=['date'], inplace=True)\n",
    "    \n",
    "    # Sort\n",
    "    v = v.sort_index()\n",
    "    dfs[k] = v"
   ]
  },
  {
   "cell_type": "code",
   "execution_count": 82,
   "metadata": {},
   "outputs": [],
   "source": [
    "dfs['경향신문'] = dfs['경향신문'][dfs['경향신문'].extracted_category.apply(lambda x: '전문' not in x)]"
   ]
  },
  {
   "cell_type": "code",
   "execution_count": 83,
   "metadata": {},
   "outputs": [],
   "source": [
    "for k, v in dfs.items():\n",
    "    v.drop(columns=['sentences']).to_csv(PROJECT_DIR / 'data' / 'processed' / f'articles_20170101-20200731_{k}.csv')"
   ]
  },
  {
   "cell_type": "code",
   "execution_count": 42,
   "metadata": {},
   "outputs": [
    {
     "data": {
      "text/html": [
       "<div>\n",
       "<style scoped>\n",
       "    .dataframe tbody tr th:only-of-type {\n",
       "        vertical-align: middle;\n",
       "    }\n",
       "\n",
       "    .dataframe tbody tr th {\n",
       "        vertical-align: top;\n",
       "    }\n",
       "\n",
       "    .dataframe thead th {\n",
       "        text-align: right;\n",
       "    }\n",
       "</style>\n",
       "<table border=\"1\" class=\"dataframe\">\n",
       "  <thead>\n",
       "    <tr style=\"text-align: right;\">\n",
       "      <th></th>\n",
       "      <th>title</th>\n",
       "      <th>summary</th>\n",
       "      <th>text</th>\n",
       "      <th>extracted_category</th>\n",
       "      <th>sentences</th>\n",
       "    </tr>\n",
       "    <tr>\n",
       "      <th>datetime</th>\n",
       "      <th></th>\n",
       "      <th></th>\n",
       "      <th></th>\n",
       "      <th></th>\n",
       "      <th></th>\n",
       "    </tr>\n",
       "  </thead>\n",
       "  <tbody>\n",
       "    <tr>\n",
       "      <th>2017-01-03 18:00:00</th>\n",
       "      <td>대선주자 인터뷰②이재명 \"나? 좋은 사람 아니라 부패척결 머슴..문재인은 점잖은 성군\"</td>\n",
       "      <td>NaN</td>\n",
       "      <td>[경향신문]\\n\\n촛불정국을 거치면서 야권의 유력 대선주자로 발돋움한 더불어민주당 ...</td>\n",
       "      <td>None</td>\n",
       "      <td>[[경향신문]\\n\\n촛불정국을 거치면서 야권의 유력 대선주자로 발돋움한 더불어민주당...</td>\n",
       "    </tr>\n",
       "    <tr>\n",
       "      <th>2017-01-03 22:29:00</th>\n",
       "      <td>[2017 대선의 꿈]②이재명 성남시장 \"혁명적 변화가 필요한 때..거친 야전형 장...</td>\n",
       "      <td>NaN</td>\n",
       "      <td>[경향신문]\\n\\n촛불정국을 거치면서 야권의 유력 대선주자로 발돋움한 더불어민주당 ...</td>\n",
       "      <td>2017 대선의 꿈</td>\n",
       "      <td>[[경향신문]\\n\\n촛불정국을 거치면서 야권의 유력 대선주자로 발돋움한 더불어민주당...</td>\n",
       "    </tr>\n",
       "    <tr>\n",
       "      <th>2017-01-04 14:57:00</th>\n",
       "      <td>아인슈타인은 옳았다..왜 노동시간을 줄여야 하는가?</td>\n",
       "      <td>NaN</td>\n",
       "      <td>[경향신문] 인공지능과 로봇, 3D 프린팅이 주도하는 4차 산업혁명이 일자리 킬러가...</td>\n",
       "      <td>None</td>\n",
       "      <td>[[경향신문] 인공지능과 로봇, 3D 프린팅이 주도하는 4차 산업혁명이 일자리 킬러...</td>\n",
       "    </tr>\n",
       "    <tr>\n",
       "      <th>2017-01-06 19:33:00</th>\n",
       "      <td>[책과 삶]기본소득 보장은 재앙이 아니라 미래의 대안</td>\n",
       "      <td>NaN</td>\n",
       "      <td>[경향신문] ㆍ기본소득이 세상을 바꾼다ㆍ오준호 지음 |개마고원 | 232쪽 | 1만...</td>\n",
       "      <td>책과 삶</td>\n",
       "      <td>[[경향신문] ㆍ기본소득이 세상을 바꾼다ㆍ오준호 지음 |개마고원 | 232쪽 | 1...</td>\n",
       "    </tr>\n",
       "    <tr>\n",
       "      <th>2017-01-08 21:04:00</th>\n",
       "      <td>[사설]소득 불평등 해소 없으면 개혁 아니다</td>\n",
       "      <td>NaN</td>\n",
       "      <td>[경향신문] ㆍ구체제 청산을 위한 7대 과제\\n\\n덴마크에서 붙잡힌 최순실씨 딸 정...</td>\n",
       "      <td>사설</td>\n",
       "      <td>[[경향신문] ㆍ구체제 청산을 위한 7대 과제\\n\\n덴마크에서 붙잡힌 최순실씨 딸 ...</td>\n",
       "    </tr>\n",
       "  </tbody>\n",
       "</table>\n",
       "</div>"
      ],
      "text/plain": [
       "                                                                 title  \\\n",
       "datetime                                                                 \n",
       "2017-01-03 18:00:00   대선주자 인터뷰②이재명 \"나? 좋은 사람 아니라 부패척결 머슴..문재인은 점잖은 성군\"   \n",
       "2017-01-03 22:29:00  [2017 대선의 꿈]②이재명 성남시장 \"혁명적 변화가 필요한 때..거친 야전형 장...   \n",
       "2017-01-04 14:57:00                       아인슈타인은 옳았다..왜 노동시간을 줄여야 하는가?   \n",
       "2017-01-06 19:33:00                      [책과 삶]기본소득 보장은 재앙이 아니라 미래의 대안   \n",
       "2017-01-08 21:04:00                           [사설]소득 불평등 해소 없으면 개혁 아니다   \n",
       "\n",
       "                    summary  \\\n",
       "datetime                      \n",
       "2017-01-03 18:00:00     NaN   \n",
       "2017-01-03 22:29:00     NaN   \n",
       "2017-01-04 14:57:00     NaN   \n",
       "2017-01-06 19:33:00     NaN   \n",
       "2017-01-08 21:04:00     NaN   \n",
       "\n",
       "                                                                  text  \\\n",
       "datetime                                                                 \n",
       "2017-01-03 18:00:00  [경향신문]\\n\\n촛불정국을 거치면서 야권의 유력 대선주자로 발돋움한 더불어민주당 ...   \n",
       "2017-01-03 22:29:00  [경향신문]\\n\\n촛불정국을 거치면서 야권의 유력 대선주자로 발돋움한 더불어민주당 ...   \n",
       "2017-01-04 14:57:00  [경향신문] 인공지능과 로봇, 3D 프린팅이 주도하는 4차 산업혁명이 일자리 킬러가...   \n",
       "2017-01-06 19:33:00  [경향신문] ㆍ기본소득이 세상을 바꾼다ㆍ오준호 지음 |개마고원 | 232쪽 | 1만...   \n",
       "2017-01-08 21:04:00  [경향신문] ㆍ구체제 청산을 위한 7대 과제\\n\\n덴마크에서 붙잡힌 최순실씨 딸 정...   \n",
       "\n",
       "                    extracted_category  \\\n",
       "datetime                                 \n",
       "2017-01-03 18:00:00               None   \n",
       "2017-01-03 22:29:00         2017 대선의 꿈   \n",
       "2017-01-04 14:57:00               None   \n",
       "2017-01-06 19:33:00               책과 삶   \n",
       "2017-01-08 21:04:00                 사설   \n",
       "\n",
       "                                                             sentences  \n",
       "datetime                                                                \n",
       "2017-01-03 18:00:00  [[경향신문]\\n\\n촛불정국을 거치면서 야권의 유력 대선주자로 발돋움한 더불어민주당...  \n",
       "2017-01-03 22:29:00  [[경향신문]\\n\\n촛불정국을 거치면서 야권의 유력 대선주자로 발돋움한 더불어민주당...  \n",
       "2017-01-04 14:57:00  [[경향신문] 인공지능과 로봇, 3D 프린팅이 주도하는 4차 산업혁명이 일자리 킬러...  \n",
       "2017-01-06 19:33:00  [[경향신문] ㆍ기본소득이 세상을 바꾼다ㆍ오준호 지음 |개마고원 | 232쪽 | 1...  \n",
       "2017-01-08 21:04:00  [[경향신문] ㆍ구체제 청산을 위한 7대 과제\\n\\n덴마크에서 붙잡힌 최순실씨 딸 ...  "
      ]
     },
     "execution_count": 42,
     "metadata": {},
     "output_type": "execute_result"
    }
   ],
   "source": [
    "dfs['경향신문'].head()"
   ]
  },
  {
   "cell_type": "markdown",
   "metadata": {},
   "source": [
    "Save!"
   ]
  },
  {
   "cell_type": "code",
   "execution_count": 93,
   "metadata": {},
   "outputs": [],
   "source": [
    "with open(PROJECT_DIR / 'data' / 'interim' / 'all_articles_1.pkl', 'wb') as fp:\n",
    "    pickle.dump(dfs, fp)"
   ]
  },
  {
   "cell_type": "markdown",
   "metadata": {},
   "source": [
    "Read"
   ]
  },
  {
   "cell_type": "code",
   "execution_count": 2,
   "metadata": {},
   "outputs": [],
   "source": [
    "with open(PROJECT_DIR / 'data' / 'interim' / 'all_articles_1.pkl', 'rb') as fp:\n",
    "    dfs = pickle.load(fp)"
   ]
  },
  {
   "cell_type": "markdown",
   "metadata": {},
   "source": [
    "# Prelim analysis"
   ]
  },
  {
   "cell_type": "markdown",
   "metadata": {},
   "source": [
    "## Set font"
   ]
  },
  {
   "cell_type": "code",
   "execution_count": null,
   "metadata": {},
   "outputs": [],
   "source": [
    "# 필요한 패키지와 라이브러리를 가져옴\n",
    "import matplotlib as mpl\n",
    "import matplotlib.pyplot as plt\n",
    "import matplotlib.font_manager as fm\n",
    "\n",
    "# 그래프에서 마이너스 폰트 깨지는 문제에 대한 대처\n",
    "mpl.rcParams['axes.unicode_minus'] = False\n",
    "\n",
    "print ('버전: ', mpl.__version__)\n",
    "print ('설치 위치: ', mpl.__file__)\n",
    "print ('설정 위치: ', mpl.get_configdir())\n",
    "print ('캐시 위치: ', mpl.get_cachedir())\n",
    "\n",
    "print ('설정파일 위치: ', mpl.matplotlib_fname())\n",
    "\n",
    "font_list = fm.findSystemFonts(fontpaths=None, fontext='ttf')\n",
    "\n",
    "# ttf 폰트 전체갯수\n",
    "print(len(font_list)) "
   ]
  },
  {
   "cell_type": "code",
   "execution_count": 64,
   "metadata": {},
   "outputs": [
    {
     "data": {
      "text/plain": [
       "[('NanumBarunGothic', 'C:\\\\Windows\\\\Fonts\\\\NanumBarunGothic.ttf'),\n",
       " ('NanumBarunGothic', 'C:\\\\WINDOWS\\\\Fonts\\\\NanumBarunGothic.ttf'),\n",
       " ('Nanum Pen Script', 'C:\\\\WINDOWS\\\\Fonts\\\\NanumPen.ttf'),\n",
       " ('NanumBarunGothic', 'C:\\\\Windows\\\\Fonts\\\\NanumBarunGothicLight.ttf'),\n",
       " ('NanumSquare', 'C:\\\\WINDOWS\\\\Fonts\\\\NanumSquareL.ttf'),\n",
       " ('NanumSquare', 'C:\\\\Windows\\\\Fonts\\\\NanumSquareEB.ttf'),\n",
       " ('NanumBarunGothic', 'C:\\\\WINDOWS\\\\Fonts\\\\NanumBarunGothicLight.ttf'),\n",
       " ('NanumSquare', 'C:\\\\WINDOWS\\\\Fonts\\\\NanumSquareR.ttf'),\n",
       " ('Nanum Brush Script', 'C:\\\\Windows\\\\Fonts\\\\NanumBrush.ttf'),\n",
       " ('NanumBarunGothic', 'C:\\\\Windows\\\\Fonts\\\\NanumBarunGothicBold.ttf'),\n",
       " ('NanumSquare', 'C:\\\\WINDOWS\\\\Fonts\\\\NanumSquareEB.ttf'),\n",
       " ('NanumSquare', 'C:\\\\WINDOWS\\\\Fonts\\\\NanumSquareB.ttf'),\n",
       " ('NanumBarunGothic', 'C:\\\\Windows\\\\Fonts\\\\NanumBarunGothicUltraLight.ttf'),\n",
       " ('NanumSquare', 'C:\\\\Windows\\\\Fonts\\\\NanumSquareL.ttf'),\n",
       " ('NanumBarunGothic', 'C:\\\\WINDOWS\\\\Fonts\\\\NanumBarunGothicUltraLight.ttf'),\n",
       " ('Nanum Brush Script', 'C:\\\\WINDOWS\\\\Fonts\\\\NanumBrush.ttf'),\n",
       " ('NanumSquare', 'C:\\\\Windows\\\\Fonts\\\\NanumSquareB.ttf'),\n",
       " ('NanumBarunGothic', 'C:\\\\WINDOWS\\\\Fonts\\\\NanumBarunGothicBold.ttf'),\n",
       " ('Nanum Pen Script', 'C:\\\\Windows\\\\Fonts\\\\NanumPen.ttf'),\n",
       " ('NanumSquare', 'C:\\\\Windows\\\\Fonts\\\\NanumSquareR.ttf')]"
      ]
     },
     "execution_count": 64,
     "metadata": {},
     "output_type": "execute_result"
    }
   ],
   "source": [
    "[(f.name, f.fname) for f in fm.fontManager.ttflist if 'Nanum' in f.name]"
   ]
  },
  {
   "cell_type": "markdown",
   "metadata": {},
   "source": [
    "## Basic Info"
   ]
  },
  {
   "cell_type": "code",
   "execution_count": 66,
   "metadata": {},
   "outputs": [
    {
     "data": {
      "image/png": "[encoded data removed]",
      "text/plain": [
       "<Figure size 864x648 with 4 Axes>"
      ]
     },
     "metadata": {
      "needs_background": "light"
     },
     "output_type": "display_data"
    }
   ],
   "source": [
    "fig, axes = plt.subplots(4, 1, figsize=(12, 9), sharex=True)\n",
    "for i, (k, v) in enumerate(dfs.items()):\n",
    "    v.resample('M').title.count().plot(ax=axes[i])\n",
    "    axes[i].set_title(k)\n",
    "    \n",
    "plt.tight_layout()"
   ]
  },
  {
   "cell_type": "code",
   "execution_count": 38,
   "metadata": {},
   "outputs": [
    {
     "data": {
      "image/png": "[encoded data removed]",
      "text/plain": [
       "<Figure size 432x288 with 1 Axes>"
      ]
     },
     "metadata": {
      "needs_background": "light"
     },
     "output_type": "display_data"
    }
   ],
   "source": [
    "fig, ax = plt.subplots(1, 1, )\n",
    "for k, v in dfs.items():\n",
    "    v.resample('M').title.count().plot(ax=ax, label=k, alpha=0.75)\n",
    "ax.legend()\n",
    "ax.set_title(\"월별 '기본소득' 포함 기사 개수\")\n",
    "plt.tight_layout()"
   ]
  },
  {
   "cell_type": "code",
   "execution_count": 39,
   "metadata": {},
   "outputs": [
    {
     "name": "stdout",
     "output_type": "stream",
     "text": [
      "{'경향신문': 672, '동아일보': 239, '조선일보': 403, '한겨레': 746}\n",
      "Total: 2060\n"
     ]
    }
   ],
   "source": [
    "lengths = {k: v.shape[0] for k, v in dfs.items()}\n",
    "overall_sum = sum(lengths.values())\n",
    "print(lengths)\n",
    "print(f\"Total: {overall_sum}\")"
   ]
  },
  {
   "cell_type": "code",
   "execution_count": 77,
   "metadata": {},
   "outputs": [
    {
     "data": {
      "text/html": [
       "<div>\n",
       "<style scoped>\n",
       "    .dataframe tbody tr th:only-of-type {\n",
       "        vertical-align: middle;\n",
       "    }\n",
       "\n",
       "    .dataframe tbody tr th {\n",
       "        vertical-align: top;\n",
       "    }\n",
       "\n",
       "    .dataframe thead th {\n",
       "        text-align: right;\n",
       "    }\n",
       "</style>\n",
       "<table border=\"1\" class=\"dataframe\">\n",
       "  <thead>\n",
       "    <tr style=\"text-align: right;\">\n",
       "      <th></th>\n",
       "      <th>extracted_category</th>\n",
       "    </tr>\n",
       "  </thead>\n",
       "  <tbody>\n",
       "    <tr>\n",
       "      <th>사설</th>\n",
       "      <td>16</td>\n",
       "    </tr>\n",
       "    <tr>\n",
       "      <th>세상읽기</th>\n",
       "      <td>11</td>\n",
       "    </tr>\n",
       "    <tr>\n",
       "      <th>정동칼럼</th>\n",
       "      <td>10</td>\n",
       "    </tr>\n",
       "    <tr>\n",
       "      <th>경제와 세상</th>\n",
       "      <td>9</td>\n",
       "    </tr>\n",
       "    <tr>\n",
       "      <th>경향포럼</th>\n",
       "      <td>8</td>\n",
       "    </tr>\n",
       "    <tr>\n",
       "      <th>전문</th>\n",
       "      <td>7</td>\n",
       "    </tr>\n",
       "    <tr>\n",
       "      <th>오늘은 이런 경향</th>\n",
       "      <td>7</td>\n",
       "    </tr>\n",
       "    <tr>\n",
       "      <th>기고</th>\n",
       "      <td>6</td>\n",
       "    </tr>\n",
       "    <tr>\n",
       "      <th>편집국에서</th>\n",
       "      <td>4</td>\n",
       "    </tr>\n",
       "    <tr>\n",
       "      <th>헌법 11.0 다시 쓰는 시민계약</th>\n",
       "      <td>4</td>\n",
       "    </tr>\n",
       "    <tr>\n",
       "      <th>지금, 여기</th>\n",
       "      <td>4</td>\n",
       "    </tr>\n",
       "    <tr>\n",
       "      <th>단독</th>\n",
       "      <td>4</td>\n",
       "    </tr>\n",
       "    <tr>\n",
       "      <th>속보</th>\n",
       "      <td>4</td>\n",
       "    </tr>\n",
       "    <tr>\n",
       "      <th>여적</th>\n",
       "      <td>4</td>\n",
       "    </tr>\n",
       "    <tr>\n",
       "      <th>책과 삶</th>\n",
       "      <td>4</td>\n",
       "    </tr>\n",
       "    <tr>\n",
       "      <th>성남시</th>\n",
       "      <td>4</td>\n",
       "    </tr>\n",
       "    <tr>\n",
       "      <th>2017 시민의 선택</th>\n",
       "      <td>3</td>\n",
       "    </tr>\n",
       "    <tr>\n",
       "      <th>정태인의 경제시평</th>\n",
       "      <td>3</td>\n",
       "    </tr>\n",
       "    <tr>\n",
       "      <th>경기도</th>\n",
       "      <td>3</td>\n",
       "    </tr>\n",
       "    <tr>\n",
       "      <th>학교의 안과 밖</th>\n",
       "      <td>3</td>\n",
       "    </tr>\n",
       "  </tbody>\n",
       "</table>\n",
       "</div>"
      ],
      "text/plain": [
       "                    extracted_category\n",
       "사설                                  16\n",
       "세상읽기                                11\n",
       "정동칼럼                                10\n",
       "경제와 세상                               9\n",
       "경향포럼                                 8\n",
       "전문                                   7\n",
       "오늘은 이런 경향                            7\n",
       "기고                                   6\n",
       "편집국에서                                4\n",
       "헌법 11.0 다시 쓰는 시민계약                   4\n",
       "지금, 여기                               4\n",
       "단독                                   4\n",
       "속보                                   4\n",
       "여적                                   4\n",
       "책과 삶                                 4\n",
       "성남시                                  4\n",
       "2017 시민의 선택                          3\n",
       "정태인의 경제시평                            3\n",
       "경기도                                  3\n",
       "학교의 안과 밖                             3"
      ]
     },
     "execution_count": 77,
     "metadata": {},
     "output_type": "execute_result"
    }
   ],
   "source": [
    "dfs['경향신문'].extracted_category.value_counts().to_frame().head(20)"
   ]
  },
  {
   "cell_type": "markdown",
   "metadata": {},
   "source": [
    "# Locating keyword\n",
    "How shall we do it?"
   ]
  },
  {
   "cell_type": "code",
   "execution_count": 40,
   "metadata": {},
   "outputs": [],
   "source": [
    "bi = re.compile(r' 기본 ?소득')"
   ]
  },
  {
   "cell_type": "code",
   "execution_count": null,
   "metadata": {},
   "outputs": [],
   "source": [
    "sentences = df.sentences.iloc[-1]"
   ]
  },
  {
   "cell_type": "code",
   "execution_count": 9,
   "metadata": {},
   "outputs": [
    {
     "name": "stdout",
     "output_type": "stream",
     "text": [
      "[[], [], [], [(18, 22)], [], [], [], [], [(0, 4)], [], [], [], [], [], [], [], [], [], []]\n"
     ]
    }
   ],
   "source": [
    "res = [[m.span() for m in bi.finditer(s)] for s in sentences]\n",
    "print(res)"
   ]
  },
  {
   "cell_type": "markdown",
   "metadata": {},
   "source": [
    "Now count on a whole dataset"
   ]
  },
  {
   "cell_type": "code",
   "execution_count": 31,
   "metadata": {},
   "outputs": [],
   "source": [
    "df = dfs['경향신문']\n",
    "\n",
    "df.loc[:, 'kw_locs'] = df.sentences.apply(lambda sentences: [[m.span() for m in bi.finditer(s)] for s in sentences])\n",
    "\n",
    "df.loc[:, 'kw_count'] = df.kw_locs.apply(lambda locs: sum(len(l) for l in locs))"
   ]
  },
  {
   "cell_type": "code",
   "execution_count": 47,
   "metadata": {},
   "outputs": [
    {
     "data": {
      "image/png": "[encoded data removed]",
      "text/plain": [
       "<Figure size 648x288 with 1 Axes>"
      ]
     },
     "metadata": {
      "needs_background": "light"
     },
     "output_type": "display_data"
    }
   ],
   "source": [
    "fig, ax = plt.subplots(figsize=(9, 4),)\n",
    "df.resample('M').title.count().plot(ax=ax, label='\\'기본소득\\'이 1번 이상 등장하는 기사 개수')\n",
    "(df.kw_count > 4).astype(int).resample('M').sum().plot(ax = ax, label='\\'기본소득\\'이 5번 이상 등장하는 기사 개수')\n",
    "ax.set_title('[경향신문] 월별 \\'기본소득\\' 키워드 포함 기사 개수')\n",
    "ax.legend()\n",
    "plt.tight_layout()\n",
    "plt.show()"
   ]
  },
  {
   "cell_type": "code",
   "execution_count": 48,
   "metadata": {},
   "outputs": [],
   "source": [
    "for k, df in dfs.items():\n",
    "    dfs[k].loc[:, 'kw_locs'] = df.sentences.apply(lambda sentences: [[m.span() for m in bi.finditer(s)] for s in sentences])\n",
    "    dfs[k].loc[:, 'kw_count'] = df.kw_locs.apply(lambda locs: sum(len(l) for l in locs))"
   ]
  },
  {
   "cell_type": "code",
   "execution_count": 49,
   "metadata": {},
   "outputs": [
    {
     "data": {
      "image/png": "[encoded data removed]",
      "text/plain": [
       "<Figure size 648x216 with 1 Axes>"
      ]
     },
     "metadata": {
      "needs_background": "light"
     },
     "output_type": "display_data"
    },
    {
     "data": {
      "image/png": "[encoded data removed]",
      "text/plain": [
       "<Figure size 648x216 with 1 Axes>"
      ]
     },
     "metadata": {
      "needs_background": "light"
     },
     "output_type": "display_data"
    },
    {
     "data": {
      "image/png": "[encoded data removed]",
      "text/plain": [
       "<Figure size 648x216 with 1 Axes>"
      ]
     },
     "metadata": {
      "needs_background": "light"
     },
     "output_type": "display_data"
    },
    {
     "data": {
      "image/png": "[encoded data removed]",
      "text/plain": [
       "<Figure size 648x216 with 1 Axes>"
      ]
     },
     "metadata": {
      "needs_background": "light"
     },
     "output_type": "display_data"
    }
   ],
   "source": [
    "for k, df in dfs.items():\n",
    "    fig, ax = plt.subplots(figsize=(9, 3),)\n",
    "    df.resample('M').title.count().plot(ax=ax, label='\\'기본소득\\'이 1번 이상 등장하는 기사 개수')\n",
    "    (df.kw_count > 4).astype(int).resample('M').sum().plot(ax = ax, label='\\'기본소득\\'이 5번 이상 등장하는 기사 개수')\n",
    "    ax.set_title(f'[{k}] 월별 \\'기본소득\\' 키워드 포함 기사 개수')\n",
    "    ax.legend()\n",
    "    plt.tight_layout()\n",
    "    plt.show()"
   ]
  },
  {
   "cell_type": "code",
   "execution_count": 51,
   "metadata": {},
   "outputs": [],
   "source": [
    "more_than_once = []\n",
    "more_than_5 = []\n",
    "\n",
    "for k, df in dfs.items():\n",
    "    more_than_once.append(df.resample('M').title.count())\n",
    "    more_than_5.append((df.kw_count > 4).astype(int).resample('M').sum())"
   ]
  },
  {
   "cell_type": "code",
   "execution_count": 64,
   "metadata": {},
   "outputs": [
    {
     "data": {
      "image/png": "[encoded data removed]",
      "text/plain": [
       "<Figure size 648x216 with 1 Axes>"
      ]
     },
     "metadata": {
      "needs_background": "light"
     },
     "output_type": "display_data"
    }
   ],
   "source": [
    "fig, ax = plt.subplots(figsize=(9, 3),)\n",
    "sum(more_than_once).sort_index().plot(ax=ax, label='\\'기본소득\\'이 1번 이상 등장하는 기사 개수')\n",
    "sum(more_than_5).sort_index().plot(ax = ax, label='\\'기본소득\\'이 5번 이상 등장하는 기사 개수')\n",
    "ax.set_title('4개 언론 월별 \\'기본소득\\' 키워드 포함 기사 개수')\n",
    "ax.legend()\n",
    "plt.tight_layout()\n",
    "plt.show()"
   ]
  },
  {
   "cell_type": "code",
   "execution_count": 66,
   "metadata": {},
   "outputs": [
    {
     "data": {
      "text/plain": [
       "'\\n\\n이재명 경기지사가 성남시에서 청년배당으로 시작한 기본소득 정책을 경기도에서 점차 확대해 나가겠다고 밝혔다. 이 지사는 먼저 청년배당을 경기도 전 지역으로 확대하고, 나아가 지방세나 국토보유세를 신설해 기본소득 지급 대상을 확대해야 한다고 밝혔다. 지난 1일 경기도지사로 취임한 그는 4일 <한겨레> 와의 인터뷰에서 복지는 투자이고 지속가능한 성장 방안이라며 경기도에 기본소득위원회를 구성해서 재임 중 청년배당 등 기본소득 지급을 확대하겠다고 말했다.\\n\\n산후조리·교복 무상화 등 성남 3대 복지 경기 전역 확대 총예산 2000억…시·군 협력해야\\n\\n정부의 남북협력사업 실현시키고 서울·인천과 상시 협력체계 구축 시민 참여한 협치위 꾸릴 계획도\\n\\n대선 야망 위해 지위 활용 않겠다 도지사 다시 세우자 하게 만들 것\\n\\n- 민선 7기 도정 방향은?\\n\\n기본에 충실한 경기도를 만들고 싶다. 불공정, 부정의가 아니라 공정한 경쟁이 통하는 경기도, 도민이 삶 속에서 주인임을 체감하는 경기도를 만들겠다.\\n\\n- 성남시의 이재명 3대 무상복지는 경기도로 확대되나?\\n\\n3대 무상복지 정책은 도 전역에 확대하겠다. 특히 생애주기별 맞춤형 복지정책을 하겠다. 성남시에서 2016년부터 초등학교 4학년 모두에게 치과 주치의제를 시행했다. 유치에서 영구치로 바뀔 때 부모 대신 동네 치과가 신경을 써주는 것이다. 1명당 4만원 정도 비용으로 성남시 초등학교 4학년 학생 전체를 대상으로 한해 3억원 정도 들었는데, 부모들이 대만족했다. 이런 저비용 고효율의 복지 정책이 얼마든지 가능하다.\\n\\n- 재원이 있나?\\n\\n청년배당에 1800억원을 비롯해 무상산후조리와 무상교복 등 3대 무상복지 정책에 연간 2000억원 정도 예산이 들 것으로 보인다. 불요불급한 예산 조정과 철저한 세금 징수, 시·군과의 협력을 통해 재원 확보가 가능하다.\\n\\n- 재임 중 기본소득 정책 시범 운영을 약속했다.\\n\\n청년배당은 넓은 의미에서 기본소득 정책이다. 경기도 기본소득위원회를 설치해 청년배당 사업모델을 개발하고 내년부터 시범 운영할 것이다. 복지는 투자이고 지속성장 방안이다. 청년배당을 하면서 지역화폐를 도입하면 골목상권이 살고 지역이 살아난다는 사실이 성남시에서 실증됐다.\\n\\n- 기본소득 정책을 더 확대할 것인가?\\n\\n전체 도민을 대상으로 하는 기본소득 정책은 현재로서는 독자적으로 재원을 마련하기 어렵다. 앞으로 지방정부의 권한이 강화되면 기본소득 재원 마련을 위한 지방세를 신설하거나 토지 이익을 환수하는 국토보유세를 신설해야 한다. 토지를 통한 지대 추구를 원천적으로 막을 수는 없지만, 그중 일부를 환수해서 시민들에게 기본소득으로 되돌려주는 것은 가능하다.\\n\\n- 남북의 접경인 경기도를 한반도의 새로운 경제중심으로 만들겠다고 했는데.\\n\\n대한민국 전체의 경영은 문재인 대통령이 잘하고 있다. 그러나 문재인 정부가 만들려는 나라다운 나라는 결국 지역에서 구현될 수밖에 없다. 내 핵심 과제의 하나는 공정한 나라이고, 다른 하나는 평화로운 나라다. 남북간 철도 연결, 전력과 에너지 협력, 남북 경제특구 건설 등 문 정부의 정책이 경기도에서 확실하게 실현될 수 있도록 하겠다.\\n\\n- 재임 중에 경기 퍼스트를 하겠다고 공약했다.\\n\\n서울외곽순환고속도로의 명칭부터 경기순환고속도로로 바꾸겠다. 경기는 서울의 외곽이 아니라 서울과 협력하고 공생하는 독자적인 지역이다. 서울과 대립하자는 게 아니라 서로 합리적으로 존중하고 협력하자는 거다.\\n\\n- 서울, 경기, 인천의 단체장이 민주당 소속이다. 협력의 가능성이 높아졌는데?\\n\\n수도권은 사실상 하나의 생활권이다. 선거 때도 세 사람이 한번 만났고 미세먼지, 교통, 쓰레기 등 문제를 서로 공유하고 있다. 이런 협력관계를 공통의 과제에 대해 상시적으로 책임있게 논의하는 협력체계로 격상시키는 방안을 서울과 인천에 제안하겠다.\\n\\n- 경기도 의회도 민주당이 90% 이상 장악했다. 전임 지사의 정책인 연정은 계속하나?\\n\\n연정은 입장이 다른 정치세력 간에 권한을 나누는 것이다. 여소야대에서 필요하지만 현재는 연정을 유지할 필요가 없다. 정당 간 연정보다는 주권자인 도민들의 의사를 반영하는 도 정부-시민 사이의 협치로 바꾸겠다. 상설기구로 가칭 협치위원회를 두고 도 행정부, 도 의회, 시민사회, 그리고 가능하다면 31개 시·군과 함께 중요 정책에 대해 입안 단계에서부터 머리를 맞대겠다.\\n\\n- 이번 지방선거에서 가장 관심과 기대를 받은 후보 중 하나다.\\n\\n그게 부담이다. 성남에서 잘했으니까 경기도에도 큰 도움이 되지 않을까 하는 기대가 있다. 이에 상응하는 책임감을 느낀다.\\n\\n- 사람들이 다음 대선에 나갈 것으로 생각한다.\\n\\n그것은 경기도민들이 가장 우려하는 부분이다. 내 정치적 야망을 충족하려고 도지사 지위를 활용하는 게 아니냐는 우려가 많다. 그렇게 할 생각이 없다. 도정을 성공적으로 수행해서 도민들이 다시 도지사로 세우자고 생각하게 만드는 것이 내 목표다.\\n\\n- 대선 도전은 모든 정치인의 꿈 아닌가?\\n\\n억강부약 대동세상 (강한 자를 누르고 약한 자를 돕는, 모두가 어우러지는 세상) 을 이루는 것이 꿈이다. 나라다운 나라 공정한 나라를 만드는 것이 꿈이다.\\n\\n홍용덕 기자 ydhong@hani.co.kr'"
      ]
     },
     "execution_count": 66,
     "metadata": {},
     "output_type": "execute_result"
    }
   ],
   "source": [
    "df[df.kw_count > 4].sample().iloc[0].text"
   ]
  },
  {
   "cell_type": "markdown",
   "metadata": {},
   "source": [
    "# POS tagging"
   ]
  },
  {
   "cell_type": "code",
   "execution_count": 86,
   "metadata": {},
   "outputs": [],
   "source": [
    "from konlpy.tag import Hannanum"
   ]
  },
  {
   "cell_type": "code",
   "execution_count": 87,
   "metadata": {},
   "outputs": [],
   "source": [
    "hannanum = Hannanum()\n",
    "# hannanum.analyze()"
   ]
  },
  {
   "cell_type": "code",
   "execution_count": 88,
   "metadata": {},
   "outputs": [],
   "source": [
    "def extract_nouns(sentences):\n",
    "    noun_sentences = []\n",
    "    for s in sentences:\n",
    "        nouns = []\n",
    "        tagged_sentence = hannanum.pos(s)\n",
    "        for w, t in tagged_sentence:\n",
    "            if t == 'N':\n",
    "                nouns.append(w)\n",
    "        noun_sentences.append(nouns)\n",
    "    return noun_sentences"
   ]
  },
  {
   "cell_type": "code",
   "execution_count": 89,
   "metadata": {},
   "outputs": [],
   "source": [
    "for k, v in dfs.items():\n",
    "    dfs[k].loc[:, 'nouns'] = v.sentences.apply(extract_nouns)"
   ]
  },
  {
   "cell_type": "code",
   "execution_count": 105,
   "metadata": {},
   "outputs": [],
   "source": [
    "split_date = pd.Timestamp(2020, 2, 25)\n",
    "k = '경향신문'\n",
    "b = dfs[k].loc[dfs[k].index < split_date].sentences.apply(extract_nouns)\n",
    "a = dfs[k].loc[dfs[k].index >= split_date].sentences.apply(extract_nouns)"
   ]
  },
  {
   "cell_type": "code",
   "execution_count": 99,
   "metadata": {},
   "outputs": [],
   "source": [
    "def get_word_count(series):\n",
    "    all_words = pd.concat([pd.Series(x) for x in series])\n",
    "    return all_words.value_counts().to_frame().reset_index().rename(columns={'index': 'noun', 0: 'count'})"
   ]
  },
  {
   "cell_type": "code",
   "execution_count": null,
   "metadata": {},
   "outputs": [],
   "source": []
  },
  {
   "cell_type": "code",
   "execution_count": 117,
   "metadata": {},
   "outputs": [],
   "source": [
    "terms_containing_기본소득 += b_word_count.noun.tolist() + a_word_count.noun.tolist()"
   ]
  },
  {
   "cell_type": "code",
   "execution_count": 118,
   "metadata": {},
   "outputs": [],
   "source": [
    "u = pd.Series(pd.Series(terms_containing_기본소득).unique()).apply(lambda x: x if '기본소득' in x else None)"
   ]
  },
  {
   "cell_type": "code",
   "execution_count": 120,
   "metadata": {},
   "outputs": [
    {
     "data": {
      "text/plain": [
       "['기본소득',\n",
       " '기본소득보장제',\n",
       " '기본소득제',\n",
       " '기본소득형',\n",
       " '청년기본소득',\n",
       " '기본소득권',\n",
       " '기본소득법',\n",
       " '기본소득지구네트워크',\n",
       " '기본소득당',\n",
       " '농가기본소득도입위원회',\n",
       " '청년기본소득사업',\n",
       " '기본소득하의',\n",
       " '기본소득론',\n",
       " '기본소득박람회',\n",
       " '기본소득한국네트워크',\n",
       " '재난기본소득',\n",
       " '기본소득토지세',\n",
       " '기본소득위원회',\n",
       " '재난기본소득제',\n",
       " '청년기본소득제도',\n",
       " '재난기본소득지급',\n",
       " '국민기본소득제',\n",
       " '농민기본소득',\n",
       " '정치기본소득',\n",
       " '기본소득제도',\n",
       " '언론기본소득',\n",
       " '온국민기본소득운동본부',\n",
       " '농촌기본소득',\n",
       " '기본소득안',\n",
       " '기본소득네트워크',\n",
       " '기본소득보장',\n",
       " '기본소득지방정부협의회',\n",
       " '기본소득청소년네트워크',\n",
       " '녹색기본소득',\n",
       " '기본소득운동',\n",
       " '기본소득론자들',\n",
       " '농민기본소득추진위',\n",
       " '국민기본소득',\n",
       " '기본소득용',\n",
       " '기본소득연구그룹',\n",
       " '농민기본소득추진',\n",
       " '기본소득검증',\n",
       " '필요기본소득',\n",
       " '기본소득지구',\n",
       " '기본소득연구단장',\n",
       " '농민기본소득보장제',\n",
       " '기본소득인가',\n",
       " '기본소득만',\n",
       " '기본소득인도네트워크',\n",
       " '기본소득이냐',\n",
       " '기본소득정책',\n",
       " '정치기본소득제',\n",
       " '기본소득론자',\n",
       " '시민기본소득',\n",
       " '기본소득도입',\n",
       " '국가기본소득위원회',\n",
       " '언론기본소득재단',\n",
       " '이어받아기본소득',\n",
       " '시민기본소득트러스트',\n",
       " '청년기본소득제',\n",
       " '기본소득동맹',\n",
       " '농민기본소득관',\n",
       " '기본소득프로젝트팀',\n",
       " '농민기본소득제',\n",
       " '재난기본소득법안',\n",
       " '경기도재난기본소득',\n",
       " '기본소득한국네트',\n",
       " '기본소득신진연구자네트워크',\n",
       " '시군재난기본소득',\n",
       " '경기재난기본소득',\n",
       " '기본소득사업',\n",
       " '기본소득연구포럼',\n",
       " '기본소득세',\n",
       " '기본소득이다',\n",
       " '재산기본소득',\n",
       " '기본소득모임']"
      ]
     },
     "execution_count": 120,
     "metadata": {},
     "output_type": "execute_result"
    }
   ],
   "source": [
    "u[u.notnull()].tolist()"
   ]
  },
  {
   "cell_type": "code",
   "execution_count": null,
   "metadata": {},
   "outputs": [],
   "source": []
  },
  {
   "cell_type": "code",
   "execution_count": 115,
   "metadata": {},
   "outputs": [],
   "source": [
    "b_word_count = get_word_count(b)"
   ]
  },
  {
   "cell_type": "code",
   "execution_count": 116,
   "metadata": {},
   "outputs": [],
   "source": [
    "a_word_count = get_word_count(a)"
   ]
  },
  {
   "cell_type": "code",
   "execution_count": 102,
   "metadata": {},
   "outputs": [
    {
     "data": {
      "text/html": [
       "<div>\n",
       "<style scoped>\n",
       "    .dataframe tbody tr th:only-of-type {\n",
       "        vertical-align: middle;\n",
       "    }\n",
       "\n",
       "    .dataframe tbody tr th {\n",
       "        vertical-align: top;\n",
       "    }\n",
       "\n",
       "    .dataframe thead th {\n",
       "        text-align: right;\n",
       "    }\n",
       "</style>\n",
       "<table border=\"1\" class=\"dataframe\">\n",
       "  <thead>\n",
       "    <tr style=\"text-align: right;\">\n",
       "      <th></th>\n",
       "      <th>noun</th>\n",
       "      <th>count</th>\n",
       "    </tr>\n",
       "  </thead>\n",
       "  <tbody>\n",
       "    <tr>\n",
       "      <th>5</th>\n",
       "      <td>기본소득</td>\n",
       "      <td>163</td>\n",
       "    </tr>\n",
       "    <tr>\n",
       "      <th>387</th>\n",
       "      <td>기본소득보장제</td>\n",
       "      <td>12</td>\n",
       "    </tr>\n",
       "    <tr>\n",
       "      <th>441</th>\n",
       "      <td>기본소득제</td>\n",
       "      <td>11</td>\n",
       "    </tr>\n",
       "    <tr>\n",
       "      <th>513</th>\n",
       "      <td>기본소득형</td>\n",
       "      <td>10</td>\n",
       "    </tr>\n",
       "    <tr>\n",
       "      <th>1194</th>\n",
       "      <td>청년기본소득</td>\n",
       "      <td>4</td>\n",
       "    </tr>\n",
       "    <tr>\n",
       "      <th>2734</th>\n",
       "      <td>기본소득권</td>\n",
       "      <td>2</td>\n",
       "    </tr>\n",
       "    <tr>\n",
       "      <th>3302</th>\n",
       "      <td>기본소득법</td>\n",
       "      <td>1</td>\n",
       "    </tr>\n",
       "    <tr>\n",
       "      <th>3479</th>\n",
       "      <td>기본소득지구네트워크</td>\n",
       "      <td>1</td>\n",
       "    </tr>\n",
       "    <tr>\n",
       "      <th>5269</th>\n",
       "      <td>기본소득당</td>\n",
       "      <td>1</td>\n",
       "    </tr>\n",
       "    <tr>\n",
       "      <th>5341</th>\n",
       "      <td>농가기본소득도입위원회</td>\n",
       "      <td>1</td>\n",
       "    </tr>\n",
       "    <tr>\n",
       "      <th>5523</th>\n",
       "      <td>청년기본소득사업</td>\n",
       "      <td>1</td>\n",
       "    </tr>\n",
       "    <tr>\n",
       "      <th>5665</th>\n",
       "      <td>기본소득하의</td>\n",
       "      <td>1</td>\n",
       "    </tr>\n",
       "    <tr>\n",
       "      <th>5765</th>\n",
       "      <td>기본소득론</td>\n",
       "      <td>1</td>\n",
       "    </tr>\n",
       "    <tr>\n",
       "      <th>6628</th>\n",
       "      <td>기본소득박람회</td>\n",
       "      <td>1</td>\n",
       "    </tr>\n",
       "    <tr>\n",
       "      <th>6838</th>\n",
       "      <td>기본소득한국네트워크</td>\n",
       "      <td>1</td>\n",
       "    </tr>\n",
       "  </tbody>\n",
       "</table>\n",
       "</div>"
      ],
      "text/plain": [
       "             noun  count\n",
       "5            기본소득    163\n",
       "387       기본소득보장제     12\n",
       "441         기본소득제     11\n",
       "513         기본소득형     10\n",
       "1194       청년기본소득      4\n",
       "2734        기본소득권      2\n",
       "3302        기본소득법      1\n",
       "3479   기본소득지구네트워크      1\n",
       "5269        기본소득당      1\n",
       "5341  농가기본소득도입위원회      1\n",
       "5523     청년기본소득사업      1\n",
       "5665       기본소득하의      1\n",
       "5765        기본소득론      1\n",
       "6628      기본소득박람회      1\n",
       "6838   기본소득한국네트워크      1"
      ]
     },
     "execution_count": 102,
     "metadata": {},
     "output_type": "execute_result"
    }
   ],
   "source": [
    "d = b_word_count\n",
    "d.loc[d.noun.apply(lambda x: '기본소득' in x)]"
   ]
  },
  {
   "cell_type": "code",
   "execution_count": 103,
   "metadata": {},
   "outputs": [
    {
     "data": {
      "text/html": [
       "<div>\n",
       "<style scoped>\n",
       "    .dataframe tbody tr th:only-of-type {\n",
       "        vertical-align: middle;\n",
       "    }\n",
       "\n",
       "    .dataframe tbody tr th {\n",
       "        vertical-align: top;\n",
       "    }\n",
       "\n",
       "    .dataframe thead th {\n",
       "        text-align: right;\n",
       "    }\n",
       "</style>\n",
       "<table border=\"1\" class=\"dataframe\">\n",
       "  <thead>\n",
       "    <tr style=\"text-align: right;\">\n",
       "      <th></th>\n",
       "      <th>noun</th>\n",
       "      <th>count</th>\n",
       "    </tr>\n",
       "  </thead>\n",
       "  <tbody>\n",
       "    <tr>\n",
       "      <th>4</th>\n",
       "      <td>기본소득</td>\n",
       "      <td>335</td>\n",
       "    </tr>\n",
       "    <tr>\n",
       "      <th>10</th>\n",
       "      <td>재난기본소득</td>\n",
       "      <td>202</td>\n",
       "    </tr>\n",
       "    <tr>\n",
       "      <th>163</th>\n",
       "      <td>기본소득제</td>\n",
       "      <td>35</td>\n",
       "    </tr>\n",
       "    <tr>\n",
       "      <th>1175</th>\n",
       "      <td>청년기본소득</td>\n",
       "      <td>6</td>\n",
       "    </tr>\n",
       "    <tr>\n",
       "      <th>1407</th>\n",
       "      <td>기본소득토지세</td>\n",
       "      <td>5</td>\n",
       "    </tr>\n",
       "    <tr>\n",
       "      <th>2804</th>\n",
       "      <td>기본소득박람회</td>\n",
       "      <td>2</td>\n",
       "    </tr>\n",
       "    <tr>\n",
       "      <th>3718</th>\n",
       "      <td>기본소득위원회</td>\n",
       "      <td>1</td>\n",
       "    </tr>\n",
       "    <tr>\n",
       "      <th>3800</th>\n",
       "      <td>기본소득법</td>\n",
       "      <td>1</td>\n",
       "    </tr>\n",
       "    <tr>\n",
       "      <th>4340</th>\n",
       "      <td>기본소득당</td>\n",
       "      <td>1</td>\n",
       "    </tr>\n",
       "    <tr>\n",
       "      <th>4359</th>\n",
       "      <td>재난기본소득제</td>\n",
       "      <td>1</td>\n",
       "    </tr>\n",
       "    <tr>\n",
       "      <th>4661</th>\n",
       "      <td>청년기본소득제도</td>\n",
       "      <td>1</td>\n",
       "    </tr>\n",
       "    <tr>\n",
       "      <th>7108</th>\n",
       "      <td>재난기본소득지급</td>\n",
       "      <td>1</td>\n",
       "    </tr>\n",
       "  </tbody>\n",
       "</table>\n",
       "</div>"
      ],
      "text/plain": [
       "          noun  count\n",
       "4         기본소득    335\n",
       "10      재난기본소득    202\n",
       "163      기본소득제     35\n",
       "1175    청년기본소득      6\n",
       "1407   기본소득토지세      5\n",
       "2804   기본소득박람회      2\n",
       "3718   기본소득위원회      1\n",
       "3800     기본소득법      1\n",
       "4340     기본소득당      1\n",
       "4359   재난기본소득제      1\n",
       "4661  청년기본소득제도      1\n",
       "7108  재난기본소득지급      1"
      ]
     },
     "execution_count": 103,
     "metadata": {},
     "output_type": "execute_result"
    }
   ],
   "source": [
    "d = a_word_count\n",
    "d.loc[d.noun.apply(lambda x: '기본소득' in x)]"
   ]
  },
  {
   "cell_type": "code",
   "execution_count": 128,
   "metadata": {},
   "outputs": [],
   "source": [
    "d.to_csv(PROJECT_DIR / 'data' / 'processed' / '동아일보_noun_count_20200225-.csv', index=False)"
   ]
  },
  {
   "cell_type": "code",
   "execution_count": 129,
   "metadata": {},
   "outputs": [
    {
     "data": {
      "text/plain": [
       "(7833, 2)"
      ]
     },
     "execution_count": 129,
     "metadata": {},
     "output_type": "execute_result"
    }
   ],
   "source": [
    "d.shape"
   ]
  },
  {
   "cell_type": "code",
   "execution_count": 67,
   "metadata": {},
   "outputs": [],
   "source": [
    "d = pd.read_csv(PROJECT_DIR / 'data' / 'processed' / '동아일보_noun_count.csv')\n",
    "e = pd.read_csv(PROJECT_DIR / 'data' / 'processed' / '한겨레_noun_count_20200225-.csv')"
   ]
  },
  {
   "cell_type": "code",
   "execution_count": 143,
   "metadata": {},
   "outputs": [],
   "source": [
    "d.merge(e, on='noun', how='outer', suffixes=('_200225전', '_200225후')).fillna(0).to_csv(PROJECT_DIR / 'data' / 'processed' / '한겨레_noun_count-200225_split.csv')"
   ]
  },
  {
   "cell_type": "code",
   "execution_count": 72,
   "metadata": {},
   "outputs": [],
   "source": [
    "한겨레_기본소득_포함 = d.loc[d.noun.apply(lambda x: '기본소득' in x)]"
   ]
  },
  {
   "cell_type": "markdown",
   "metadata": {},
   "source": [
    "## 1. Extract prefix and suffixes\n",
    "\n",
    "\n",
    "\n",
    "We first have to extract all nouns, then want to locate all occurrences of '기본소득' in the nouns.\n",
    "\n",
    "We capture any prefix or suffix that surrounds '기본소득'."
   ]
  },
  {
   "cell_type": "code",
   "execution_count": 3,
   "metadata": {},
   "outputs": [],
   "source": [
    "ubi_prefix_suffix = re.compile(r'([^\\s]*)기본소득([^\\s]*)')"
   ]
  },
  {
   "cell_type": "code",
   "execution_count": 131,
   "metadata": {},
   "outputs": [
    {
     "name": "stdout",
     "output_type": "stream",
     "text": [
      ", 도입\n"
     ]
    }
   ],
   "source": [
    "word = '기본소득도입'\n",
    "prefix, suffix = ubi_prefix_suffix.search(word).groups()\n",
    "print(prefix + ', ' + suffix)"
   ]
  },
  {
   "cell_type": "code",
   "execution_count": 4,
   "metadata": {},
   "outputs": [
    {
     "data": {
      "text/plain": [
       "datetime\n",
       "2017-01-02 18:26:00    [[이태수꽃동네대학교, 사회복지대학원, 원장, 기본소득, 논의], [진보진영, 기본...\n",
       "2017-01-02 18:36:00    [[지난해, 1월, 다보스포럼, 이후, 제4차, 산업혁명, 고용, 영향, 세계적, ...\n",
       "2017-01-03 10:26:00    [[스마트, 쇼퍼, 사용, 그것, 혁명], [직장, 곽지, 38, 지난달, 22일,...\n",
       "2017-01-03 11:16:00    [[이재명, 성남시장, 미국, 방위비, 분담금, 협상, 주둔비용의, 50, 미군, ...\n",
       "2017-01-03 18:16:00    [[핀란드, 국, 단위, 유럽, 최초, 올해, 기본소득제, 실험, 시작], [핀란드...\n",
       "Name: nouns, dtype: object"
      ]
     },
     "execution_count": 4,
     "metadata": {},
     "output_type": "execute_result"
    }
   ],
   "source": [
    "dfs['한겨레'].nouns.head()"
   ]
  },
  {
   "cell_type": "code",
   "execution_count": 95,
   "metadata": {},
   "outputs": [],
   "source": [
    "k = '경향신문'\n",
    "\n",
    "pref_suf = []\n",
    "for sentences in dfs[k].nouns:\n",
    "    pref_suf_word = []\n",
    "    for s in sentences:\n",
    "        for word in s:\n",
    "            if '기본소득' in word:\n",
    "                prefix, suffix = ubi_prefix_suffix.search(word).groups()\n",
    "                pref_suf_word.extend([f'{prefix}-{suffix}'])\n",
    "    pref_suf.append(pref_suf_word)"
   ]
  },
  {
   "cell_type": "code",
   "execution_count": 68,
   "metadata": {},
   "outputs": [],
   "source": [
    "split_date = pd.Timestamp(2020, 2, 25)"
   ]
  },
  {
   "cell_type": "code",
   "execution_count": 96,
   "metadata": {},
   "outputs": [],
   "source": [
    "pref_suf = pd.Series(pref_suf, index=dfs[k].index)\n",
    "before_pref_suf = pd.Series([x for l in pref_suf[pref_suf.index < split_date] for x in l])\n",
    "after_pref_suf = pd.Series([x for l in pref_suf[pref_suf.index >= split_date] for x in l])"
   ]
  },
  {
   "cell_type": "code",
   "execution_count": 97,
   "metadata": {},
   "outputs": [],
   "source": [
    "before_count = before_pref_suf.value_counts()\n",
    "after_count = after_pref_suf.value_counts()"
   ]
  },
  {
   "cell_type": "code",
   "execution_count": 98,
   "metadata": {},
   "outputs": [],
   "source": [
    "double_bar = before_count[_filter_count(before_count)].to_frame().reset_index().merge(after_count[_filter_count(after_count)].to_frame().reset_index(), how='outer', on='index', suffixes=('_before', '_after')).set_index('index').drop(['-'], axis=0)"
   ]
  },
  {
   "cell_type": "code",
   "execution_count": 101,
   "metadata": {},
   "outputs": [
    {
     "data": {
      "text/plain": [
       "<matplotlib.legend.Legend at 0x17d27758d90>"
      ]
     },
     "execution_count": 101,
     "metadata": {},
     "output_type": "execute_result"
    },
    {
     "data": {
      "image/png": "[encoded data removed]",
      "text/plain": [
       "<Figure size 1152x360 with 2 Axes>"
      ]
     },
     "metadata": {
      "needs_background": "light"
     },
     "output_type": "display_data"
    }
   ],
   "source": [
    "# def _filter_count(_ser):\n",
    "#     return (_ser > 1) & (_ser < 900)\n",
    "\n",
    "fig, axes = plt.subplots(2, 1, figsize=(16, 5))\n",
    "double_bar.plot.bar(color=['orange', 'blue'], ax=axes[0], title=f'[{k}] 2020년 2월 25일 전 & 후, 기본소득 접두사 또는 접미사 빈도')\n",
    "double_bar.plot.bar(color=['orange', 'blue'], ax=axes[1], legend=False)\n",
    "axes[0].spines['bottom'].set_visible(False)\n",
    "axes[1].spines['top'].set_visible(False)\n",
    "axes[0].get_xaxis().set_visible(False)\n",
    "# axes[0].get_xaxis().set_label('')\n",
    "axes[0].set_ylim(600, 700)\n",
    "axes[1].set_ylim(0, 100)\n",
    "axes[0].legend()"
   ]
  },
  {
   "cell_type": "code",
   "execution_count": 99,
   "metadata": {},
   "outputs": [
    {
     "data": {
      "text/plain": [
       "<matplotlib.axes._subplots.AxesSubplot at 0x17d273cffa0>"
      ]
     },
     "execution_count": 99,
     "metadata": {},
     "output_type": "execute_result"
    },
    {
     "data": {
      "image/png": "[encoded data removed]",
      "text/plain": [
       "<Figure size 432x360 with 1 Axes>"
      ]
     },
     "metadata": {
      "needs_background": "light"
     },
     "output_type": "display_data"
    }
   ],
   "source": [
    "double_bar.plot.bar(color=['orange', 'blue'], figsize=(6, 5), title=f'[{k}] 2020년 2월 25일 전 & 후, 기본소득 접두사 또는 접미사 빈도')"
   ]
  },
  {
   "cell_type": "markdown",
   "metadata": {},
   "source": [
    "## Other keywords"
   ]
  },
  {
   "cell_type": "code",
   "execution_count": 102,
   "metadata": {},
   "outputs": [
    {
     "data": {
      "text/plain": [
       "datetime\n",
       "2017-01-03 18:00:00    [[촛불정국, 야권, 유력, 대선주자, 발돋움, 더불어민주당, 이재명, 성남시장, ...\n",
       "2017-01-03 22:29:00    [[촛불정국, 야권, 유력, 대선주자, 발돋움, 더불어민주당, 이재명, 성남시장, ...\n",
       "2017-01-04 14:57:00    [[인공지능, 로봇, 3D, 프린팅, 주도하, 4차, 산업혁명, 일자리, 킬러, 수...\n",
       "2017-01-06 19:33:00    [[기본소득, 세상, 오준호, 개마고원, 232쪽, 1만4000원, 핀란드, 기본소...\n",
       "2017-01-08 21:04:00    [[구체제, 청산, 7대, 과제, 덴마크, 최순실씨, 정유라씨, 패딩, 차림], [...\n",
       "Name: nouns, dtype: object"
      ]
     },
     "execution_count": 102,
     "metadata": {},
     "output_type": "execute_result"
    }
   ],
   "source": [
    "dfs[k].nouns.head()"
   ]
  },
  {
   "cell_type": "markdown",
   "metadata": {},
   "source": [
    "1. First find any keyword containing '기본소득' (even with prefix/suffix)\n",
    "2. Then find sentences before it & after it\n",
    "3. For that sentence & before & after, get all nouns, and how far away each noun is from the keyword containing '기본소득'"
   ]
  },
  {
   "cell_type": "code",
   "execution_count": 3,
   "metadata": {},
   "outputs": [],
   "source": [
    "def get_kw_index(noun_sentences):\n",
    "    locs = []\n",
    "    for i, noun_sentence in enumerate(noun_sentences):\n",
    "        for j, word in enumerate(noun_sentence):\n",
    "            if '기본소득' in word:\n",
    "                locs.append((i, j))\n",
    "    return np.asarray(locs)"
   ]
  },
  {
   "cell_type": "code",
   "execution_count": 121,
   "metadata": {},
   "outputs": [],
   "source": [
    "s = dfs[k].nouns.apply(get_bi_index)"
   ]
  },
  {
   "cell_type": "code",
   "execution_count": 122,
   "metadata": {},
   "outputs": [
    {
     "data": {
      "text/plain": [
       "datetime\n",
       "2019-11-23 17:36:00    [(6, 3), (7, 3), (45, 6), (60, 4), (61, 2), (6...\n",
       "2020-04-06 21:21:00                                            [(18, 4)]\n",
       "2020-05-30 03:00:00                                  [(12, 16), (32, 4)]\n",
       "2020-03-08 15:33:00    [(0, 12), (3, 0), (4, 1), (5, 1), (6, 4), (6, ...\n",
       "2020-02-23 20:56:00                                  [(24, 3), (29, 10)]\n",
       "2017-03-20 21:18:00                                            [(13, 3)]\n",
       "2017-10-12 21:48:00                                           [(14, 16)]\n",
       "2017-04-02 18:40:00                 [(10, 0), (11, 8), (12, 0), (13, 7)]\n",
       "2020-04-13 21:07:00                                             [(8, 2)]\n",
       "2018-10-07 10:04:00               [(16, 2), (17, 21), (18, 10), (20, 3)]\n",
       "Name: nouns, dtype: object"
      ]
     },
     "execution_count": 122,
     "metadata": {},
     "output_type": "execute_result"
    }
   ],
   "source": [
    "s.sample(10)"
   ]
  },
  {
   "cell_type": "code",
   "execution_count": 4,
   "metadata": {},
   "outputs": [],
   "source": [
    "import numpy as np"
   ]
  },
  {
   "cell_type": "code",
   "execution_count": 56,
   "metadata": {},
   "outputs": [],
   "source": [
    "def get_sentence_loc_tuple(row):\n",
    "    bi_indices = row.kw_index\n",
    "    n_sentences = len(row.sentences)\n",
    "    if bi_indices.shape[0] > 0:\n",
    "        x = np.unique(bi_indices[:, 0])\n",
    "    else:\n",
    "        x = np.asarray([])\n",
    "    _prev = x - 1\n",
    "    _next = x + 1\n",
    "    \n",
    "    _prev = _prev[_prev >= 0]\n",
    "    _next = _next[_next < n_sentences]\n",
    "    \n",
    "    _prev = np.setdiff1d(_prev, x)\n",
    "    _next = np.setdiff1d(np.setdiff1d(_next, x), _prev)\n",
    "    return (_prev, x, _next)"
   ]
  },
  {
   "cell_type": "code",
   "execution_count": 90,
   "metadata": {},
   "outputs": [],
   "source": [
    "for k, v in dfs.items():\n",
    "    dfs[k].loc[:, 'kw_index'] = v.nouns.apply(get_kw_index)\n",
    "    dfs[k].loc[:, 'sentence_loc_tuple'] = v.apply(get_sentence_loc_tuple, axis=1)"
   ]
  },
  {
   "cell_type": "code",
   "execution_count": 7,
   "metadata": {},
   "outputs": [
    {
     "data": {
      "text/html": [
       "<div>\n",
       "<style scoped>\n",
       "    .dataframe tbody tr th:only-of-type {\n",
       "        vertical-align: middle;\n",
       "    }\n",
       "\n",
       "    .dataframe tbody tr th {\n",
       "        vertical-align: top;\n",
       "    }\n",
       "\n",
       "    .dataframe thead th {\n",
       "        text-align: right;\n",
       "    }\n",
       "</style>\n",
       "<table border=\"1\" class=\"dataframe\">\n",
       "  <thead>\n",
       "    <tr style=\"text-align: right;\">\n",
       "      <th></th>\n",
       "      <th>title</th>\n",
       "      <th>summary</th>\n",
       "      <th>text</th>\n",
       "      <th>extracted_category</th>\n",
       "      <th>sentences</th>\n",
       "      <th>nouns</th>\n",
       "      <th>kw_index</th>\n",
       "      <th>sentence_loc_tuple</th>\n",
       "    </tr>\n",
       "    <tr>\n",
       "      <th>datetime</th>\n",
       "      <th></th>\n",
       "      <th></th>\n",
       "      <th></th>\n",
       "      <th></th>\n",
       "      <th></th>\n",
       "      <th></th>\n",
       "      <th></th>\n",
       "      <th></th>\n",
       "    </tr>\n",
       "  </thead>\n",
       "  <tbody>\n",
       "    <tr>\n",
       "      <th>2017-01-02 18:26:00</th>\n",
       "      <td>[왜냐면] 한국에서 기본소득이 가능할까? / 이태수</td>\n",
       "      <td>NaN</td>\n",
       "      <td>이태수꽃동네대학교 사회복지대학원 원장 기본소득에 대한 논의가 서서히 끓어오르고 있...</td>\n",
       "      <td>[왜냐면]</td>\n",
       "      <td>[이태수꽃동네대학교 사회복지대학원 원장 기본소득에 대한 논의가 서서히 끓어오르고 있...</td>\n",
       "      <td>[[이태수꽃동네대학교, 사회복지대학원, 원장, 기본소득, 논의], [진보진영, 기본...</td>\n",
       "      <td>[[0, 3], [1, 1], [3, 14], [8, 3], [8, 11], [9,...</td>\n",
       "      <td>([2, 7, 11, 18, 24], [0, 1, 3, 8, 9, 10, 12, 1...</td>\n",
       "    </tr>\n",
       "    <tr>\n",
       "      <th>2017-01-02 18:36:00</th>\n",
       "      <td>[한겨레 사설] 밀려오는 4차 산업혁명의 '일자리 충격'</td>\n",
       "      <td>NaN</td>\n",
       "      <td>지난해 1월 다보스포럼 이후 제4차 산업혁명이 고용에 미칠 영향이 세계적 관심사로...</td>\n",
       "      <td>[한겨레 사설]</td>\n",
       "      <td>[지난해 1월 다보스포럼 이후 제4차 산업혁명이 고용에 미칠 영향이 세계적 관심사로...</td>\n",
       "      <td>[[지난해, 1월, 다보스포럼, 이후, 제4차, 산업혁명, 고용, 영향, 세계적, ...</td>\n",
       "      <td>[[17, 11]]</td>\n",
       "      <td>([16], [17], [18])</td>\n",
       "    </tr>\n",
       "    <tr>\n",
       "      <th>2017-01-03 10:26:00</th>\n",
       "      <td>무인매장·무인공장·무인운전..노동자가 사라진다</td>\n",
       "      <td>새해기획-4차 산업혁명인간혁명의 갈림길 ① 인간 노동 존중 않는 혁명은 실패한다</td>\n",
       "      <td>스마트 쇼퍼 사용해보니 그것은 혁명이었다. 직장인 곽지은 38 씨는 지난달 22일...</td>\n",
       "      <td>[]</td>\n",
       "      <td>[스마트 쇼퍼 사용해보니 그것은 혁명이었다, 직장인 곽지은 38 씨는 지난달 22일...</td>\n",
       "      <td>[[스마트, 쇼퍼, 사용, 그것, 혁명], [직장, 곽지, 38, 지난달, 22일,...</td>\n",
       "      <td>[[67, 6]]</td>\n",
       "      <td>([66], [67], [68])</td>\n",
       "    </tr>\n",
       "    <tr>\n",
       "      <th>2017-01-03 11:16:00</th>\n",
       "      <td>이재명 \"미군 방위비 분담금 낮춰야..자주국방도 대비\"</td>\n",
       "      <td>'김현정의 뉴스쇼' 대선주자 인터뷰 \"유승민, 사드 주장해놓고 지역구에는 안 된다는...</td>\n",
       "      <td>이재명 성남시장이 미국과 방위비 분담금 협상을 해 주둔비용의 50%로 낮춰야 하며...</td>\n",
       "      <td>[]</td>\n",
       "      <td>[이재명 성남시장이 미국과 방위비 분담금 협상을 해 주둔비용의 50%로 낮춰야 하며...</td>\n",
       "      <td>[[이재명, 성남시장, 미국, 방위비, 분담금, 협상, 주둔비용의, 50, 미군, ...</td>\n",
       "      <td>[[16, 0]]</td>\n",
       "      <td>([15], [16], [17])</td>\n",
       "    </tr>\n",
       "    <tr>\n",
       "      <th>2017-01-03 18:16:00</th>\n",
       "      <td>핀란드, 기본소득 실험..매달 71만원 그냥 준다</td>\n",
       "      <td>2000명에 2년간 실험..취업해도 지급  빈곤감소·고용확대 효과 면밀 검토뒤 성과...</td>\n",
       "      <td>핀란드가 국가 단위로는 유럽 최초로 올해부터 기본소득제 실험을 시작했다. 핀란드 ...</td>\n",
       "      <td>[]</td>\n",
       "      <td>[핀란드가 국가 단위로는 유럽 최초로 올해부터 기본소득제 실험을 시작했다, 핀란드 ...</td>\n",
       "      <td>[[핀란드, 국, 단위, 유럽, 최초, 올해, 기본소득제, 실험, 시작], [핀란드...</td>\n",
       "      <td>[[0, 6], [1, 20], [3, 0], [4, 7], [5, 6], [6, ...</td>\n",
       "      <td>([2, 9, 17], [0, 1, 3, 4, 5, 6, 10, 11, 12, 13...</td>\n",
       "    </tr>\n",
       "  </tbody>\n",
       "</table>\n",
       "</div>"
      ],
      "text/plain": [
       "                                               title  \\\n",
       "datetime                                               \n",
       "2017-01-02 18:26:00     [왜냐면] 한국에서 기본소득이 가능할까? / 이태수   \n",
       "2017-01-02 18:36:00  [한겨레 사설] 밀려오는 4차 산업혁명의 '일자리 충격'   \n",
       "2017-01-03 10:26:00        무인매장·무인공장·무인운전..노동자가 사라진다   \n",
       "2017-01-03 11:16:00   이재명 \"미군 방위비 분담금 낮춰야..자주국방도 대비\"   \n",
       "2017-01-03 18:16:00      핀란드, 기본소득 실험..매달 71만원 그냥 준다   \n",
       "\n",
       "                                                               summary  \\\n",
       "datetime                                                                 \n",
       "2017-01-02 18:26:00                                                NaN   \n",
       "2017-01-02 18:36:00                                                NaN   \n",
       "2017-01-03 10:26:00       새해기획-4차 산업혁명인간혁명의 갈림길 ① 인간 노동 존중 않는 혁명은 실패한다   \n",
       "2017-01-03 11:16:00  '김현정의 뉴스쇼' 대선주자 인터뷰 \"유승민, 사드 주장해놓고 지역구에는 안 된다는...   \n",
       "2017-01-03 18:16:00  2000명에 2년간 실험..취업해도 지급  빈곤감소·고용확대 효과 면밀 검토뒤 성과...   \n",
       "\n",
       "                                                                  text  \\\n",
       "datetime                                                                 \n",
       "2017-01-02 18:26:00   이태수꽃동네대학교 사회복지대학원 원장 기본소득에 대한 논의가 서서히 끓어오르고 있...   \n",
       "2017-01-02 18:36:00   지난해 1월 다보스포럼 이후 제4차 산업혁명이 고용에 미칠 영향이 세계적 관심사로...   \n",
       "2017-01-03 10:26:00   스마트 쇼퍼 사용해보니 그것은 혁명이었다. 직장인 곽지은 38 씨는 지난달 22일...   \n",
       "2017-01-03 11:16:00   이재명 성남시장이 미국과 방위비 분담금 협상을 해 주둔비용의 50%로 낮춰야 하며...   \n",
       "2017-01-03 18:16:00   핀란드가 국가 단위로는 유럽 최초로 올해부터 기본소득제 실험을 시작했다. 핀란드 ...   \n",
       "\n",
       "                    extracted_category  \\\n",
       "datetime                                 \n",
       "2017-01-02 18:26:00              [왜냐면]   \n",
       "2017-01-02 18:36:00           [한겨레 사설]   \n",
       "2017-01-03 10:26:00                 []   \n",
       "2017-01-03 11:16:00                 []   \n",
       "2017-01-03 18:16:00                 []   \n",
       "\n",
       "                                                             sentences  \\\n",
       "datetime                                                                 \n",
       "2017-01-02 18:26:00  [이태수꽃동네대학교 사회복지대학원 원장 기본소득에 대한 논의가 서서히 끓어오르고 있...   \n",
       "2017-01-02 18:36:00  [지난해 1월 다보스포럼 이후 제4차 산업혁명이 고용에 미칠 영향이 세계적 관심사로...   \n",
       "2017-01-03 10:26:00  [스마트 쇼퍼 사용해보니 그것은 혁명이었다, 직장인 곽지은 38 씨는 지난달 22일...   \n",
       "2017-01-03 11:16:00  [이재명 성남시장이 미국과 방위비 분담금 협상을 해 주둔비용의 50%로 낮춰야 하며...   \n",
       "2017-01-03 18:16:00  [핀란드가 국가 단위로는 유럽 최초로 올해부터 기본소득제 실험을 시작했다, 핀란드 ...   \n",
       "\n",
       "                                                                 nouns  \\\n",
       "datetime                                                                 \n",
       "2017-01-02 18:26:00  [[이태수꽃동네대학교, 사회복지대학원, 원장, 기본소득, 논의], [진보진영, 기본...   \n",
       "2017-01-02 18:36:00  [[지난해, 1월, 다보스포럼, 이후, 제4차, 산업혁명, 고용, 영향, 세계적, ...   \n",
       "2017-01-03 10:26:00  [[스마트, 쇼퍼, 사용, 그것, 혁명], [직장, 곽지, 38, 지난달, 22일,...   \n",
       "2017-01-03 11:16:00  [[이재명, 성남시장, 미국, 방위비, 분담금, 협상, 주둔비용의, 50, 미군, ...   \n",
       "2017-01-03 18:16:00  [[핀란드, 국, 단위, 유럽, 최초, 올해, 기본소득제, 실험, 시작], [핀란드...   \n",
       "\n",
       "                                                              kw_index  \\\n",
       "datetime                                                                 \n",
       "2017-01-02 18:26:00  [[0, 3], [1, 1], [3, 14], [8, 3], [8, 11], [9,...   \n",
       "2017-01-02 18:36:00                                         [[17, 11]]   \n",
       "2017-01-03 10:26:00                                          [[67, 6]]   \n",
       "2017-01-03 11:16:00                                          [[16, 0]]   \n",
       "2017-01-03 18:16:00  [[0, 6], [1, 20], [3, 0], [4, 7], [5, 6], [6, ...   \n",
       "\n",
       "                                                    sentence_loc_tuple  \n",
       "datetime                                                                \n",
       "2017-01-02 18:26:00  ([2, 7, 11, 18, 24], [0, 1, 3, 8, 9, 10, 12, 1...  \n",
       "2017-01-02 18:36:00                                 ([16], [17], [18])  \n",
       "2017-01-03 10:26:00                                 ([66], [67], [68])  \n",
       "2017-01-03 11:16:00                                 ([15], [16], [17])  \n",
       "2017-01-03 18:16:00  ([2, 9, 17], [0, 1, 3, 4, 5, 6, 10, 11, 12, 13...  "
      ]
     },
     "execution_count": 7,
     "metadata": {},
     "output_type": "execute_result"
    }
   ],
   "source": [
    "dfs[k].head()"
   ]
  },
  {
   "cell_type": "code",
   "execution_count": 8,
   "metadata": {},
   "outputs": [],
   "source": [
    "def extract_current_sentence_kws(row):\n",
    "    noun_sentences = row.nouns\n",
    "    kw_indices = np.asarray(row.kw_index)\n",
    "    _prev, current, _next = row.sentence_loc_tuple\n",
    "    \n",
    "    current_kws = []\n",
    "    \n",
    "    for i in range(len(current)):\n",
    "        kw_sent_idx = kw_indices[kw_indices[:, 0] == i, 1]\n",
    "        slice_idx = np.r_[-1, kw_sent_idx, len(noun_sentences[i])+1]\n",
    "        \n",
    "        for start_idx, end_idx in zip(slice_idx[:-1], slice_idx[1:]):\n",
    "            current_kws.extend(noun_sentences[i][start_idx+1:end_idx-1])\n",
    "    \n",
    "    return current_kws"
   ]
  },
  {
   "cell_type": "code",
   "execution_count": 194,
   "metadata": {},
   "outputs": [],
   "source": [
    "current_kws = dict()\n",
    "for k, v in dfs.items():\n",
    "    current_sentence_kws = v.apply(extract_current_sentence_kws, axis=1)\n",
    "    before_kws = pd.Series(np.concatenate(current_sentence_kws[current_sentence_kws.index < split_date].apply(lambda x: np.asarray(x)).tolist())).value_counts()\n",
    "    after_kws = pd.Series(np.concatenate(current_sentence_kws[current_sentence_kws.index >= split_date].apply(lambda x: np.asarray(x)).tolist())).value_counts()\n",
    "    current_kws[k] = (before_kws, after_kws)"
   ]
  },
  {
   "cell_type": "code",
   "execution_count": 202,
   "metadata": {},
   "outputs": [],
   "source": [
    "current_kws_counts = dict()\n",
    "for k, v in current_kws.items():\n",
    "    b, a = v\n",
    "    current_kws_counts[k] = b.to_frame().join(a.to_frame(), lsuffix='_before', rsuffix='_after').rename(columns={'0_before': 'before', '0_after': 'after'})"
   ]
  },
  {
   "cell_type": "code",
   "execution_count": 203,
   "metadata": {},
   "outputs": [],
   "source": [
    "for k, v in current_kws_counts.items():\n",
    "    v.to_csv(PROJECT_DIR / 'data' / 'processed' / f'keywords_in_current_sentence-{k}.csv')"
   ]
  },
  {
   "cell_type": "markdown",
   "metadata": {},
   "source": [
    "Extract sentences surrounding the keyword.."
   ]
  },
  {
   "cell_type": "code",
   "execution_count": 40,
   "metadata": {},
   "outputs": [
    {
     "data": {
      "text/plain": [
       "array([ 0,  1,  2,  2,  3,  4,  7,  8,  9, 10, 11, 11, 12, 13, 18, 19, 20,\n",
       "       24, 25])"
      ]
     },
     "execution_count": 40,
     "metadata": {},
     "output_type": "execute_result"
    }
   ],
   "source": [
    "np.sort(np.concatenate(dfs['한겨레'].sentence_loc_tuple.iloc[0]))"
   ]
  },
  {
   "cell_type": "code",
   "execution_count": 18,
   "metadata": {},
   "outputs": [],
   "source": [
    "def extract_relevant_sentences(row):\n",
    "    sentences = np.asarray(row.sentences)\n",
    "    relevant_sentence_idx = np.sort(np.concatenate(row.sentence_loc_tuple).astype(int))\n",
    "    return list(sentences[relevant_sentence_idx])"
   ]
  },
  {
   "cell_type": "code",
   "execution_count": 91,
   "metadata": {},
   "outputs": [],
   "source": [
    "for k, v in dfs.items():\n",
    "    dfs[k].loc[:, 'relevant_sentences'] = v.apply(extract_relevant_sentences, axis=1)"
   ]
  },
  {
   "cell_type": "code",
   "execution_count": 37,
   "metadata": {},
   "outputs": [
    {
     "name": "stdout",
     "output_type": "stream",
     "text": [
      "2020-06-02 10:53:00\n",
      "['홍 부총리 겸 기획재정부 장관은 1일 2020년 하반기 경제정책방향 정부 합동브리핑 후 질의응답에서 2차 긴급재난지원금 지급 가능성을 묻는 질문에 아직까지 정부는 전혀 검토한 바 없다며 재정당국을 맡는 입장에서 저는 추가적인 긴급재난지원금 지급은 전혀 생각하지 않고 있다고 말했다', '반면 이 지사는 코로나19가 종식되더라도 경제는 상당 기간 나빠질 가능성이 있기 때문에 당연히 최소한 두세 번 정도는 재난기본소득 지급을 더 해야 할 것이라며 가장 효율적인 방법으로 경제 순환을 원활하게 하려면 공급보다는 수요를 보강해야 정상적인 순환이 가능하다', '2 3차례 정도 재난기본소득을 지원하는 것이 훨씬 도움이 된다고 주장해왔다', '도는 지난 4월부터 경기도 재난기본소득 1인당 10만원 을 지급한 이후 실제로 지역경제를 살리는 효과가 다양하게 나타나고 있다고 보고 있다', '한국신용데이터 조사를 토대로 전국 주요 지역 자영업자의 카드 매출 비율을 살펴본 결과, 경기도의 경우 4월 셋째주 4월 13 19일 95%에서 5월 셋째 주 5월 11 17일 107%까지 전년 같은 기간보다 상승했다는 점을 들었다', '한국신용데이터 조사를 토대로 전국 주요 지역 자영업자의 카드 매출 비율을 살펴본 결과, 경기도의 경우 4월 셋째주 4월 13 19일 95%에서 5월 셋째 주 5월 11 17일 107%까지 전년 같은 기간보다 상승했다는 점을 들었다', '아울러 재난기본소득이 자영업자 매출과 골목상권 활성화에 영향을 줬다는 도민 대상 자체 설문조사도 결과도 제시했다', '도는 지난 15 16일 한국리서치에 의뢰해 도민 1000명을 대상으로 경기도 재난기본소득 효과 및 만족도 조사를 한 결과, 응답자의 80%가 평소 가던 대형마트 대신 동네가게를 이용했다고 답했다', '이를 경험한 도민의 85%는 재난기본소득을 사용할 목적이 아니더라도 동네가게나 전통시장을 재방문할 의사가 있다고 응답했다', '경태영 기자 kyeong@kyunghyang.com']\n"
     ]
    }
   ],
   "source": [
    "s = dfs['경향신문'].relevant_sentences.sample()\n",
    "print(s.index[0])\n",
    "print(s.iloc[0])"
   ]
  },
  {
   "cell_type": "code",
   "execution_count": 59,
   "metadata": {},
   "outputs": [
    {
     "name": "stdout",
     "output_type": "stream",
     "text": [
      "2017-01-11 15:30:00\n",
      "['아울러 청년배당 정책에 대해 청년 지원 정책이자 지역상권 활성화 정책이라고 강조했다', '그러면서 헬조선, 대한민국이라는 지옥 탈출이 꿈이고 국가로부터 버림받은 청년을 위해 논란을 감수하고 했다면서 일부 선별적 시행론을 두고는 부자 아이들 골라내는 비용이 오히려 더 든다며 기본소득에 관한 전 세계적 논의 움직임을 소개했다', '이 시장은 신 구시가지 격차와 갈등이 자연스럽게 해소됐다']\n"
     ]
    }
   ],
   "source": [
    "print_rel_sent('경향신문', '2017-01-11 15:30:00')"
   ]
  },
  {
   "cell_type": "code",
   "execution_count": 60,
   "metadata": {},
   "outputs": [
    {
     "name": "stdout",
     "output_type": "stream",
     "text": [
      "2020-04-20 20:47:00\n",
      "['그간 어둡다고 눈길을 두지 않았던 곳, 불가능하다고 거들떠보지 않았던 곳을 다시 보자', '그런 곳에 있는 열쇠 중 하나가 기본소득을 통해 농업을 되살리는 것이다', '재난기본소득에서 한 발 나아간 상시적 농민기본소득이 미래로 가는 여러 문 가운데 하나를 열어젖힐 것이다', '마스크보다 쌀이다']\n"
     ]
    }
   ],
   "source": [
    "print_rel_sent('경향신문', '2020-04-20 20:47:00')"
   ]
  },
  {
   "cell_type": "code",
   "execution_count": 61,
   "metadata": {},
   "outputs": [
    {
     "name": "stdout",
     "output_type": "stream",
     "text": [
      "2020-03-21 18:30:00\n",
      "['3선이지만 구로는 초선 김용태 후보 측 다짐 기자의 휴대폰에 들어오는 수많은 선거홍보 문자 중에 김용태 후보의 메시지는 유독 눈에 띈다', '여권 대선주자들의 재난기본소득 주장을 구체적으로 거론하며 비판한다', '어제는 이재명 경기지사, 오늘은 박원순 서울시장을 비판하는 식이다', '95% 신뢰수준에서 4.4%p 오차 수준', '자세한 조사결과는 중앙선거여론조사심의위원회 홈페이지 재난기본소득, 험지출마에 대한 입장 김용태 후보는 자신이 공천을 받고 들어와 1주일 만에 코로나가 터졌다고 밝혔다', '그는 재난기본소득 문제 등 정책이슈와 함께 1970 80년대 개발시대 구로공단을, 2000년대 초반 IT디지털단지를 넘어 2020년대 4차 산업 핀테크의 메카로 만드는 것을 지역공약으로 내세웠다', '그는 코로나 방역싸움이 국민의 안전을 위협하는 1차 방역전선이라면 2차 전선은 국민고용을 위협하는 해고와의 전쟁이라며 불특정 다수에게 100만원씩 주는 것이 아닌 서민을 고용하고 있는 자영업자, 중소기업에 핀포인트로 몰빵해 지원해야 2차 전선에서 효과를 볼 수 있다고 주장했다', '사실 추가경정예산도 다 필요 없어요', '재난기본소득 지급 해법은 상대방 윤건영 후보보다 유력 대권주자들, 박원순 서울시장이나 이재명 경기지사, 김경수 경남도지사 등이 주장하는 거 아닙니까', '당에서 주장하니 윤 후보도 동의하는 거죠']\n"
     ]
    }
   ],
   "source": [
    "print_rel_sent('경향신문', '2020-03-21 18:30:00')"
   ]
  },
  {
   "cell_type": "code",
   "execution_count": 62,
   "metadata": {},
   "outputs": [
    {
     "name": "stdout",
     "output_type": "stream",
     "text": [
      "2020-03-30 23:03:00\n",
      "['서울, 공무원 포함 대구, 비정규직 공무원까지 제외 논란 경기 도민 이라도 어디 시민인가에 따라 최대 40만원 차 서울, 대구, 경기 등 지방자치단체들이 코로나19 경제 여파에 대응하기 위해 내놓은 재난기본소득 등 다양한 생계지원금 대책을 두고 저마다 다른 지급 기준 때문에 논란이 불거지고 있다', '다수 지자체가 지급 상한선으로 삼은 소득 기준이 최저임금과 엇비슷하다는 점에서 지원 규모가 충분하지 않다는 지적도 나온다', '불안정 노동환경에 놓여 있을 가능성이 높은 최저임금 노동자가 지원 대상에서 제외되는 셈이다', '경기도는 소득 수준과 상관없이 1인당 10만원씩 재난기본소득을 지급할 예정이지만, 같은 도민일지라도 어느 시민인지에 따라 차이가 나게 생겼다', '경기도 내 14개 시 군은 자체적인 재난기본소득을 추가 지급하기로 했는데, 그 금액은 5만원에서 최대 40만원까지 차이가 난다', '나아가 경기도는 이날 자체 재난기본소득을 편성한 시 군에 한정해 주민 1인당 1만원꼴로 특별조정교부사업 재원을 지원하겠다고 밝혔다', '보편적 지원이 아닌 선별지원을 하는 고양, 파주, 성남, 용인, 평택, 시흥시 등 6곳과 재난기본소득 계획을 발표하지 않은 11곳 등 17곳은 대상에서 제외된다', '각 시 군에 재난기본소득 도입을 유도하기 위한 인센티브 성격이 있지만, 시 군별 금액 격차에 더해 재정 격차까지 키울 것이란 지적도 나온다', '기초단체 줄 세우기란 비판도 있다', '경기도는 앞서 부천시장이 재난기본소득에 반대하자 부천시를 지급 대상에서 제외한다는 방침을 밝혀 논란이 됐다', '채진원 경희대 공공거버넌스연구소 교수는 수평적 협력, 의견수렴보다는 관 중심의 사고를 보여주면서 여러 반발을 낳고 있다며 민주적 거버넌스보다는 권위주의적 리더십이 드러나는 상황이라고 지적했다.']\n"
     ]
    }
   ],
   "source": [
    "print_rel_sent('경향신문', '2020-03-30 23:03:00')"
   ]
  },
  {
   "cell_type": "code",
   "execution_count": 63,
   "metadata": {},
   "outputs": [
    {
     "name": "stdout",
     "output_type": "stream",
     "text": [
      "2020-06-02 10:53:00\n",
      "['홍 부총리 겸 기획재정부 장관은 1일 2020년 하반기 경제정책방향 정부 합동브리핑 후 질의응답에서 2차 긴급재난지원금 지급 가능성을 묻는 질문에 아직까지 정부는 전혀 검토한 바 없다며 재정당국을 맡는 입장에서 저는 추가적인 긴급재난지원금 지급은 전혀 생각하지 않고 있다고 말했다', '반면 이 지사는 코로나19가 종식되더라도 경제는 상당 기간 나빠질 가능성이 있기 때문에 당연히 최소한 두세 번 정도는 재난기본소득 지급을 더 해야 할 것이라며 가장 효율적인 방법으로 경제 순환을 원활하게 하려면 공급보다는 수요를 보강해야 정상적인 순환이 가능하다', '2 3차례 정도 재난기본소득을 지원하는 것이 훨씬 도움이 된다고 주장해왔다', '도는 지난 4월부터 경기도 재난기본소득 1인당 10만원 을 지급한 이후 실제로 지역경제를 살리는 효과가 다양하게 나타나고 있다고 보고 있다', '한국신용데이터 조사를 토대로 전국 주요 지역 자영업자의 카드 매출 비율을 살펴본 결과, 경기도의 경우 4월 셋째주 4월 13 19일 95%에서 5월 셋째 주 5월 11 17일 107%까지 전년 같은 기간보다 상승했다는 점을 들었다', '아울러 재난기본소득이 자영업자 매출과 골목상권 활성화에 영향을 줬다는 도민 대상 자체 설문조사도 결과도 제시했다', '도는 지난 15 16일 한국리서치에 의뢰해 도민 1000명을 대상으로 경기도 재난기본소득 효과 및 만족도 조사를 한 결과, 응답자의 80%가 평소 가던 대형마트 대신 동네가게를 이용했다고 답했다', '이를 경험한 도민의 85%는 재난기본소득을 사용할 목적이 아니더라도 동네가게나 전통시장을 재방문할 의사가 있다고 응답했다', '경태영 기자 kyeong@kyunghyang.com']\n"
     ]
    }
   ],
   "source": [
    "print_rel_sent('경향신문', '2020-06-02 10:53:00')"
   ]
  },
  {
   "cell_type": "code",
   "execution_count": 73,
   "metadata": {},
   "outputs": [
    {
     "data": {
      "text/plain": [
       "'이탈리아의 정치 불안이 유럽 전체를 공포로 몰아넣고 있다. 글로벌 금융시장도 요동치고 있다. 세르지오 마타렐라 이탈리아 대통령과 원내 다수당인 포퓰리즘 정당 오성운동 및 동맹당 이 벌이는 맞대결에서 EU 유럽연합 탈퇴를 공언해 온 포퓰리즘 세력이 이길 가능성이 높기 때문이다. 유로존 유로화를 사용하는 19개국 3위 경제 대국인 이탈리아가 EU에서 빠져나오면 EU의 존립이 위태로워진다는 두려움이 고스란히 표출된다. 이탈리아 10년 만기 국채 금리는 29일 현지 시각 연 3.18%로 0.51%포인트 급등했다. 글로벌 투자자들이 내던져 하루 만에 가치가 급락한 것이다. 유로존에서 안전 자산으로 인식되는 독일 국채와 이탈리아 국채의 금리 차이도 3%포인트 가까이 벌어졌다. 유럽 증시에 이어 열린 뉴욕 증시와 아시아 증시도 줄줄이 내려앉았다. 최근 유동성 위기가 심해지고 있는 아르헨티나 등 중남미, 터키 등 유럽 국가로 전염될 수 있다는 우려도 나온다. 세계적 투자자인 조지 소로스는 EU가 큰 위기를 맞이하고 있다며 세계가 금융 위기를 맞을 수도 있다고 경고했다. 월스트리트저널은 2010년대 초 국채 가격 급락이 은행 부실과 예금 인출 구제금융으로 이어지는 사태가 연상된다고 했다. 해외 큰손들은 이탈리아 정치권에서 포퓰리즘 세력 부상을 우려하며 지켜보고 있다. 마타렐라 대통령은 오성운동과 동맹당의 반 EU 행보를 저지하기 위해 지난 28일 IMF 국제통화기금 고위직을 지낸 카를로 코타렐리를 과도 총리로 지명했다. 정국 수습을 자신이 임명한 총리에게 맡긴 뒤 내년에 총선을 다시 치르자는 주장이다. 지난 3월 총선에서 원내 1당과 2당을 차지한 오성운동과 동맹당은 이에 반발하고 있다. 대통령이 임명한 코타렐리 총리 후보자를 신임 투표에서 부결시킨 뒤 7월에 조기 총선을 치르겠다고 나선다. 의석 55%를 차지하고 있는 두 당이 원하는 대로 흘러갈 확률이 높은 상황이다. 해외 투자자들이 패닉에 빠진 이유는 이탈리아 여론이 오성운동과 동맹당 등 포퓰리즘 정당에 유리하게 굴러가기 때문이다. 여론조사 기관 SWG의 조사에 따르면 연정 출범을 저지한 마타렐라 대통령 결정에 부정적인 응답자가 59%에 달했다. 이에 반해 오성운동과 동맹당의 지지율은 각각 29.5%, 27.5%에 달했다. 총선을 다시 치르면 지금보다 두 정당의 세력이 더 커질 가능성이 있다는 뜻이다. 투자 심리가 바짝 얼어붙는 이유가 여기에 있다. 이냐치오 비스코 이탈리아 중앙은행 총재는 이탈리아는 신뢰라는 자산을 잃을 위험에 바짝 다가섰다며 자산 가치를 잃을 것으로 예상되면 투자자들은 더 많이 떠날 것이라고 경고했다. 오성운동과 동맹당이 EU나 유로존에서 당장 탈퇴하지 않더라도 기본 소득 지급 등 연간 1000억유로 약 125조원 에 달하는 선심성 공약을 실행에 옮길 경우 재정 파탄을 피하기 어렵다. 이탈리아의 국가 채무는 2조8381억달러 약 3071조원 에 달한다. 한 해 이자 비용만 100조원이 필요한 막대한 빚더미다. 아예 이탈리아가 재정 파탄으로 EU 각국의 보조를 받은 그리스의 전철을 밟는 것 아니냐는 불안감이 고조되고 있다. 이탈리아의 경제 규모 GDP 는 그리스의 9.7배에 달한다. 로이터통신은 그리스를 살리는 구제금융에 2500억유로 약 312조원 가 투입했다는 것을 감안하면 이탈리아가 쓰러졌을 때 되살리기 위해 EU가 감당해야 할 액수는 상상 이상일 것이라고 보도했다. 다만 파국으로 갈지 여부는 좀 더 지켜봐야 한다는 분석도 나온다. 이탈리아 국채의 65%를 내국인 투자자들이 보유하고 있어 극한 상황이 되더라도 자본 유출은 제한적일 것이라는 전망이 있다. 훙 트란 국제금융협회 IIF 전무는 이탈리아가 그리스 수준의 재정 위기를 몰고 올 확률을 20% 정도로 본다고 밝혔다.'"
      ]
     },
     "execution_count": 73,
     "metadata": {},
     "output_type": "execute_result"
    }
   ],
   "source": [
    "dfs[source][dfs[source].index == pd.Timestamp('2018-05-31 04:32:00')].text.iloc[0]"
   ]
  },
  {
   "cell_type": "code",
   "execution_count": 98,
   "metadata": {},
   "outputs": [
    {
     "name": "stdout",
     "output_type": "stream",
     "text": [
      "# 2020/2/25 전\n",
      "2017-02-10 03:03:00\n",
      "수조원 예산 들여 공무원 양산? 세금 내는 민간 체력만 고갈\n",
      "[일자리 공약 포퓰리즘 우려]재원조달 방안 빠진 '장밋빛 공약'\n",
      " 땜질식 일자리 공약 논란 더불어민주당 대선 주자인 문재인 전 대표와 이재명 경기 성남시장은 일자리 창출 해법으로 공공부문 일자리 확충과 근로시간 단축을 내걸었다. 청년 실업을 해결하기 위해서는 공공부문 일자리 창출과 대기업 근로시간 단축으로 양질의 일자리를 만들어야 한다는 취지다. 일자리 대통령이 되겠다라고 선언한 문 전 대표는 소방 경찰 복지 등 공공부문에서 81만 개, 근로시간 단축을 통해 50만 개 등 일자리 131만 개를 만들겠다고 약속했다. 문 전 대표는 이날 국민성장 주최 포럼에서 아직도 일자리는 민간 기업이 만드는 것이라고 말씀하는 분들이 있는데 일자리 문제의 절박성을 모르는 것이라며 공공부문 일자리 마련이 민간부문 일자리 증가의 마중물이 될 것이라고 말했다. 이재명 성남시장은 근로시간 단축과 공공부문 사회적 일자리 확대로 일자리 269만 개를 만들겠다고 밝혔다. 바른정당 유승민 의원은 칼퇴근법 등 근로시간 단축, 남경필 경기도지사는 기본근로 보장을 일자리 창출 대책으로 내놨다. 하지만 이런 공약을 실현하기 위해서는 예산이 최소 수조 원에서 수십조 원이 필요하다는 지적이 나온다. 국민의당 안철수 전 대표는 6일 문 전 대표의 일자리 공약에 대해 필요한 예산이 매년 30조 원 정도로 추정된다라고 비판했다. 이에 문 전 대표 측 관계자는 일자리 81만 개를 창출할 경우 매년 4조 5조 원씩 5년간 21조5050억 원이 필요하다라고 해명했다. 이에 새누리당 이현재 정책위의장은 연간 4조 5조 원이라면 월 50만 원짜리 아르바이트생을 모집하는 셈이라며 공공일자리 81만 개는 보여 주기식 정책이라며 공세를 강화했다. 또 대선 주자들은 저출산 해소와 일자리 나누기를 위해 근로시간 단축은 불가피하다고 입을 모은다. 하지만 근로시간 단축 역시 추가적인 예산 투입이 필요한 상황이다. 실제로 박근혜 정부에서는 근로시간 단축과 일자리 나누기 사업에 2014년 780여억 원의 예산을 집행했다. 증세해도 실현 가능성 낮아 고령화로 눈덩이처럼 예산이 불어나고 있는 복지 분야에서도 공약이 쏟아져 나오고 있다. 이 시장은 29세 이하 청년과 65세 이상 노인에게 연 100만 원의 기본소득을 제공하겠다는 공약을 내놨다. 기본소득은 아무런 조건 없이 국가가 주는 소득이다. 문 전 대표는 아동수당 도입과 다자녀 국가 책임제, 신혼부부 반값 임대주택 등의 복지 공약을 내놨다. 또 안희정 충남도지사는 직장어린이집 설치 의무 강화, 안철수 전 대표는 아빠 육아휴직 활성화와 국공립 어린이집 확충 등을 약속했다. 국가 부채가 가파르게 늘고 있는 가운데 일자리 창출과 복지를 확충하기 위해서는 결국 세금으로 필요한 예산을 메워야 한다. 정부가 내놓은 2016 2020년 국세 수입 연평균 증가율이 5.6%인 것을 감안하면 세수 증가는 연간 10조 원 수준이다. 자연적으로 늘어나는 복지 예산을 감안하면 결국 증세 외에는 마땅한 방법이 없다. 하지만 민주당과 국민의당이 내놓은 방안대로 법인세율을 높여도 늘어나는 세수는 연간 3조 4조 원에 그친다. 전문가들은 결국 규제 개혁 등을 통해 경기를 되살려 기업의 고용 여력을 끌어올리는 게 근본적인 해결책이라고 말한다. 노동시장과 산업부문의 구조 개혁을 외면한 채 재정을 쏟아부어 단기 고용률 증가만 노리는 건 전형적인 포퓰리즘 정책이라는 지적이다. 이병훈 중앙대 교수 사회학 는 경제 구조 개혁을 통해 민간부문 일자리를 늘리는 노력이 모든 일자리 대책에 병행돼야 한다라고 말했다. 문병기 weappon@donga.com 세종 천호성 기자\n",
      "\n",
      "2017-04-17 03:02:00\n",
      "심상정, 고용부 부총리급 격상해 노동현안 해결\n",
      "[선택 2017/대선 D-22]여성가족부를 성평등부로 개편.. 20세 청년에 1000만원씩 배당\n",
      " 차기 정부의 최대 리스크는 국가를 지탱하는 양축인 안보와 경제가 복합골절인 상황에서 인수위원회란 완충지대 없이 취임 즉시 업무를 시작해야 한다는 점이다. 그만큼 차기 대통령의 머릿속에는 취임과 동시에 어떤 일부터 시작해야 할지 업무 우선순위가 명확하게 정리돼 있어야 한다. 새 정부의 내각 구성은 빨라야 대통령 취임 이후 한 달 이상 걸려 집권 한 달 국가의 운명과 국정 방향은 대통령 개인 역량에 좌우될 가능성이 크다. 동아일보는 원내 5개 정당 대선 후보에게 취임 즉시 착수할 5대 업무 우선순위를 제시해 달라고 요청했다. 박근혜 전 대통령 탄핵 이후 두 달간의 국정 리더십 공백을 깨고 항해에 나설 대한민국호 의 명확한 이동 좌표를 알기 위해서다. 5 9 대선의 또 하나 선택의 기준이 여기에 담겨 있다. 심 후보는 집권하자마자 현 고용노동부 장관을 부총리급으로 격상하는 정부조직 개편을 추진할 계획이다. 노동부총리를 중심으로 사회적 대타협기구를 구성해 최저임금 1만 원, 비정규직 사용 사유 제한, 불법 파견 노동자의 정규직 전환 등 노동 현안 해결에 착수하겠다는 것이다. 또 5당 후보 중 유일한 여성인 심 후보는 집권 초부터 성평등 공약 실현에 집중할 것으로 전망된다. 현 여성가족부를 성평등부로 개편하고, 육아휴직급여 현 상한선 100만 원 를 150만 원까지 인상할 방침이다. 아빠 육아휴직의무제 슈퍼우먼방지법 , 여성폭력방지기본법 등도 집권 초기 주요 입법 과제로 꼽힌다. 매년 20세가 되는 청년에게 1인당 1000만 원을 지급하는 청년사회상속제도 등 청년 정책은 주요 국정과제로 추진될 것으로 전망된다. 심 후보는 상속 증여세입예산 약 5조4000억 원을 배분해 세습으로 인한 불평등과 흙수저론 등을 타파할 것이라고 설명했다. 재벌개혁과 경제민주화를 위한 상법 개정, 복지재원 마련을 위한 각종 증세도 집권 초 주요 과제로 추진될 것으로 보인다. 한편 심 후보는 16일 4차 산업혁명과 관련해 정부의 과감한 선도투자로 기업들에 실질적인 기회를 제공하겠다고 말했다. 심 후보는 이날 국회에서 기자회견을 열고 기본소득제 도입을 통해 소득 격차를 극복하고, 노동시간 단축을 통해 실질소득 악화를 막겠다고 강조했다. 유근형 noel@donga.com 박성진 기자\n",
      "\n",
      "2017-11-24 03:02:00\n",
      "\"디지털화-SW-로봇이 한국경제 미래.. 파괴적 혁신 나서라\"\n",
      "[동아비즈니스포럼 2017]마케팅 석학 필립 코틀러 美노스웨스턴대 석좌교수\n",
      " 팔순을 훌쩍 넘긴 노교수의 공부 열정만은 20대 못지않았다. 세계적 마케팅 석학인 필립 코틀러 미국 노스웨스턴대 켈로그경영대학원 석좌교수 86 는 최근 캐나다 토론토에서 가진 본보와의 인터뷰에서 이렇게 말하며 디지털 시대 기업과 국가의 덕목으로 변화와 혁신을 강조했다. 그는 세상엔 기후변화 같은 특정 분야에 집중하는 사람과 사물에 대한 호기심을 갖고 혁신을 고민하는 사람이 있는데 난 후자라고 말하며 웃었다. 다음은 일문일답. 기업들은 왜 디지털화에 더딘가. 성공한 기업들은 성공한 일만 계속한다. 실패한 뒤에야 신선한 생각을 한다. 결국 선두를 뒤쫓아 가는 일만 하게 된다. 내 주문 mantra 은 되도록 빨리 디지털화하라는 것이다. 여론 쏠림, 가짜 뉴스 현상은 디지털화의 위험 요인 아닌가. 디지털화로 같은 생각을 하는 부족집단 tribe 의 구미에 맞춘 미디어 수단이 확산됐다. 사람들은 이 부족집단 내에서만 보고, 읽고, 대화한다. 왜곡되고 과장된 정보와 가짜 뉴스의 영향을 받게 되는 것이다. 다행히 이에 대응하는 기업들이 생겨나고 있다. 최근 인공지능 AI 과 로봇이 일자리에 미치는 영향과 대안을 다룬 실업 시대의 삶 Life in Jobless World 이라는 글을 미국 언론에 기고했다. AI, 로봇 등이 사람의 일자리를 위협한다는 우려가 있는데 . 기업은 더 적은 비용으로 업무를 효과적으로 해낼 수 있다면 AI를 사용할 것이다. 하지만 세상의 일자리가 모두 없어진다는 건 과장된 얘기다. 로봇이 아이들을 가르치게 하진 않을 거 아닌가. 교사 직업은 남아 있을 것이다. 컴퓨터 프로그램이 회계사의 통찰까지 대체할 순 없다. 어떤 직업군이 가장 영향을 받을 것으로 보나. 자율주행 트럭이 등장하면 트럭 운전사들은 타격을 받는다. 많은 상점이 문을 닫을 것이다. 직원들은 자신의 회사를 무너뜨린 곳에서 전혀 다른 일자리를 찾아야 한다. 아마존의 물류센터 같은 곳 말이다. 일자리를 잃는 사람을 위해 어떤 대책이 필요한가. 특정 산업과 일자리를 파괴하는 기업에 세금을 부과해야 한다는 이론이 있다. 보편적 기본소득 아이디어도 있다. 모두에게 똑같이 1000달러는 준다는 식인데, 부자들은 그 돈을 받을 필요가 없지 않나. 이보다 저소득층이 사람다운 삶 livable life 를 살 수 있게 순소득적자 Net Earned Income Deficit 를 보전해 주는 개념을 더 지지한다. 그는 알리바바 바이두 텐센트 등 중국 소셜미디어 기업을 매우 강력한 기업들이라고 평가하며 페이스북이나 아마존을 무너뜨리진 못하겠지만 큰 영향을 줄 것이라고 전망했다. 한국도 이들을 따라잡기 위해 필요한 정책을 추진해야 한다고 지적했다. 서비스 시장을 더 개방해야 한다는 건가. 한국은 결정을 내려야 한다. 국민과 공직자들이 앞으로 성장의 기회가 어디에 있는지를 알아내야 한다. 이 질문에 대한 답은 디지털화, 소프트웨어, 로봇 등이었다. 일본은 좋은 판단을 내렸다. 한국 정보기술 IT 인프라는 세계적인 수준인데 . 진짜 문제는 알리바바를 이길 수 있는 아이디어가 있느냐다. 아직 시도해 보지 않은 기발한 아이디어가 있는가? 한국 기업들이 고품질, 가치 지향적 가격 정책, 상품과 서비스 혁신에 매진했으면 한다. 스스로를 파괴하거나 정체된 다른 사업을 파괴하는 걸 도전해 보라고 조언하고 싶다. 내년 2월 개최되는 평창 겨울올림픽을 위해 스포츠 마케팅 관점에서 조언을 해 달라. 상황을 예단하긴 어렵지만 미국이나 북한이 정신 나간 crazy 일을 하진 않을 것 같다. 평창 올림픽에 북한을 초대하는 것이 현명하다. 사태를 안정시키는 데 기여할 것이다. 마켓 4.0 관점에서 도널드 트럼프 미국 대통령의 트위터 소통을 평가한다면 . 트럼프 대통령은 매일 뉴스거리를 만들어 중요하고 존경받는 사람이 되고 싶어 하는 것 같다. 하지만 트위터 활용 방법은 현명하지 않다. 특히 다른 사람을 공격할 때 그렇다. 트위터를 아예 쓰지 않는 게 낫다. 그는 트럼프 대통령이 기업의 이익에 부합하지 않는데도 해외로 간 미국 기업을 돌아오라고 압박하는 것은 잘못된 일이라고 비판했다. 코틀러 교수는 다음 달 6일 동아비즈니스포럼 2017에서 한국 최초로 코틀러 어워드를 시상한다. 그는 새로운 수익을 창출할 수 있는 획기적이고 파괴적인 혁신을 이룩한 기업들에 주어지길 바란다. 기업들의 마케팅 품질과 영향력이 크게 개선될 것이라고 말했다. 토론토 박용 특파원 parky@donga.com\n",
      "\n",
      "2018-10-29 16:21:00\n",
      "이재명 \"혐의 인정 안 해\" ..점심 먹으러 나오며 여유만만\n",
      "nan\n",
      "29일 오전 10시 경찰 조사를 받기 위해 분당경찰서에 출석한 이 지사는 이날 오후 3시 30분 점심 식사를 위해 경찰서 밖으로 나왔다. 그는 친형 강제 입원 의혹과 관련된 직권남용 혐의에 대해선 논리적으로 죄가 안 되는 사실이라고 답했다. 이 지사는 이날 대기하던 차에 탑승하지 않고 걸어서 경찰서 정문을 나왔다. 또 이 과정에서 이 지사는 웃는 얼굴로 지지자들과 인사를 나눴다. 추가 조사가 남았냐는 질문에 이 지사는 추가 조사할 것 없다. 친형 강제입원 사안을 제외한 다른 사건들은 5분 이내에 끝날 것 같다. 혐의가 사실이 아니니까라며 조서 내용 확인하고 약간의 오 탈자 고쳐야 하므로 다시 들어가면 30분에서 한 시간 이내에 마무리될 것 같다라고 말했다. 이 지사는 이날 오전 10시 경찰에 출석하면서 이런 사건에 대한 관심보다는 우리의 삶을 나라의 미래를 어떻게 바꿀 것인가에 대한 관심이 좀 더 많았으면 좋겠다는 생각이 든다. 우리 경기도가 추진하고 있는 기본소득형 국토보유세, 여기에 관심 좀 가져달라고 당부했다. 이어 현 정부가 가지고 있는 가장 약한 고리 중 하나인 경제 정책에 대한 실패 얘기를 끄집어냈다. 지금의 문재인 대통령 지지율에서 내년에 집권 3년차에 접어들고 경제적인 문제의 실정이 촉발되게 되는 순간 현 정부와 결을 같이 하고 있는 인사가 아니라 현 정부와 다른 상태로서 비판적인 인사가 대권주자로 필요한 상황이 떠오를 수 있다면서 그런 여러 가지 정치적인 다목적인 포석을 두고서 이번 수사에 임하는 것이 아닌가라고 말했다. 한편 친형 이재선 씨 을 정신병원에 강제 입원시키려 했다 등의 의혹을 받고 있다. 김소정 동아닷컴 기자 toystory@donga.com\n",
      "\n",
      "2019-04-29 03:02:00\n",
      "경기도, 기본소득 박람회 30일까지 수원컨벤션센터 개최\n",
      "nan\n",
      "경기도가 주최하는 2019 대한민국 기본소득 박람회가 29, 30일 이틀간 경기 수원컨벤션센터에서 열린다. 기본소득, 대동세상 의 문을 열다를 주제로 열리는 이번 박람회는 경기연구원과 경기도경제과학진흥원, 기본소득한국네트워크가 공동 주관한다. 첫날인 29일에는 기본소득지구네트워크 BIEN 공동 설립자이자 영국 시민소득트러스트 의장인 애니 밀러가 비전에서 현실로, 정의, 평화, 복지의 새로운 시대라는 주제로 기조연설을 한다. 공동 기조발제자인 강남훈 한신대 교수는 혁신 주도 미래 변화상과 기본소득하의 따뜻한 세상이라는 주제로 연설한다. 이후 핀란드 사회보험국의 시그네 야우히아이넨 선임 경제학자가 진행하는 핀란드의 기본소득 실험 사례 발표 등이 이어진다. 30일에는 국내외 기본소득 전문가들이 참여해 경기도 기본소득 모습과 기본소득 일반 이론 및 최근 흐름을 주제로 토론을 벌인다. 남북 철도를 타볼 수 있는 남북국제평화역 철도 체험, 다양한 가상현실 VR 과 4차원 4D 체험을 할 수 있는 체험존, 뽀로로 싱어롱쇼 등이 박람회장에 마련된다. 이한주 경기연구원 원장은 이번 콘퍼런스는 전국 차원에서 기본소득을 포함한 새로운 사회적, 경제적 모델을 추구하는 데 중요한 정치적, 학술적 기반이 될 것이다라고 말했다. 수원 이경진 기자 lkj@donga.com\n",
      "\n",
      "# 2020/2/25 후\n",
      "2020-03-08 19:07:00\n",
      "김경수 \"국민에 '재난기본소득 100만원' 일시지원 제안..4대강보다 저비용\"\n",
      "nan\n",
      "재난기본소득이란 재난을 맞아 소득 감소로 생계 자체가 어려워진 국민을 위해 정부가 직접 돈을 지급하는 것을 뜻한다. 김 지사는 이날 블로그를 통해 코로나19 사태를 언급하며 모든 국민에게 재난기본소득 100만 원을 일시적으로 지원할 것을 정부와 국회에 제안한다고 말했다. 김 지사는 코로나19로 인한 세계경제 위기가 현실로 다가오는 것 아닌가 하는 걱정과 불안이 갈수록 커지고 있다며 한마디로 지금은 닥쳐올 경제위기에 대한 국가차원의 특단의 대책을 준비해야 하는 시기라고 말했다. 이어 정부에서는 이런 어려움을 극복하기 위해 추경안을 국회에 제출했다며 추경은 반드시 필요하다. 하지만 현재 상황을 극복하기 위한 임시 대책이지 미래의 위기를 막기 위한 근본 대책으로는 대단히 부족한 것이 사실이라고 덧붙였다. 그러면서 과거 세계경제가 위축될 때 선진국들은 특단의 대책으로 내수시장을 과감히 키워서 위기를 극복해왔다며 우리도 그런 대책을 지금부터 준비해야 한다고 주장했다. 또 그는 지금 한국 경제의 가장 큰 문제는 내수시장에 돈이 돌지 않는다는 것이다. 그나마 그동안 수출을 통해 버텨왔지만, 이제는 그마저도 불투명한 상황이 되었다며 내수와 수출이 동시에 위축되면 우리 경제의 타격은 불가피하고, 당연히 일자리는 대폭 감소하게 될 것이라고 분석했다. 아울러 경제를 살리기 위해서는 투자의 시기와 규모가 중요하다. 지원대상자를 선별하는데 시간과 행정적 비용을 낭비할 겨를이 없다며 대신 재난기본소득을 필요로 하지 않는 고소득층에 대해서는 내년도에 지급한 금액만큼 세금으로 다시 거두는 방안을 대안으로 제안한다고 말했다. 그러면서 모든 국민들에게 재난기본소득으로 1인당 100만 원을 지급하면 약 51조 원의 재원이 필요하다. 1인당 50만 원을 지급하면 26조 원이면 가능하다며 경제 전문가들에 의하면 51조 원을 재난기본소득으로 투자하면, 경제활성화를 통해 늘어나는 조세수입이 약 8 9조 원에 이를 것으로 추정한다. 여기에 고소득층의 기본소독 지급액을 내년도에 세금으로 얼마나 환수하느냐에 따라 정부의 재정 부담을 크게 완화시킬 수 있다고 주장했다. 끝으로 이런 방법을 통해 절반 가까이 재정 부담을 줄이면, 4대강 예산보다 적은 비용으로 전 국민 재난기본소득 시행이 가능하다며 이번 추경 예산안을 심의하는 과정에서 전 국민 재난기본소득 도입을 함께 논의해줄 것을 국회와 정부에 간곡하게 요청한다고 적었다. 정봉오 동아닷컴 기자 bong087@donga.com\n",
      "\n",
      "2020-03-25 10:11:00\n",
      "박원순 \"서울 음식점 1600곳 폐업..재난생활비 가장 합리적\"\n",
      "nan\n",
      "박 시장은 25일 MBC라디오 김종배의 시선집중과의 인터뷰에서 코로나19 여파로 이달에만 서울에 음식점 1600여 곳이 불황을 이기지 못하고 폐업했다면서 재난긴급생활비는 중하위계층을 모두 포괄하는 가장 합리적, 실질적, 즉시적인 조치라고 했다. 앞서 서울시는 기존 복지제도의 대상이 아닌 중위소득 100% 이하 117만 가구에 인원수에 따라 30만 50만 원의 재난긴급생활비를 지급하겠다고 밝혔다. 1가구당 2.6명 정도 가구 구성원이 있다고 가정할 때 300만 명이 혜택을 받는다. 박 시장은 국민 모두에게 동일한 금액을 주는 재난기본소득 지급을 할 수 있으면 좋겠지만 재원 한계가 너무나 분명하다. 지금 부동산 거래가 완전히 끊겨 하반기 세수도 큰 어려움이 있을 거라고 본다며 재원 한계가 분명한 상황에서는 일단 직간접적인 타격을 입은 분들에게 우선적으로 지원하는 게 효율적이고 실질적이고 합리적이다라고 설명했다. 현장 예배를 강행하는 교회 중 성북구 소재 사랑제일교회에만 집회 금지 행정명령을 내린 것에 대해서는 나머지 모든 교회는 감염병 예방지침 준수 당부에 응해주셨다고 했다. 사랑제일교회는 보수성향의 전광훈 목사가 담임 목사로 있는 곳이다. 박 시장은 사랑제일교회의 지침 위반에 정치적 이유도 있다고 보느냐는 물음에 판단하기는 어렵지만 지침 준수는 우리의 공동체 의식이고 하나의 상식이라고 본다고 답했다. 그러면서 만약 이번 주에 또 집회를 강행한다면 행정명령을 이행하도록 할 수밖에 없다고 강조했다. 사랑제일교회가 행정명령을 위반하면 집회에 참여하는 이들에게는 각 300만 원 이하의 벌금이 청구된다. 장연제 동아닷컴 기자 jeje@donga.com\n",
      "\n",
      "2020-05-12 03:00:00\n",
      "\"黨혁신 중심으로\" 세력화 나서는 통합당 소장파\n",
      "nan\n",
      "국민들이 네 번의 회초리를 들었는데 마지막 회초리를 가장 세게 들었다. 시대정신에 뒤떨어졌다. 시대정신부터 되돌아보자. 재선 김성원 의원 총선에서 궤멸적인 참패를 당한 미래통합당에서 당 혁신과 보수 재건을 목표로 내건 소장개혁 그룹이 서서히 꿈틀대고 있다. 당장 김종인 비상대책위원회 체제 전환 문제를 놓고 초선 당선자들의 목소리가 높아지는 가운데 소장파 재조직에 나선 이들의 움직임이 아직 안갯속인 통합당의 향배에 영향을 미칠 것이라는 전망이 나온다. 4 15총선 이후 통합당 내에서 윤곽을 드러내고 있는 소장파 모임에는 김성원 의원이 주도하는 삼정개혁 정치 정책 정당개혁 모임과 정책정당 스터디 모임 유의동 의원 주도 전국 초선 모임 서범수 당선자 주도 부산 초선 모임 등이 있다. 이와 별도로 오신환 의원을 중심으로 수도권에 출마했다 고배를 마신 통합당 3040그룹도 별도 모임을 갖고 있다. 소장파 모임은 16대 국회에서 당 혁신 어젠다를 주도했던 남원정 남경필, 원희룡, 정병국 과 같은 개혁 구심점 역할을 하겠다는 구상이다. 김성원 의원은 뒤를 보기 위한 게 아닌 앞으로 가기 위해 있는 자동차 백미러 같은 역할을 해내고 싶다고 강조했다. 부산 초선 모임에 참여하는 황보승희 당선자는 백가쟁명식 토론이 당의 전반적인 수준을 향상시킬 수 있을 거라는 기대감이 있다고 했다. 이들 중에는 기본소득 등 여권이 주도해온 이슈에 대한 전향적인 태도를 주문하는 등 당의 방향 자체를 재설정할 것을 요구하는 목소리도 나온다. 이양수 의원은 동아일보와의 통화에서 우리 당도 평생 가난한 사람을 위한 대책, 젊은이들과 고령층 농민 어민에 대한 기본소득 정책 등을 준비해야 한다며 이는 이념적인 것과는 다르다라고 했다. 3040그룹은 15일 진중권 전 동양대 교수를 초청해 총선 참패 원인과 보수의 미래를 주제로 토론을 벌일 예정이다. 다만 총선 후 우후죽순처럼 개혁을 표방한 모임들이 생기다 보니 일각에선 이들이 세력화하면서 오히려 당의 자중지란이 심화될 수 있다는 우려도 나온다. 3선의 유의동 의원은 모임을 만들었다고 해서 정치 세력화가 목표는 아니다라고 강조했다. 초선의 김웅 당선자는 개혁 모임은 클로즈드 숍 closed shop 노조 가입이 고용 조건인 노사협정 같은 게 아니다라며 섣부른 세력화는 경계해야 한다고 했다. 과거 보수정당의 혁신에 앞장섰던 소장파 선배들은 적극성을 주문하면서도 수평적 리더십을 당부했다. 정병국 의원은 호기롭게 시작하더라도 선배 그룹이 각개격파를 하거나 사람을 심는 식으로 와해시킬 수도 있다며 필요하면 의원총회도 소집하는 용기가 필요하다고 조언했다. 원희룡 제주도지사는 개혁소장파는 과감한 자기비판과 자정 노력의 선두에 서야 한다며 늘 치열하게 수평적 토론이 진행되는 플랫폼을 어떻게 만들 것인가도 고민해 달라고 당부했다. 이지훈 easyhoon@donga.com 조동주 기자\n",
      "\n",
      "2020-07-03 03:01:00\n",
      "기본소득 논의 전 고려할 것들[내 생각은/박상근]\n",
      "nan\n",
      "기본소득 논쟁이 뜨겁다. 표를 의식한 정치권이 기본소득 도입에 개입하면 나라 살림에 대한 전반적인 고려 없이 졸속으로 흐를 가능성이 높다. 기본소득이 포퓰리즘으로 흐를 가능성을 경계하고 준비하고 고려해야 할 점이 많다. 먼저 재원 확보다. 기본소득은 국가가 모든 국민에게 일정 소득을 보장하기 위해 개별적으로 매월 일정액을 지급하는 현금이다. 올 들어 코로나19 대비 추경 재원을 대부분 적자 국채를 발행해 마련했다. 재원 마련 대책 없이 기본소득을 도입한다면 그 재원도 빚을 내 충당할 수밖에 없다. 이 경우 국가채무가 급증하면서 재정 파탄에 직면할 수 있다. 다음은 기존 복지의 정비다. 경제적 약자에게 지급되는 기존 복지제도를 정비하지 않으면 국가 재정이 기본소득과 기존 복지에 들어가는 재원을 감당하기란 불가능하다. 불평등과 재원 낭비 등 온갖 비효율이 발생한다. 정부가 기존 복지제도를 효율적이고 공평하게 정비할 수 있는지에 기본소득 도입 여부가 달렸다. 박상근 세무회계연구소 대표 동아일보는 독자 투고를 받고 있습니다. 사회 각 분야와 관련한 여러분의 의견을 이름, 소속, 주소, 연락처와 함께 e메일 opinion@donga.com 이나 팩스 02 2020 1299 로 보내주십시오. 원고가 채택되신 분께는 소정의 원고료를 지급합니다.\n",
      "\n",
      "2020-07-31 03:02:00\n",
      "이재명 \"거대여당 기대 높아\" 이낙연 \"첫걸음 뒤뚱뒤뚱\"\n",
      "지지율 1, 2위 與대선주자 회동.. \"집권당 책임감 막중\" 강조\n",
      "이 의원과 이 지사는 환담에서 거대 여당으로서의 책임감을 거듭 강조했다. 이 지사가 먼저 민주당이 국가권력, 지방권력에 이어 국회권력까지 다수를 차지했기 때문에 국민들의 당에 대한 기대가 너무 높다며 좋은 기회일 수 있는데 한편으로 매우 중차대한 엄중한 시기라고 했다. 이에 이 의원도 흔히 막중한 책임감이라는 말을 많이 쓰는데 요즘은 정말 그런 느낌이 든다며 거대 여당을 만들어 주셨는데 첫걸음이 좀 뒤뚱뒤뚱한 것 같아서 국민들에게 미안하기도 하다고 말했다. 두 사람의 대화는 최근 정치권 안팎에서 민주당의 의회 독재에 대한 비판이 이어지는 가운데 나온 발언이라 관심을 끌었다. 이 의원 측은 신종 코로나바이러스 감염증 코로나19 사태 극복과 부동산 정책 등 쌓여 있는 현안에 대해 집권 여당으로서 책임 있게 대응하자는 취지의 발언이라고 설명했다. 이 의원과 이 지사는 이날 대화 중 상당 시간을 부동산 정책에 할애했다. 이 지사가 자신이 제안했던 기본소득토지세와 장기공공임대주택 공급 정책 등을 소개하자 이 의원은 이 지사 말씀처럼 공급을 늘리면 가격이 안정될 것이라며 아이디어들 간 접점을 찾아 상승효과를 낼 수 있도록 하겠다고 했다. 이어 입주자가 원하는 만큼 평생 살 수 있게 하는 공공주택 공급이 부동산 시장 불안을 줄이는 데 효과가 있을 것이라며 100만 호 정도 공급하면 영향이 있지 않겠느냐고 했다. 김지현 기자 jhk85@donga.com\n",
      "\n"
     ]
    }
   ],
   "source": [
    "source = '동아일보'\n",
    "print(\"# 2020/2/25 전\")\n",
    "for datetime in dfs[source][dfs[source].index < split_date].sample(5).sort_index().index:\n",
    "    print_article(source, datetime)\n",
    "    print(\"\")\n",
    "\n",
    "print(\"# 2020/2/25 후\")\n",
    "for datetime in dfs[source][dfs[source].index >= split_date].sample(5).sort_index().index:\n",
    "    print_article(source, datetime)\n",
    "    print(\"\")"
   ]
  },
  {
   "cell_type": "code",
   "execution_count": 97,
   "metadata": {},
   "outputs": [],
   "source": [
    "def print_rel_sent(source, datetime):\n",
    "    datetime = pd.Timestamp(datetime)\n",
    "    s = dfs[source].relevant_sentences[dfs[source].index == datetime]\n",
    "    print(s.index[0])\n",
    "    print(s.iloc[0])\n",
    "    \n",
    "def print_article(source, datetime):\n",
    "    datetime = pd.Timestamp(datetime)\n",
    "    row = dfs[source][dfs[source].index == datetime].iloc[0]\n",
    "    \n",
    "    print(row.name)\n",
    "    print(row.title)\n",
    "    print(row.summary)\n",
    "    print(row.text)\n",
    "    \n"
   ]
  },
  {
   "cell_type": "markdown",
   "metadata": {},
   "source": [
    "LDA"
   ]
  },
  {
   "cell_type": "code",
   "execution_count": 3,
   "metadata": {},
   "outputs": [
    {
     "data": {
      "text/html": [
       "<div>\n",
       "<style scoped>\n",
       "    .dataframe tbody tr th:only-of-type {\n",
       "        vertical-align: middle;\n",
       "    }\n",
       "\n",
       "    .dataframe tbody tr th {\n",
       "        vertical-align: top;\n",
       "    }\n",
       "\n",
       "    .dataframe thead th {\n",
       "        text-align: right;\n",
       "    }\n",
       "</style>\n",
       "<table border=\"1\" class=\"dataframe\">\n",
       "  <thead>\n",
       "    <tr style=\"text-align: right;\">\n",
       "      <th></th>\n",
       "      <th>title</th>\n",
       "      <th>summary</th>\n",
       "      <th>text</th>\n",
       "      <th>extracted_category</th>\n",
       "      <th>sentences</th>\n",
       "      <th>nouns</th>\n",
       "      <th>kw_index</th>\n",
       "      <th>sentence_loc_tuple</th>\n",
       "      <th>relevant_sentences</th>\n",
       "    </tr>\n",
       "    <tr>\n",
       "      <th>datetime</th>\n",
       "      <th></th>\n",
       "      <th></th>\n",
       "      <th></th>\n",
       "      <th></th>\n",
       "      <th></th>\n",
       "      <th></th>\n",
       "      <th></th>\n",
       "      <th></th>\n",
       "      <th></th>\n",
       "    </tr>\n",
       "  </thead>\n",
       "  <tbody>\n",
       "    <tr>\n",
       "      <th>2017-01-02 18:26:00</th>\n",
       "      <td>[왜냐면] 한국에서 기본소득이 가능할까? / 이태수</td>\n",
       "      <td>NaN</td>\n",
       "      <td>이태수꽃동네대학교 사회복지대학원 원장 기본소득에 대한 논의가 서서히 끓어오르고 있...</td>\n",
       "      <td>[왜냐면]</td>\n",
       "      <td>[이태수꽃동네대학교 사회복지대학원 원장 기본소득에 대한 논의가 서서히 끓어오르고 있...</td>\n",
       "      <td>[[이태수꽃동네대학교, 사회복지대학원, 원장, 기본소득, 논의], [진보진영, 기본...</td>\n",
       "      <td>[[0, 3], [1, 1], [3, 14], [8, 3], [8, 11], [9,...</td>\n",
       "      <td>([2, 7, 11, 18, 24], [0, 1, 3, 8, 9, 10, 12, 1...</td>\n",
       "      <td>[이태수꽃동네대학교 사회복지대학원 원장 기본소득에 대한 논의가 서서히 끓어오르고 있...</td>\n",
       "    </tr>\n",
       "    <tr>\n",
       "      <th>2017-01-02 18:36:00</th>\n",
       "      <td>[한겨레 사설] 밀려오는 4차 산업혁명의 '일자리 충격'</td>\n",
       "      <td>NaN</td>\n",
       "      <td>지난해 1월 다보스포럼 이후 제4차 산업혁명이 고용에 미칠 영향이 세계적 관심사로...</td>\n",
       "      <td>[한겨레 사설]</td>\n",
       "      <td>[지난해 1월 다보스포럼 이후 제4차 산업혁명이 고용에 미칠 영향이 세계적 관심사로...</td>\n",
       "      <td>[[지난해, 1월, 다보스포럼, 이후, 제4차, 산업혁명, 고용, 영향, 세계적, ...</td>\n",
       "      <td>[[17, 11]]</td>\n",
       "      <td>([16], [17], [18])</td>\n",
       "      <td>[4차 산업혁명이 가져올 생산성 향상의 과실을 재분배하기 위한 제도 도입도 빼놓을 ...</td>\n",
       "    </tr>\n",
       "    <tr>\n",
       "      <th>2017-01-03 10:26:00</th>\n",
       "      <td>무인매장·무인공장·무인운전..노동자가 사라진다</td>\n",
       "      <td>새해기획-4차 산업혁명인간혁명의 갈림길 ① 인간 노동 존중 않는 혁명은 실패한다</td>\n",
       "      <td>스마트 쇼퍼 사용해보니 그것은 혁명이었다. 직장인 곽지은 38 씨는 지난달 22일...</td>\n",
       "      <td>[]</td>\n",
       "      <td>[스마트 쇼퍼 사용해보니 그것은 혁명이었다, 직장인 곽지은 38 씨는 지난달 22일...</td>\n",
       "      <td>[[스마트, 쇼퍼, 사용, 그것, 혁명], [직장, 곽지, 38, 지난달, 22일,...</td>\n",
       "      <td>[[67, 6]]</td>\n",
       "      <td>([66], [67], [68])</td>\n",
       "      <td>[개인이 각자 대안을 찾을 때까지 단기적으로 사회가 버팀목이 되어야 한다는 뜻이다,...</td>\n",
       "    </tr>\n",
       "    <tr>\n",
       "      <th>2017-01-03 11:16:00</th>\n",
       "      <td>이재명 \"미군 방위비 분담금 낮춰야..자주국방도 대비\"</td>\n",
       "      <td>'김현정의 뉴스쇼' 대선주자 인터뷰 \"유승민, 사드 주장해놓고 지역구에는 안 된다는...</td>\n",
       "      <td>이재명 성남시장이 미국과 방위비 분담금 협상을 해 주둔비용의 50%로 낮춰야 하며...</td>\n",
       "      <td>[]</td>\n",
       "      <td>[이재명 성남시장이 미국과 방위비 분담금 협상을 해 주둔비용의 50%로 낮춰야 하며...</td>\n",
       "      <td>[[이재명, 성남시장, 미국, 방위비, 분담금, 협상, 주둔비용의, 50, 미군, ...</td>\n",
       "      <td>[[16, 0]]</td>\n",
       "      <td>([15], [16], [17])</td>\n",
       "      <td>[북한에 돈 주면서 총 쏴달라고 하는 집단이라며 국가 존속에 가장 중요한 안보 문제...</td>\n",
       "    </tr>\n",
       "    <tr>\n",
       "      <th>2017-01-03 18:16:00</th>\n",
       "      <td>핀란드, 기본소득 실험..매달 71만원 그냥 준다</td>\n",
       "      <td>2000명에 2년간 실험..취업해도 지급  빈곤감소·고용확대 효과 면밀 검토뒤 성과...</td>\n",
       "      <td>핀란드가 국가 단위로는 유럽 최초로 올해부터 기본소득제 실험을 시작했다. 핀란드 ...</td>\n",
       "      <td>[]</td>\n",
       "      <td>[핀란드가 국가 단위로는 유럽 최초로 올해부터 기본소득제 실험을 시작했다, 핀란드 ...</td>\n",
       "      <td>[[핀란드, 국, 단위, 유럽, 최초, 올해, 기본소득제, 실험, 시작], [핀란드...</td>\n",
       "      <td>[[0, 6], [1, 20], [3, 0], [4, 7], [5, 6], [6, ...</td>\n",
       "      <td>([2, 9, 17], [0, 1, 3, 4, 5, 6, 10, 11, 12, 13...</td>\n",
       "      <td>[핀란드가 국가 단위로는 유럽 최초로 올해부터 기본소득제 실험을 시작했다, 핀란드 ...</td>\n",
       "    </tr>\n",
       "  </tbody>\n",
       "</table>\n",
       "</div>"
      ],
      "text/plain": [
       "                                               title  \\\n",
       "datetime                                               \n",
       "2017-01-02 18:26:00     [왜냐면] 한국에서 기본소득이 가능할까? / 이태수   \n",
       "2017-01-02 18:36:00  [한겨레 사설] 밀려오는 4차 산업혁명의 '일자리 충격'   \n",
       "2017-01-03 10:26:00        무인매장·무인공장·무인운전..노동자가 사라진다   \n",
       "2017-01-03 11:16:00   이재명 \"미군 방위비 분담금 낮춰야..자주국방도 대비\"   \n",
       "2017-01-03 18:16:00      핀란드, 기본소득 실험..매달 71만원 그냥 준다   \n",
       "\n",
       "                                                               summary  \\\n",
       "datetime                                                                 \n",
       "2017-01-02 18:26:00                                                NaN   \n",
       "2017-01-02 18:36:00                                                NaN   \n",
       "2017-01-03 10:26:00       새해기획-4차 산업혁명인간혁명의 갈림길 ① 인간 노동 존중 않는 혁명은 실패한다   \n",
       "2017-01-03 11:16:00  '김현정의 뉴스쇼' 대선주자 인터뷰 \"유승민, 사드 주장해놓고 지역구에는 안 된다는...   \n",
       "2017-01-03 18:16:00  2000명에 2년간 실험..취업해도 지급  빈곤감소·고용확대 효과 면밀 검토뒤 성과...   \n",
       "\n",
       "                                                                  text  \\\n",
       "datetime                                                                 \n",
       "2017-01-02 18:26:00   이태수꽃동네대학교 사회복지대학원 원장 기본소득에 대한 논의가 서서히 끓어오르고 있...   \n",
       "2017-01-02 18:36:00   지난해 1월 다보스포럼 이후 제4차 산업혁명이 고용에 미칠 영향이 세계적 관심사로...   \n",
       "2017-01-03 10:26:00   스마트 쇼퍼 사용해보니 그것은 혁명이었다. 직장인 곽지은 38 씨는 지난달 22일...   \n",
       "2017-01-03 11:16:00   이재명 성남시장이 미국과 방위비 분담금 협상을 해 주둔비용의 50%로 낮춰야 하며...   \n",
       "2017-01-03 18:16:00   핀란드가 국가 단위로는 유럽 최초로 올해부터 기본소득제 실험을 시작했다. 핀란드 ...   \n",
       "\n",
       "                    extracted_category  \\\n",
       "datetime                                 \n",
       "2017-01-02 18:26:00              [왜냐면]   \n",
       "2017-01-02 18:36:00           [한겨레 사설]   \n",
       "2017-01-03 10:26:00                 []   \n",
       "2017-01-03 11:16:00                 []   \n",
       "2017-01-03 18:16:00                 []   \n",
       "\n",
       "                                                             sentences  \\\n",
       "datetime                                                                 \n",
       "2017-01-02 18:26:00  [이태수꽃동네대학교 사회복지대학원 원장 기본소득에 대한 논의가 서서히 끓어오르고 있...   \n",
       "2017-01-02 18:36:00  [지난해 1월 다보스포럼 이후 제4차 산업혁명이 고용에 미칠 영향이 세계적 관심사로...   \n",
       "2017-01-03 10:26:00  [스마트 쇼퍼 사용해보니 그것은 혁명이었다, 직장인 곽지은 38 씨는 지난달 22일...   \n",
       "2017-01-03 11:16:00  [이재명 성남시장이 미국과 방위비 분담금 협상을 해 주둔비용의 50%로 낮춰야 하며...   \n",
       "2017-01-03 18:16:00  [핀란드가 국가 단위로는 유럽 최초로 올해부터 기본소득제 실험을 시작했다, 핀란드 ...   \n",
       "\n",
       "                                                                 nouns  \\\n",
       "datetime                                                                 \n",
       "2017-01-02 18:26:00  [[이태수꽃동네대학교, 사회복지대학원, 원장, 기본소득, 논의], [진보진영, 기본...   \n",
       "2017-01-02 18:36:00  [[지난해, 1월, 다보스포럼, 이후, 제4차, 산업혁명, 고용, 영향, 세계적, ...   \n",
       "2017-01-03 10:26:00  [[스마트, 쇼퍼, 사용, 그것, 혁명], [직장, 곽지, 38, 지난달, 22일,...   \n",
       "2017-01-03 11:16:00  [[이재명, 성남시장, 미국, 방위비, 분담금, 협상, 주둔비용의, 50, 미군, ...   \n",
       "2017-01-03 18:16:00  [[핀란드, 국, 단위, 유럽, 최초, 올해, 기본소득제, 실험, 시작], [핀란드...   \n",
       "\n",
       "                                                              kw_index  \\\n",
       "datetime                                                                 \n",
       "2017-01-02 18:26:00  [[0, 3], [1, 1], [3, 14], [8, 3], [8, 11], [9,...   \n",
       "2017-01-02 18:36:00                                         [[17, 11]]   \n",
       "2017-01-03 10:26:00                                          [[67, 6]]   \n",
       "2017-01-03 11:16:00                                          [[16, 0]]   \n",
       "2017-01-03 18:16:00  [[0, 6], [1, 20], [3, 0], [4, 7], [5, 6], [6, ...   \n",
       "\n",
       "                                                    sentence_loc_tuple  \\\n",
       "datetime                                                                 \n",
       "2017-01-02 18:26:00  ([2, 7, 11, 18, 24], [0, 1, 3, 8, 9, 10, 12, 1...   \n",
       "2017-01-02 18:36:00                                 ([16], [17], [18])   \n",
       "2017-01-03 10:26:00                                 ([66], [67], [68])   \n",
       "2017-01-03 11:16:00                                 ([15], [16], [17])   \n",
       "2017-01-03 18:16:00  ([2, 9, 17], [0, 1, 3, 4, 5, 6, 10, 11, 12, 13...   \n",
       "\n",
       "                                                    relevant_sentences  \n",
       "datetime                                                                \n",
       "2017-01-02 18:26:00  [이태수꽃동네대학교 사회복지대학원 원장 기본소득에 대한 논의가 서서히 끓어오르고 있...  \n",
       "2017-01-02 18:36:00  [4차 산업혁명이 가져올 생산성 향상의 과실을 재분배하기 위한 제도 도입도 빼놓을 ...  \n",
       "2017-01-03 10:26:00  [개인이 각자 대안을 찾을 때까지 단기적으로 사회가 버팀목이 되어야 한다는 뜻이다,...  \n",
       "2017-01-03 11:16:00  [북한에 돈 주면서 총 쏴달라고 하는 집단이라며 국가 존속에 가장 중요한 안보 문제...  \n",
       "2017-01-03 18:16:00  [핀란드가 국가 단위로는 유럽 최초로 올해부터 기본소득제 실험을 시작했다, 핀란드 ...  "
      ]
     },
     "execution_count": 3,
     "metadata": {},
     "output_type": "execute_result"
    }
   ],
   "source": [
    "dfs['한겨레'].head()"
   ]
  },
  {
   "cell_type": "code",
   "execution_count": 14,
   "metadata": {},
   "outputs": [],
   "source": [
    "for k, v in dfs.items():\n",
    "    v.relevant_sentences.apply(\n",
    "        lambda x: '. '.join(x)\n",
    "    ).reset_index(\n",
    "    ).to_csv(\n",
    "        PROJECT_DIR / 'data' / 'processed' / f'{k}-relevant_sentences.csv', index=False, encoding='cp949'\n",
    "    )"
   ]
  },
  {
   "cell_type": "code",
   "execution_count": 16,
   "metadata": {},
   "outputs": [],
   "source": [
    "df = pd.read_csv(PROJECT_DIR / 'data' / 'processed' / f'동아일보-relevant_sentences.csv', encoding='cp949')"
   ]
  },
  {
   "cell_type": "code",
   "execution_count": 17,
   "metadata": {},
   "outputs": [
    {
     "data": {
      "text/html": [
       "<div>\n",
       "<style scoped>\n",
       "    .dataframe tbody tr th:only-of-type {\n",
       "        vertical-align: middle;\n",
       "    }\n",
       "\n",
       "    .dataframe tbody tr th {\n",
       "        vertical-align: top;\n",
       "    }\n",
       "\n",
       "    .dataframe thead th {\n",
       "        text-align: right;\n",
       "    }\n",
       "</style>\n",
       "<table border=\"1\" class=\"dataframe\">\n",
       "  <thead>\n",
       "    <tr style=\"text-align: right;\">\n",
       "      <th></th>\n",
       "      <th>datetime</th>\n",
       "      <th>relevant_sentences</th>\n",
       "    </tr>\n",
       "  </thead>\n",
       "  <tbody>\n",
       "    <tr>\n",
       "      <th>0</th>\n",
       "      <td>2017-01-13 03:03:00</td>\n",
       "      <td>반값 등록금 실현에 필요한 예산만 적어도 5000억 원이 들지만 충분히 가능하다는 ...</td>\n",
       "    </tr>\n",
       "    <tr>\n",
       "      <th>1</th>\n",
       "      <td>2017-01-18 03:03:00</td>\n",
       "      <td>그는 정책은 의지의 문제이고 용기의 문제라며 나는 말하면 다 해 버린다라고 강조했다...</td>\n",
       "    </tr>\n",
       "    <tr>\n",
       "      <th>2</th>\n",
       "      <td>2017-01-23 11:06:00</td>\n",
       "      <td>그는 공정경제질서 회복을 위해 이 시대 최고 권력 재벌체제를 해체해야 한다고 주장하...</td>\n",
       "    </tr>\n",
       "    <tr>\n",
       "      <th>3</th>\n",
       "      <td>2017-01-24 03:02:00</td>\n",
       "      <td>이어 이 부회장의 구속을 말할 수 없는 사람은 삼성과 싸울 수도 없는 사람이고, 삼...</td>\n",
       "    </tr>\n",
       "    <tr>\n",
       "      <th>4</th>\n",
       "      <td>2017-01-24 03:03:00</td>\n",
       "      <td>2008년 글로벌 금융위기 이후 미국 오바마 정부와 일본 아베 정부가 양적 완화 정...</td>\n",
       "    </tr>\n",
       "    <tr>\n",
       "      <th>...</th>\n",
       "      <td>...</td>\n",
       "      <td>...</td>\n",
       "    </tr>\n",
       "    <tr>\n",
       "      <th>234</th>\n",
       "      <td>2020-07-28 14:16:00</td>\n",
       "      <td>이 경기지사는 28일 경기도청에서 기자회견을 열고 경기도 부동산 주요 대책을 발표했...</td>\n",
       "    </tr>\n",
       "    <tr>\n",
       "      <th>235</th>\n",
       "      <td>2020-07-29 03:01:00</td>\n",
       "      <td>주식 백지신탁제와 유사한 부동산 백지신탁제를 정부 차원에서 도입해 달라는 요청이 받...</td>\n",
       "    </tr>\n",
       "    <tr>\n",
       "      <th>236</th>\n",
       "      <td>2020-07-30 14:02:00</td>\n",
       "      <td>김 위원장은 이날 국회에서 열린 비상대책위원회의에서 정부가 코로나19로 어려움을 겪...</td>\n",
       "    </tr>\n",
       "    <tr>\n",
       "      <th>237</th>\n",
       "      <td>2020-07-30 17:46:00</td>\n",
       "      <td>이 의원과 이 지사는 이날 대화 중 상당 시간을 부동산 정책에 할애했다. 이 지사가...</td>\n",
       "    </tr>\n",
       "    <tr>\n",
       "      <th>238</th>\n",
       "      <td>2020-07-31 03:02:00</td>\n",
       "      <td>이 의원과 이 지사는 이날 대화 중 상당 시간을 부동산 정책에 할애했다. 이 지사가...</td>\n",
       "    </tr>\n",
       "  </tbody>\n",
       "</table>\n",
       "<p>239 rows × 2 columns</p>\n",
       "</div>"
      ],
      "text/plain": [
       "                datetime                                 relevant_sentences\n",
       "0    2017-01-13 03:03:00  반값 등록금 실현에 필요한 예산만 적어도 5000억 원이 들지만 충분히 가능하다는 ...\n",
       "1    2017-01-18 03:03:00  그는 정책은 의지의 문제이고 용기의 문제라며 나는 말하면 다 해 버린다라고 강조했다...\n",
       "2    2017-01-23 11:06:00  그는 공정경제질서 회복을 위해 이 시대 최고 권력 재벌체제를 해체해야 한다고 주장하...\n",
       "3    2017-01-24 03:02:00  이어 이 부회장의 구속을 말할 수 없는 사람은 삼성과 싸울 수도 없는 사람이고, 삼...\n",
       "4    2017-01-24 03:03:00  2008년 글로벌 금융위기 이후 미국 오바마 정부와 일본 아베 정부가 양적 완화 정...\n",
       "..                   ...                                                ...\n",
       "234  2020-07-28 14:16:00  이 경기지사는 28일 경기도청에서 기자회견을 열고 경기도 부동산 주요 대책을 발표했...\n",
       "235  2020-07-29 03:01:00  주식 백지신탁제와 유사한 부동산 백지신탁제를 정부 차원에서 도입해 달라는 요청이 받...\n",
       "236  2020-07-30 14:02:00  김 위원장은 이날 국회에서 열린 비상대책위원회의에서 정부가 코로나19로 어려움을 겪...\n",
       "237  2020-07-30 17:46:00  이 의원과 이 지사는 이날 대화 중 상당 시간을 부동산 정책에 할애했다. 이 지사가...\n",
       "238  2020-07-31 03:02:00  이 의원과 이 지사는 이날 대화 중 상당 시간을 부동산 정책에 할애했다. 이 지사가...\n",
       "\n",
       "[239 rows x 2 columns]"
      ]
     },
     "execution_count": 17,
     "metadata": {},
     "output_type": "execute_result"
    }
   ],
   "source": [
    "df"
   ]
  },
  {
   "cell_type": "code",
   "execution_count": null,
   "metadata": {},
   "outputs": [],
   "source": []
  }
 ],
 "metadata": {
  "kernelspec": {
   "display_name": "Python [conda env:ubi]",
   "language": "python",
   "name": "conda-env-ubi-py"
  },
  "language_info": {
   "codemirror_mode": {
    "name": "ipython",
    "version": 3
   },
   "file_extension": ".py",
   "mimetype": "text/x-python",
   "name": "python",
   "nbconvert_exporter": "python",
   "pygments_lexer": "ipython3",
   "version": "3.8.3"
  }
 },
 "nbformat": 4,
 "nbformat_minor": 4
}
