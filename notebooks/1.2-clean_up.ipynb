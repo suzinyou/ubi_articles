{
 "cells": [
  {
   "cell_type": "code",
   "execution_count": 78,
   "metadata": {},
   "outputs": [],
   "source": [
    "import os\n",
    "import re\n",
    "import pickle\n",
    "\n",
    "import pandas as pd\n",
    "import matplotlib.pyplot as plt\n",
    "\n",
    "from src.env import PROJECT_DIR"
   ]
  },
  {
   "cell_type": "code",
   "execution_count": 2,
   "metadata": {},
   "outputs": [],
   "source": [
    "file_names = [\n",
    "    '20170101-20181231.csv',\n",
    "    '20190101-20191231.csv',\n",
    "    '20200101-20200731.csv']"
   ]
  },
  {
   "cell_type": "code",
   "execution_count": 104,
   "metadata": {},
   "outputs": [],
   "source": [
    "data_dir = PROJECT_DIR / 'data' / 'raw'\n",
    "media_dfs = dict()\n",
    "\n",
    "for outlet in os.scandir(data_dir):\n",
    "    if not os.path.isdir(outlet):\n",
    "        continue\n",
    "    dfs = []\n",
    "    for f in os.scandir(outlet.path):\n",
    "        if f.name not in file_names:\n",
    "            continue\n",
    "        dfs.append(pd.read_csv(f.path))\n",
    "        \n",
    "    df = pd.concat(dfs)\n",
    "    media_dfs[outlet.name] = df"
   ]
  },
  {
   "cell_type": "markdown",
   "metadata": {},
   "source": [
    "Compile regexes"
   ]
  },
  {
   "cell_type": "code",
   "execution_count": 35,
   "metadata": {},
   "outputs": [],
   "source": [
    "square_brackets = re.compile(r'\\[(.+)\\]')\n",
    "sentence_break = re.compile(r'\\.[\\s\\'\"\\)\\>\\?!]')\n",
    "quotation_marks = re.compile(r'[‘’“”\"\\']')\n",
    "open_brackets = re.compile(r'(?<=[^\\s])([\\[\\(\\{\\<])')\n",
    "close_brackets = re.compile(r'([\\]\\)\\}\\>])(?=[^\\s])')"
   ]
  },
  {
   "cell_type": "code",
   "execution_count": 5,
   "metadata": {},
   "outputs": [],
   "source": [
    "def get_article_label_if_exists(title):\n",
    "    match_res = square_brackets.match(title)\n",
    "    if match_res is None:\n",
    "        return None\n",
    "    else:\n",
    "        return match_res.groups()[0]"
   ]
  },
  {
   "cell_type": "code",
   "execution_count": 105,
   "metadata": {},
   "outputs": [],
   "source": [
    "dfs = dict()\n",
    "for k, df in media_dfs.items():\n",
    "    v = df.copy()\n",
    "    \n",
    "    # Parse datetime\n",
    "    v.loc[:, 'datetime'] = pd.to_datetime(v.date)\n",
    "    \n",
    "    # Extract article labels if it exists\n",
    "    v.loc[:, 'extracted_category'] = v.title.apply(get_article_label_if_exists)\n",
    "    \n",
    "    # TODO: Remove [<source>]\n",
    "    source_tag = re.compile(r'^\\[' + k + r'\\]')\n",
    "    v.loc[:, 'text'] = v.text.apply(lambda text: source_tag.sub('', text))\n",
    "    \n",
    "    # Remove quotation marks\n",
    "    v.loc[:, 'text'] = v.text.apply(lambda text: quotation_marks.sub('', text))\n",
    "    \n",
    "    # Add spaces around brackets\n",
    "    v.loc[:, 'text'] = v.text.apply(lambda text: open_brackets.sub(r' \\1', text))\n",
    "    v.loc[:, 'text'] = v.text.apply(lambda text: close_brackets.sub(r'\\1 ', text))\n",
    "    \n",
    "    # Break into sentences\n",
    "    v.loc[:, 'sentences'] = v.text.apply(lambda text: sentence_break.split(text))\n",
    "    \n",
    "    v = v.set_index('datetime')\n",
    "    v.drop(columns=['date'], inplace=True)\n",
    "    \n",
    "    # Sort\n",
    "    v = v.sort_index()\n",
    "    dfs[k] = v"
   ]
  },
  {
   "cell_type": "code",
   "execution_count": 106,
   "metadata": {},
   "outputs": [
    {
     "data": {
      "text/html": [
       "<div>\n",
       "<style scoped>\n",
       "    .dataframe tbody tr th:only-of-type {\n",
       "        vertical-align: middle;\n",
       "    }\n",
       "\n",
       "    .dataframe tbody tr th {\n",
       "        vertical-align: top;\n",
       "    }\n",
       "\n",
       "    .dataframe thead th {\n",
       "        text-align: right;\n",
       "    }\n",
       "</style>\n",
       "<table border=\"1\" class=\"dataframe\">\n",
       "  <thead>\n",
       "    <tr style=\"text-align: right;\">\n",
       "      <th></th>\n",
       "      <th>title</th>\n",
       "      <th>summary</th>\n",
       "      <th>text</th>\n",
       "      <th>extracted_category</th>\n",
       "      <th>sentences</th>\n",
       "    </tr>\n",
       "    <tr>\n",
       "      <th>datetime</th>\n",
       "      <th></th>\n",
       "      <th></th>\n",
       "      <th></th>\n",
       "      <th></th>\n",
       "      <th></th>\n",
       "    </tr>\n",
       "  </thead>\n",
       "  <tbody>\n",
       "    <tr>\n",
       "      <th>2017-01-03 18:00:00</th>\n",
       "      <td>대선주자 인터뷰②이재명 \"나? 좋은 사람 아니라 부패척결 머슴..문재인은 점잖은 성군\"</td>\n",
       "      <td>NaN</td>\n",
       "      <td>\\n\\n촛불정국을 거치면서 야권의 유력 대선주자로 발돋움한 더불어민주당 이재명 성남...</td>\n",
       "      <td>None</td>\n",
       "      <td>[\\n\\n촛불정국을 거치면서 야권의 유력 대선주자로 발돋움한 더불어민주당 이재명 성...</td>\n",
       "    </tr>\n",
       "    <tr>\n",
       "      <th>2017-01-03 22:29:00</th>\n",
       "      <td>[2017 대선의 꿈]②이재명 성남시장 \"혁명적 변화가 필요한 때..거친 야전형 장...</td>\n",
       "      <td>NaN</td>\n",
       "      <td>\\n\\n촛불정국을 거치면서 야권의 유력 대선주자로 발돋움한 더불어민주당 이재명 성남...</td>\n",
       "      <td>2017 대선의 꿈</td>\n",
       "      <td>[\\n\\n촛불정국을 거치면서 야권의 유력 대선주자로 발돋움한 더불어민주당 이재명 성...</td>\n",
       "    </tr>\n",
       "    <tr>\n",
       "      <th>2017-01-04 14:57:00</th>\n",
       "      <td>아인슈타인은 옳았다..왜 노동시간을 줄여야 하는가?</td>\n",
       "      <td>NaN</td>\n",
       "      <td>인공지능과 로봇, 3D 프린팅이 주도하는 4차 산업혁명이 일자리 킬러가 될 수 있...</td>\n",
       "      <td>None</td>\n",
       "      <td>[ 인공지능과 로봇, 3D 프린팅이 주도하는 4차 산업혁명이 일자리 킬러가 될 수 ...</td>\n",
       "    </tr>\n",
       "    <tr>\n",
       "      <th>2017-01-06 19:33:00</th>\n",
       "      <td>[책과 삶]기본소득 보장은 재앙이 아니라 미래의 대안</td>\n",
       "      <td>NaN</td>\n",
       "      <td>ㆍ기본소득이 세상을 바꾼다ㆍ오준호 지음 |개마고원 | 232쪽 | 1만4000원\\...</td>\n",
       "      <td>책과 삶</td>\n",
       "      <td>[ ㆍ기본소득이 세상을 바꾼다ㆍ오준호 지음 |개마고원 | 232쪽 | 1만4000원...</td>\n",
       "    </tr>\n",
       "    <tr>\n",
       "      <th>2017-01-08 21:04:00</th>\n",
       "      <td>[사설]소득 불평등 해소 없으면 개혁 아니다</td>\n",
       "      <td>NaN</td>\n",
       "      <td>ㆍ구체제 청산을 위한 7대 과제\\n\\n덴마크에서 붙잡힌 최순실씨 딸 정유라씨는 값...</td>\n",
       "      <td>사설</td>\n",
       "      <td>[ ㆍ구체제 청산을 위한 7대 과제\\n\\n덴마크에서 붙잡힌 최순실씨 딸 정유라씨는 ...</td>\n",
       "    </tr>\n",
       "    <tr>\n",
       "      <th>2017-01-10 15:59:00</th>\n",
       "      <td>광주·전남 농민들, 공공비축미 우선지급금 환수 거부</td>\n",
       "      <td>NaN</td>\n",
       "      <td>광주·전남지역 농민들이 10일 정부의 공공비축미 우선지급금 환수 결정을 거부하겠다...</td>\n",
       "      <td>None</td>\n",
       "      <td>[ 광주·전남지역 농민들이 10일 정부의 공공비축미 우선지급금 환수 결정을 거부하겠...</td>\n",
       "    </tr>\n",
       "    <tr>\n",
       "      <th>2017-01-11 15:30:00</th>\n",
       "      <td>이재명 성남시장 \"대선후보 경선 참여해도 시장직 유지한다\"</td>\n",
       "      <td>NaN</td>\n",
       "      <td>이재명 경기 성남시장은 11일 대권 도전에 따른 시장직 유지 문제와 관련해 대선 ...</td>\n",
       "      <td>None</td>\n",
       "      <td>[ 이재명 경기 성남시장은 11일 대권 도전에 따른 시장직 유지 문제와 관련해 대선...</td>\n",
       "    </tr>\n",
       "    <tr>\n",
       "      <th>2017-01-12 22:17:00</th>\n",
       "      <td>1942년 소설 속 '로봇 3원칙' EU 결의안으로</td>\n",
       "      <td>NaN</td>\n",
       "      <td>ㆍAI·드론 등 윤리 문제 논의ㆍ인류 사상 첫 로봇시민법\\n\\n로봇은 사람을 해치...</td>\n",
       "      <td>None</td>\n",
       "      <td>[ ㆍAI·드론 등 윤리 문제 논의ㆍ인류 사상 첫 로봇시민법\\n\\n로봇은 사람을 해...</td>\n",
       "    </tr>\n",
       "    <tr>\n",
       "      <th>2017-01-13 19:31:00</th>\n",
       "      <td>[새책]대한민국 넷페미사 外</td>\n",
       "      <td>NaN</td>\n",
       "      <td>\\n\\n▲대한민국 넷페미사…권김헌영 외 | 나무연필\\n\\n지난해 한국의 온라인 세상...</td>\n",
       "      <td>새책</td>\n",
       "      <td>[\\n\\n▲대한민국 넷페미사…권김헌영 외 | 나무연필\\n\\n지난해 한국의 온라인 세...</td>\n",
       "    </tr>\n",
       "    <tr>\n",
       "      <th>2017-01-18 14:32:00</th>\n",
       "      <td>이재명 성남시장 \"국민 1인당 130만원 기본소득 지급\"</td>\n",
       "      <td>NaN</td>\n",
       "      <td>야권 대선 주자인 이재명 경기 성남시장은 18일 기본소득 구상과 관련해 생애주기별...</td>\n",
       "      <td>None</td>\n",
       "      <td>[ 야권 대선 주자인 이재명 경기 성남시장은 18일 기본소득 구상과 관련해 생애주기...</td>\n",
       "    </tr>\n",
       "  </tbody>\n",
       "</table>\n",
       "</div>"
      ],
      "text/plain": [
       "                                                                 title  \\\n",
       "datetime                                                                 \n",
       "2017-01-03 18:00:00   대선주자 인터뷰②이재명 \"나? 좋은 사람 아니라 부패척결 머슴..문재인은 점잖은 성군\"   \n",
       "2017-01-03 22:29:00  [2017 대선의 꿈]②이재명 성남시장 \"혁명적 변화가 필요한 때..거친 야전형 장...   \n",
       "2017-01-04 14:57:00                       아인슈타인은 옳았다..왜 노동시간을 줄여야 하는가?   \n",
       "2017-01-06 19:33:00                      [책과 삶]기본소득 보장은 재앙이 아니라 미래의 대안   \n",
       "2017-01-08 21:04:00                           [사설]소득 불평등 해소 없으면 개혁 아니다   \n",
       "2017-01-10 15:59:00                       광주·전남 농민들, 공공비축미 우선지급금 환수 거부   \n",
       "2017-01-11 15:30:00                   이재명 성남시장 \"대선후보 경선 참여해도 시장직 유지한다\"   \n",
       "2017-01-12 22:17:00                       1942년 소설 속 '로봇 3원칙' EU 결의안으로   \n",
       "2017-01-13 19:31:00                                    [새책]대한민국 넷페미사 外   \n",
       "2017-01-18 14:32:00                    이재명 성남시장 \"국민 1인당 130만원 기본소득 지급\"   \n",
       "\n",
       "                    summary  \\\n",
       "datetime                      \n",
       "2017-01-03 18:00:00     NaN   \n",
       "2017-01-03 22:29:00     NaN   \n",
       "2017-01-04 14:57:00     NaN   \n",
       "2017-01-06 19:33:00     NaN   \n",
       "2017-01-08 21:04:00     NaN   \n",
       "2017-01-10 15:59:00     NaN   \n",
       "2017-01-11 15:30:00     NaN   \n",
       "2017-01-12 22:17:00     NaN   \n",
       "2017-01-13 19:31:00     NaN   \n",
       "2017-01-18 14:32:00     NaN   \n",
       "\n",
       "                                                                  text  \\\n",
       "datetime                                                                 \n",
       "2017-01-03 18:00:00  \\n\\n촛불정국을 거치면서 야권의 유력 대선주자로 발돋움한 더불어민주당 이재명 성남...   \n",
       "2017-01-03 22:29:00  \\n\\n촛불정국을 거치면서 야권의 유력 대선주자로 발돋움한 더불어민주당 이재명 성남...   \n",
       "2017-01-04 14:57:00   인공지능과 로봇, 3D 프린팅이 주도하는 4차 산업혁명이 일자리 킬러가 될 수 있...   \n",
       "2017-01-06 19:33:00   ㆍ기본소득이 세상을 바꾼다ㆍ오준호 지음 |개마고원 | 232쪽 | 1만4000원\\...   \n",
       "2017-01-08 21:04:00   ㆍ구체제 청산을 위한 7대 과제\\n\\n덴마크에서 붙잡힌 최순실씨 딸 정유라씨는 값...   \n",
       "2017-01-10 15:59:00   광주·전남지역 농민들이 10일 정부의 공공비축미 우선지급금 환수 결정을 거부하겠다...   \n",
       "2017-01-11 15:30:00   이재명 경기 성남시장은 11일 대권 도전에 따른 시장직 유지 문제와 관련해 대선 ...   \n",
       "2017-01-12 22:17:00   ㆍAI·드론 등 윤리 문제 논의ㆍ인류 사상 첫 로봇시민법\\n\\n로봇은 사람을 해치...   \n",
       "2017-01-13 19:31:00  \\n\\n▲대한민국 넷페미사…권김헌영 외 | 나무연필\\n\\n지난해 한국의 온라인 세상...   \n",
       "2017-01-18 14:32:00   야권 대선 주자인 이재명 경기 성남시장은 18일 기본소득 구상과 관련해 생애주기별...   \n",
       "\n",
       "                    extracted_category  \\\n",
       "datetime                                 \n",
       "2017-01-03 18:00:00               None   \n",
       "2017-01-03 22:29:00         2017 대선의 꿈   \n",
       "2017-01-04 14:57:00               None   \n",
       "2017-01-06 19:33:00               책과 삶   \n",
       "2017-01-08 21:04:00                 사설   \n",
       "2017-01-10 15:59:00               None   \n",
       "2017-01-11 15:30:00               None   \n",
       "2017-01-12 22:17:00               None   \n",
       "2017-01-13 19:31:00                 새책   \n",
       "2017-01-18 14:32:00               None   \n",
       "\n",
       "                                                             sentences  \n",
       "datetime                                                                \n",
       "2017-01-03 18:00:00  [\\n\\n촛불정국을 거치면서 야권의 유력 대선주자로 발돋움한 더불어민주당 이재명 성...  \n",
       "2017-01-03 22:29:00  [\\n\\n촛불정국을 거치면서 야권의 유력 대선주자로 발돋움한 더불어민주당 이재명 성...  \n",
       "2017-01-04 14:57:00  [ 인공지능과 로봇, 3D 프린팅이 주도하는 4차 산업혁명이 일자리 킬러가 될 수 ...  \n",
       "2017-01-06 19:33:00  [ ㆍ기본소득이 세상을 바꾼다ㆍ오준호 지음 |개마고원 | 232쪽 | 1만4000원...  \n",
       "2017-01-08 21:04:00  [ ㆍ구체제 청산을 위한 7대 과제\\n\\n덴마크에서 붙잡힌 최순실씨 딸 정유라씨는 ...  \n",
       "2017-01-10 15:59:00  [ 광주·전남지역 농민들이 10일 정부의 공공비축미 우선지급금 환수 결정을 거부하겠...  \n",
       "2017-01-11 15:30:00  [ 이재명 경기 성남시장은 11일 대권 도전에 따른 시장직 유지 문제와 관련해 대선...  \n",
       "2017-01-12 22:17:00  [ ㆍAI·드론 등 윤리 문제 논의ㆍ인류 사상 첫 로봇시민법\\n\\n로봇은 사람을 해...  \n",
       "2017-01-13 19:31:00  [\\n\\n▲대한민국 넷페미사…권김헌영 외 | 나무연필\\n\\n지난해 한국의 온라인 세...  \n",
       "2017-01-18 14:32:00  [ 야권 대선 주자인 이재명 경기 성남시장은 18일 기본소득 구상과 관련해 생애주기...  "
      ]
     },
     "execution_count": 106,
     "metadata": {},
     "output_type": "execute_result"
    }
   ],
   "source": [
    "dfs['경향신문'].head(10)"
   ]
  },
  {
   "cell_type": "code",
   "execution_count": 107,
   "metadata": {},
   "outputs": [],
   "source": [
    "for k, v in dfs.items():\n",
    "    v.drop(columns=['sentences']).to_csv(PROJECT_DIR / 'data' / 'processed' / f'articles_20170101-20200731_{k}.csv')"
   ]
  },
  {
   "cell_type": "code",
   "execution_count": 42,
   "metadata": {},
   "outputs": [
    {
     "data": {
      "text/html": [
       "<div>\n",
       "<style scoped>\n",
       "    .dataframe tbody tr th:only-of-type {\n",
       "        vertical-align: middle;\n",
       "    }\n",
       "\n",
       "    .dataframe tbody tr th {\n",
       "        vertical-align: top;\n",
       "    }\n",
       "\n",
       "    .dataframe thead th {\n",
       "        text-align: right;\n",
       "    }\n",
       "</style>\n",
       "<table border=\"1\" class=\"dataframe\">\n",
       "  <thead>\n",
       "    <tr style=\"text-align: right;\">\n",
       "      <th></th>\n",
       "      <th>title</th>\n",
       "      <th>summary</th>\n",
       "      <th>text</th>\n",
       "      <th>extracted_category</th>\n",
       "      <th>sentences</th>\n",
       "    </tr>\n",
       "    <tr>\n",
       "      <th>datetime</th>\n",
       "      <th></th>\n",
       "      <th></th>\n",
       "      <th></th>\n",
       "      <th></th>\n",
       "      <th></th>\n",
       "    </tr>\n",
       "  </thead>\n",
       "  <tbody>\n",
       "    <tr>\n",
       "      <th>2017-01-03 18:00:00</th>\n",
       "      <td>대선주자 인터뷰②이재명 \"나? 좋은 사람 아니라 부패척결 머슴..문재인은 점잖은 성군\"</td>\n",
       "      <td>NaN</td>\n",
       "      <td>[경향신문]\\n\\n촛불정국을 거치면서 야권의 유력 대선주자로 발돋움한 더불어민주당 ...</td>\n",
       "      <td>None</td>\n",
       "      <td>[[경향신문]\\n\\n촛불정국을 거치면서 야권의 유력 대선주자로 발돋움한 더불어민주당...</td>\n",
       "    </tr>\n",
       "    <tr>\n",
       "      <th>2017-01-03 22:29:00</th>\n",
       "      <td>[2017 대선의 꿈]②이재명 성남시장 \"혁명적 변화가 필요한 때..거친 야전형 장...</td>\n",
       "      <td>NaN</td>\n",
       "      <td>[경향신문]\\n\\n촛불정국을 거치면서 야권의 유력 대선주자로 발돋움한 더불어민주당 ...</td>\n",
       "      <td>2017 대선의 꿈</td>\n",
       "      <td>[[경향신문]\\n\\n촛불정국을 거치면서 야권의 유력 대선주자로 발돋움한 더불어민주당...</td>\n",
       "    </tr>\n",
       "    <tr>\n",
       "      <th>2017-01-04 14:57:00</th>\n",
       "      <td>아인슈타인은 옳았다..왜 노동시간을 줄여야 하는가?</td>\n",
       "      <td>NaN</td>\n",
       "      <td>[경향신문] 인공지능과 로봇, 3D 프린팅이 주도하는 4차 산업혁명이 일자리 킬러가...</td>\n",
       "      <td>None</td>\n",
       "      <td>[[경향신문] 인공지능과 로봇, 3D 프린팅이 주도하는 4차 산업혁명이 일자리 킬러...</td>\n",
       "    </tr>\n",
       "    <tr>\n",
       "      <th>2017-01-06 19:33:00</th>\n",
       "      <td>[책과 삶]기본소득 보장은 재앙이 아니라 미래의 대안</td>\n",
       "      <td>NaN</td>\n",
       "      <td>[경향신문] ㆍ기본소득이 세상을 바꾼다ㆍ오준호 지음 |개마고원 | 232쪽 | 1만...</td>\n",
       "      <td>책과 삶</td>\n",
       "      <td>[[경향신문] ㆍ기본소득이 세상을 바꾼다ㆍ오준호 지음 |개마고원 | 232쪽 | 1...</td>\n",
       "    </tr>\n",
       "    <tr>\n",
       "      <th>2017-01-08 21:04:00</th>\n",
       "      <td>[사설]소득 불평등 해소 없으면 개혁 아니다</td>\n",
       "      <td>NaN</td>\n",
       "      <td>[경향신문] ㆍ구체제 청산을 위한 7대 과제\\n\\n덴마크에서 붙잡힌 최순실씨 딸 정...</td>\n",
       "      <td>사설</td>\n",
       "      <td>[[경향신문] ㆍ구체제 청산을 위한 7대 과제\\n\\n덴마크에서 붙잡힌 최순실씨 딸 ...</td>\n",
       "    </tr>\n",
       "  </tbody>\n",
       "</table>\n",
       "</div>"
      ],
      "text/plain": [
       "                                                                 title  \\\n",
       "datetime                                                                 \n",
       "2017-01-03 18:00:00   대선주자 인터뷰②이재명 \"나? 좋은 사람 아니라 부패척결 머슴..문재인은 점잖은 성군\"   \n",
       "2017-01-03 22:29:00  [2017 대선의 꿈]②이재명 성남시장 \"혁명적 변화가 필요한 때..거친 야전형 장...   \n",
       "2017-01-04 14:57:00                       아인슈타인은 옳았다..왜 노동시간을 줄여야 하는가?   \n",
       "2017-01-06 19:33:00                      [책과 삶]기본소득 보장은 재앙이 아니라 미래의 대안   \n",
       "2017-01-08 21:04:00                           [사설]소득 불평등 해소 없으면 개혁 아니다   \n",
       "\n",
       "                    summary  \\\n",
       "datetime                      \n",
       "2017-01-03 18:00:00     NaN   \n",
       "2017-01-03 22:29:00     NaN   \n",
       "2017-01-04 14:57:00     NaN   \n",
       "2017-01-06 19:33:00     NaN   \n",
       "2017-01-08 21:04:00     NaN   \n",
       "\n",
       "                                                                  text  \\\n",
       "datetime                                                                 \n",
       "2017-01-03 18:00:00  [경향신문]\\n\\n촛불정국을 거치면서 야권의 유력 대선주자로 발돋움한 더불어민주당 ...   \n",
       "2017-01-03 22:29:00  [경향신문]\\n\\n촛불정국을 거치면서 야권의 유력 대선주자로 발돋움한 더불어민주당 ...   \n",
       "2017-01-04 14:57:00  [경향신문] 인공지능과 로봇, 3D 프린팅이 주도하는 4차 산업혁명이 일자리 킬러가...   \n",
       "2017-01-06 19:33:00  [경향신문] ㆍ기본소득이 세상을 바꾼다ㆍ오준호 지음 |개마고원 | 232쪽 | 1만...   \n",
       "2017-01-08 21:04:00  [경향신문] ㆍ구체제 청산을 위한 7대 과제\\n\\n덴마크에서 붙잡힌 최순실씨 딸 정...   \n",
       "\n",
       "                    extracted_category  \\\n",
       "datetime                                 \n",
       "2017-01-03 18:00:00               None   \n",
       "2017-01-03 22:29:00         2017 대선의 꿈   \n",
       "2017-01-04 14:57:00               None   \n",
       "2017-01-06 19:33:00               책과 삶   \n",
       "2017-01-08 21:04:00                 사설   \n",
       "\n",
       "                                                             sentences  \n",
       "datetime                                                                \n",
       "2017-01-03 18:00:00  [[경향신문]\\n\\n촛불정국을 거치면서 야권의 유력 대선주자로 발돋움한 더불어민주당...  \n",
       "2017-01-03 22:29:00  [[경향신문]\\n\\n촛불정국을 거치면서 야권의 유력 대선주자로 발돋움한 더불어민주당...  \n",
       "2017-01-04 14:57:00  [[경향신문] 인공지능과 로봇, 3D 프린팅이 주도하는 4차 산업혁명이 일자리 킬러...  \n",
       "2017-01-06 19:33:00  [[경향신문] ㆍ기본소득이 세상을 바꾼다ㆍ오준호 지음 |개마고원 | 232쪽 | 1...  \n",
       "2017-01-08 21:04:00  [[경향신문] ㆍ구체제 청산을 위한 7대 과제\\n\\n덴마크에서 붙잡힌 최순실씨 딸 ...  "
      ]
     },
     "execution_count": 42,
     "metadata": {},
     "output_type": "execute_result"
    }
   ],
   "source": [
    "dfs['경향신문'].head()"
   ]
  },
  {
   "cell_type": "markdown",
   "metadata": {},
   "source": [
    "Save!"
   ]
  },
  {
   "cell_type": "code",
   "execution_count": 79,
   "metadata": {},
   "outputs": [],
   "source": [
    "with open(PROJECT_DIR / 'data' / 'interim' / 'all_articles_1.pkl', 'wb') as fp:\n",
    "    pickle.dump(dfs, fp)"
   ]
  },
  {
   "cell_type": "markdown",
   "metadata": {},
   "source": [
    "# Prelim analysis"
   ]
  },
  {
   "cell_type": "markdown",
   "metadata": {},
   "source": [
    "## Set font"
   ]
  },
  {
   "cell_type": "code",
   "execution_count": null,
   "metadata": {},
   "outputs": [],
   "source": [
    "# 필요한 패키지와 라이브러리를 가져옴\n",
    "import matplotlib as mpl\n",
    "import matplotlib.pyplot as plt\n",
    "import matplotlib.font_manager as fm\n",
    "\n",
    "# 그래프에서 마이너스 폰트 깨지는 문제에 대한 대처\n",
    "mpl.rcParams['axes.unicode_minus'] = False\n",
    "\n",
    "print ('버전: ', mpl.__version__)\n",
    "print ('설치 위치: ', mpl.__file__)\n",
    "print ('설정 위치: ', mpl.get_configdir())\n",
    "print ('캐시 위치: ', mpl.get_cachedir())\n",
    "\n",
    "print ('설정파일 위치: ', mpl.matplotlib_fname())\n",
    "\n",
    "font_list = fm.findSystemFonts(fontpaths=None, fontext='ttf')\n",
    "\n",
    "# ttf 폰트 전체갯수\n",
    "print(len(font_list)) "
   ]
  },
  {
   "cell_type": "code",
   "execution_count": 64,
   "metadata": {},
   "outputs": [
    {
     "data": {
      "text/plain": [
       "[('NanumBarunGothic', 'C:\\\\Windows\\\\Fonts\\\\NanumBarunGothic.ttf'),\n",
       " ('NanumBarunGothic', 'C:\\\\WINDOWS\\\\Fonts\\\\NanumBarunGothic.ttf'),\n",
       " ('Nanum Pen Script', 'C:\\\\WINDOWS\\\\Fonts\\\\NanumPen.ttf'),\n",
       " ('NanumBarunGothic', 'C:\\\\Windows\\\\Fonts\\\\NanumBarunGothicLight.ttf'),\n",
       " ('NanumSquare', 'C:\\\\WINDOWS\\\\Fonts\\\\NanumSquareL.ttf'),\n",
       " ('NanumSquare', 'C:\\\\Windows\\\\Fonts\\\\NanumSquareEB.ttf'),\n",
       " ('NanumBarunGothic', 'C:\\\\WINDOWS\\\\Fonts\\\\NanumBarunGothicLight.ttf'),\n",
       " ('NanumSquare', 'C:\\\\WINDOWS\\\\Fonts\\\\NanumSquareR.ttf'),\n",
       " ('Nanum Brush Script', 'C:\\\\Windows\\\\Fonts\\\\NanumBrush.ttf'),\n",
       " ('NanumBarunGothic', 'C:\\\\Windows\\\\Fonts\\\\NanumBarunGothicBold.ttf'),\n",
       " ('NanumSquare', 'C:\\\\WINDOWS\\\\Fonts\\\\NanumSquareEB.ttf'),\n",
       " ('NanumSquare', 'C:\\\\WINDOWS\\\\Fonts\\\\NanumSquareB.ttf'),\n",
       " ('NanumBarunGothic', 'C:\\\\Windows\\\\Fonts\\\\NanumBarunGothicUltraLight.ttf'),\n",
       " ('NanumSquare', 'C:\\\\Windows\\\\Fonts\\\\NanumSquareL.ttf'),\n",
       " ('NanumBarunGothic', 'C:\\\\WINDOWS\\\\Fonts\\\\NanumBarunGothicUltraLight.ttf'),\n",
       " ('Nanum Brush Script', 'C:\\\\WINDOWS\\\\Fonts\\\\NanumBrush.ttf'),\n",
       " ('NanumSquare', 'C:\\\\Windows\\\\Fonts\\\\NanumSquareB.ttf'),\n",
       " ('NanumBarunGothic', 'C:\\\\WINDOWS\\\\Fonts\\\\NanumBarunGothicBold.ttf'),\n",
       " ('Nanum Pen Script', 'C:\\\\Windows\\\\Fonts\\\\NanumPen.ttf'),\n",
       " ('NanumSquare', 'C:\\\\Windows\\\\Fonts\\\\NanumSquareR.ttf')]"
      ]
     },
     "execution_count": 64,
     "metadata": {},
     "output_type": "execute_result"
    }
   ],
   "source": [
    "[(f.name, f.fname) for f in fm.fontManager.ttflist if 'Nanum' in f.name]"
   ]
  },
  {
   "cell_type": "code",
   "execution_count": 65,
   "metadata": {},
   "outputs": [],
   "source": [
    "plt.rcParams[\"font.family\"] = 'NanumBarunGothic'"
   ]
  },
  {
   "cell_type": "markdown",
   "metadata": {},
   "source": [
    "## Basic Info"
   ]
  },
  {
   "cell_type": "code",
   "execution_count": 66,
   "metadata": {},
   "outputs": [
    {
     "data": {
      "image/png": "[encoded data removed]",
      "text/plain": [
       "<Figure size 864x648 with 4 Axes>"
      ]
     },
     "metadata": {
      "needs_background": "light"
     },
     "output_type": "display_data"
    }
   ],
   "source": [
    "fig, axes = plt.subplots(4, 1, figsize=(12, 9), sharex=True)\n",
    "for i, (k, v) in enumerate(dfs.items()):\n",
    "    v.resample('M').title.count().plot(ax=axes[i])\n",
    "    axes[i].set_title(k)\n",
    "plt.tight_layout()"
   ]
  },
  {
   "cell_type": "code",
   "execution_count": 70,
   "metadata": {},
   "outputs": [
    {
     "data": {
      "image/png": "[encoded data removed]",
      "text/plain": [
       "<Figure size 432x288 with 1 Axes>"
      ]
     },
     "metadata": {
      "needs_background": "light"
     },
     "output_type": "display_data"
    }
   ],
   "source": [
    "fig, ax = plt.subplots(1, 1, )\n",
    "for k, v in dfs.items():\n",
    "    v.resample('M').title.count().plot(ax=ax, label=k, alpha=0.75)\n",
    "ax.legend()\n",
    "ax.set_title(\"월별 '기본소득' 포함 기사 개수\")\n",
    "plt.tight_layout()"
   ]
  },
  {
   "cell_type": "code",
   "execution_count": 73,
   "metadata": {},
   "outputs": [
    {
     "name": "stdout",
     "output_type": "stream",
     "text": [
      "{'경향신문': 683, '동아일보': 239, '조선일보': 403, '한겨레': 746}\n",
      "Total: 2071\n"
     ]
    }
   ],
   "source": [
    "lengths = {k: v.shape[0] for k, v in dfs.items()}\n",
    "overall_sum = sum(lengths.values())\n",
    "print(lengths)\n",
    "print(f\"Total: {overall_sum}\")"
   ]
  },
  {
   "cell_type": "code",
   "execution_count": 77,
   "metadata": {},
   "outputs": [
    {
     "data": {
      "text/html": [
       "<div>\n",
       "<style scoped>\n",
       "    .dataframe tbody tr th:only-of-type {\n",
       "        vertical-align: middle;\n",
       "    }\n",
       "\n",
       "    .dataframe tbody tr th {\n",
       "        vertical-align: top;\n",
       "    }\n",
       "\n",
       "    .dataframe thead th {\n",
       "        text-align: right;\n",
       "    }\n",
       "</style>\n",
       "<table border=\"1\" class=\"dataframe\">\n",
       "  <thead>\n",
       "    <tr style=\"text-align: right;\">\n",
       "      <th></th>\n",
       "      <th>extracted_category</th>\n",
       "    </tr>\n",
       "  </thead>\n",
       "  <tbody>\n",
       "    <tr>\n",
       "      <th>사설</th>\n",
       "      <td>16</td>\n",
       "    </tr>\n",
       "    <tr>\n",
       "      <th>세상읽기</th>\n",
       "      <td>11</td>\n",
       "    </tr>\n",
       "    <tr>\n",
       "      <th>정동칼럼</th>\n",
       "      <td>10</td>\n",
       "    </tr>\n",
       "    <tr>\n",
       "      <th>경제와 세상</th>\n",
       "      <td>9</td>\n",
       "    </tr>\n",
       "    <tr>\n",
       "      <th>경향포럼</th>\n",
       "      <td>8</td>\n",
       "    </tr>\n",
       "    <tr>\n",
       "      <th>전문</th>\n",
       "      <td>7</td>\n",
       "    </tr>\n",
       "    <tr>\n",
       "      <th>오늘은 이런 경향</th>\n",
       "      <td>7</td>\n",
       "    </tr>\n",
       "    <tr>\n",
       "      <th>기고</th>\n",
       "      <td>6</td>\n",
       "    </tr>\n",
       "    <tr>\n",
       "      <th>편집국에서</th>\n",
       "      <td>4</td>\n",
       "    </tr>\n",
       "    <tr>\n",
       "      <th>헌법 11.0 다시 쓰는 시민계약</th>\n",
       "      <td>4</td>\n",
       "    </tr>\n",
       "    <tr>\n",
       "      <th>지금, 여기</th>\n",
       "      <td>4</td>\n",
       "    </tr>\n",
       "    <tr>\n",
       "      <th>단독</th>\n",
       "      <td>4</td>\n",
       "    </tr>\n",
       "    <tr>\n",
       "      <th>속보</th>\n",
       "      <td>4</td>\n",
       "    </tr>\n",
       "    <tr>\n",
       "      <th>여적</th>\n",
       "      <td>4</td>\n",
       "    </tr>\n",
       "    <tr>\n",
       "      <th>책과 삶</th>\n",
       "      <td>4</td>\n",
       "    </tr>\n",
       "    <tr>\n",
       "      <th>성남시</th>\n",
       "      <td>4</td>\n",
       "    </tr>\n",
       "    <tr>\n",
       "      <th>2017 시민의 선택</th>\n",
       "      <td>3</td>\n",
       "    </tr>\n",
       "    <tr>\n",
       "      <th>정태인의 경제시평</th>\n",
       "      <td>3</td>\n",
       "    </tr>\n",
       "    <tr>\n",
       "      <th>경기도</th>\n",
       "      <td>3</td>\n",
       "    </tr>\n",
       "    <tr>\n",
       "      <th>학교의 안과 밖</th>\n",
       "      <td>3</td>\n",
       "    </tr>\n",
       "  </tbody>\n",
       "</table>\n",
       "</div>"
      ],
      "text/plain": [
       "                    extracted_category\n",
       "사설                                  16\n",
       "세상읽기                                11\n",
       "정동칼럼                                10\n",
       "경제와 세상                               9\n",
       "경향포럼                                 8\n",
       "전문                                   7\n",
       "오늘은 이런 경향                            7\n",
       "기고                                   6\n",
       "편집국에서                                4\n",
       "헌법 11.0 다시 쓰는 시민계약                   4\n",
       "지금, 여기                               4\n",
       "단독                                   4\n",
       "속보                                   4\n",
       "여적                                   4\n",
       "책과 삶                                 4\n",
       "성남시                                  4\n",
       "2017 시민의 선택                          3\n",
       "정태인의 경제시평                            3\n",
       "경기도                                  3\n",
       "학교의 안과 밖                             3"
      ]
     },
     "execution_count": 77,
     "metadata": {},
     "output_type": "execute_result"
    }
   ],
   "source": [
    "dfs['경향신문'].extracted_category.value_counts().to_frame().head(20)"
   ]
  },
  {
   "cell_type": "markdown",
   "metadata": {},
   "source": [
    "# Locating keyword"
   ]
  },
  {
   "cell_type": "code",
   "execution_count": 80,
   "metadata": {},
   "outputs": [],
   "source": [
    "sentences = dfs['경향신문'].sentences.iloc[0]"
   ]
  },
  {
   "cell_type": "code",
   "execution_count": 9,
   "metadata": {},
   "outputs": [],
   "source": [
    "bi = re.compile(r'기본 ?소득')"
   ]
  },
  {
   "cell_type": "code",
   "execution_count": 10,
   "metadata": {},
   "outputs": [
    {
     "name": "stdout",
     "output_type": "stream",
     "text": [
      "[(8, 12), (22, 26)]\n"
     ]
    }
   ],
   "source": [
    "s = '30조를 갖고 기본소득이든 국민들 손에 기본소득을 쥐어주면 경제는 산다.”\\n\\n-외교·안보의 원칙은'\n",
    "res = [m.span() for m in bi.finditer(s)]\n",
    "print(res)"
   ]
  },
  {
   "cell_type": "markdown",
   "metadata": {},
   "source": [
    "# POS tagging"
   ]
  },
  {
   "cell_type": "code",
   "execution_count": 11,
   "metadata": {},
   "outputs": [],
   "source": [
    "from konlpy.tag import Hannanum"
   ]
  },
  {
   "cell_type": "code",
   "execution_count": 12,
   "metadata": {},
   "outputs": [],
   "source": [
    "hannanum = Hannanum()\n",
    "# hannanum.analyze()"
   ]
  },
  {
   "cell_type": "code",
   "execution_count": 87,
   "metadata": {},
   "outputs": [],
   "source": [
    "def extract_nouns(sentences):\n",
    "    nouns = []\n",
    "    for s in sentences:\n",
    "        tagged_sentence = hannanum.pos(s)\n",
    "        for w, t in tagged_sentence:\n",
    "            if t == 'N':\n",
    "                nouns.append(w)\n",
    "    return nouns\n",
    "\n",
    "a = dfs['동아일보'].sentences.apply(extract_nouns)"
   ]
  },
  {
   "cell_type": "code",
   "execution_count": 96,
   "metadata": {},
   "outputs": [
    {
     "name": "stderr",
     "output_type": "stream",
     "text": [
      "<ipython-input-96-99e1f33b87d5>:1: FutureWarning: The pandas.datetime class is deprecated and will be removed from pandas in a future version. Import from datetime module instead.\n",
      "  all_words = pd.concat([pd.Series(x) for x in a[a.index < pd.datetime(2020, 2, 25)].tolist()])\n"
     ]
    }
   ],
   "source": [
    "all_words = pd.concat([pd.Series(x) for x in a[a.index < pd.Timestamp(2020, 2, 25)].tolist()])"
   ]
  },
  {
   "cell_type": "code",
   "execution_count": 98,
   "metadata": {},
   "outputs": [
    {
     "data": {
      "text/plain": [
       "것       505\n",
       "수       279\n",
       "등       222\n",
       "원       208\n",
       "이       168\n",
       "       ... \n",
       "30       33\n",
       "현금복지     33\n",
       "명        33\n",
       "이후       33\n",
       "가능성      32\n",
       "Length: 100, dtype: int64"
      ]
     },
     "execution_count": 98,
     "metadata": {},
     "output_type": "execute_result"
    }
   ],
   "source": [
    "all_words.value_counts().head(100)"
   ]
  },
  {
   "cell_type": "code",
   "execution_count": null,
   "metadata": {},
   "outputs": [],
   "source": [
    "from sklearn."
   ]
  }
 ],
 "metadata": {
  "kernelspec": {
   "display_name": "Python [conda env:ubi]",
   "language": "python",
   "name": "conda-env-ubi-py"
  },
  "language_info": {
   "codemirror_mode": {
    "name": "ipython",
    "version": 3
   },
   "file_extension": ".py",
   "mimetype": "text/x-python",
   "name": "python",
   "nbconvert_exporter": "python",
   "pygments_lexer": "ipython3",
   "version": "3.8.3"
  }
 },
 "nbformat": 4,
 "nbformat_minor": 4
}
