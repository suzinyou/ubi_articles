{
 "cells": [
  {
   "cell_type": "code",
   "execution_count": 13,
   "metadata": {},
   "outputs": [],
   "source": [
    "import requests\n",
    "from collections import defaultdict\n",
    "from bs4 import BeautifulSoup\n",
    "\n",
    "import numpy as np\n",
    "import pandas as pd\n",
    "\n",
    "import re\n",
    "\n",
    "import time\n",
    "\n",
    "import logging"
   ]
  },
  {
   "cell_type": "code",
   "execution_count": 65,
   "metadata": {},
   "outputs": [],
   "source": [
    "logger = logging.getLogger('crawler')\n",
    "logger.setLevel(logging.DEBUG)"
   ]
  },
  {
   "cell_type": "code",
   "execution_count": 27,
   "metadata": {},
   "outputs": [],
   "source": [
    "search_keyword = '\"기본소득\"'\n",
    "outlets_of_interest = ['경향신문', '한겨레', '조선일보', '동아일보']"
   ]
  },
  {
   "cell_type": "markdown",
   "metadata": {},
   "source": [
    "# 네이버"
   ]
  },
  {
   "cell_type": "code",
   "execution_count": 68,
   "metadata": {},
   "outputs": [],
   "source": [
    "all_articles = []\n",
    "data = defaultdict(list)\n",
    "parse_time_per_page = []\n",
    "\n",
    "for page_index in range(100):\n",
    "    article_index = page_index * 10 + 1\n",
    "    \n",
    "    url = f\"https://search.naver.com/search.naver?where=news&query={search_keyword}&sort=1&start={article_index}\"\n",
    "    \n",
    "    start = time.time()\n",
    "    raw = requests.get(url, headers={'User-Agent':'Mozilla/5.0'})\n",
    "    \n",
    "    if raw.status_code == 404:\n",
    "        logger.warning(\"404 at {url}\")\n",
    "        continue\n",
    "        \n",
    "    html = BeautifulSoup(raw.text, \"html.parser\")\n",
    "\n",
    "    articles = html.select(\"ul.type01 > li\")\n",
    "    \n",
    "    for i, article in enumerate(articles):\n",
    "        title = article.select_one(\"a._sp_each_title\").text\n",
    "        outlet = article.select_one(\"span._sp_each_source\").text\n",
    "        date = re.sub(outlet, '', re.sub('보내기', '', article.select_one(\"dd.txt_inline\").text)).strip()\n",
    "        \n",
    "        if outlet.endswith(' 선정'):\n",
    "            pick = True\n",
    "        else:\n",
    "            pick = False\n",
    "        \n",
    "        outlet = outlet.strip(' 선정')\n",
    "        \n",
    "        data['title'].append(title)\n",
    "        data['outlet'].append(outlet)\n",
    "        data['date'].append(date)\n",
    "        data['pick'].append(pick)\n",
    "        \n",
    "    end = time.time()\n",
    "    \n",
    "    parse_time_per_page.append(end - start)"
   ]
  },
  {
   "cell_type": "code",
   "execution_count": null,
   "metadata": {
    "jupyter": {
     "source_hidden": true
    }
   },
   "outputs": [],
   "source": [
    "    articles = html.select(\"ul.type01 > li\")\n",
    "    select_ids = []\n",
    "    \n",
    "    for i, article in enumerate(articles):\n",
    "        outlet = article.select_one(\"span._sp_each_source\").text\n",
    "        outlet = outlet.strip(\" 선정\")\n",
    "        if outlet in outlets_of_interest:\n",
    "            print(outlet, end='\\r')\n",
    "            select_ids.append(i)\n",
    "            \n",
    "    all_articles.extend([articles[j] for j in select_ids])\n",
    "    "
   ]
  },
  {
   "cell_type": "code",
   "execution_count": 53,
   "metadata": {},
   "outputs": [
    {
     "data": {
      "text/plain": [
       "5.9303319454193115"
      ]
     },
     "execution_count": 53,
     "metadata": {},
     "output_type": "execute_result"
    }
   ],
   "source": [
    "np.max(parse_time_per_page)"
   ]
  },
  {
   "cell_type": "code",
   "execution_count": 29,
   "metadata": {},
   "outputs": [
    {
     "data": {
      "text/plain": [
       "<li id=\"sp_nws12\"> <dl> <dt><a class=\"_sp_each_title\" href=\"https://news.naver.com/main/read.nhn?mode=LSD&amp;mid=sec&amp;sid1=101&amp;oid=020&amp;aid=0000208705\" onclick=\"return goOtherCR(this, 'a=nws*e.tit&amp;r=12&amp;i=880000A9_000000000000000000208705&amp;g=&amp;u='+urlencode(this.href));\" target=\"_blank\" title=\"[오늘의 생활뉴스]分家해도 그 해에는 소득공제\">[오늘의 생활뉴스]分家해도 그 해에는 <strong class=\"hl\">소득</strong>공제</a></dt> <dd class=\"txt_inline\"><span class=\"_sp_each_source\">동아일보</span> <span class=\"bar\"></span> 2003.10.08. <span class=\"bar\"></span> <a class=\"_sp_each_url\" href=\"https://news.naver.com/main/read.nhn?mode=LSD&amp;mid=sec&amp;sid1=101&amp;oid=020&amp;aid=0000208705\" onclick=\"return goOtherCR(this, 'a=nws*e.nav&amp;r=12&amp;i=880000A9_000000000000000000208705&amp;u='+urlencode(this.href));\" target=\"_blank\">네이버뉴스</a> <div class=\"scial\" id=\"sp_nws12_base\"> <span class=\"bar\"></span> <a class=\"bt_scial2 naver-splugin\" data-oninitialize=\"splugin_oninitialize('sp_nws12');\" data-style=\"unity-v2\" href=\"#\" onclick=\"goOtherTCR(this, 'a=nws*e.pplugin&amp;r=12&amp;i=880000A9_000000000000000000208705&amp;u='+urlencode(this.href)); return false;\">보내기</a> </div> </dd> <dd>의료비는 <strong class=\"hl\">소득</strong>공제를 받을 수 있다는 것. 그러나 1인당 100만원인 배우자, 부양가족, 장애인, 경로우대자 등의 <strong class=\"hl\">기본소득</strong>공제는 현행과 마찬가지로 연말 현재 주민등록에 올라 있는 경우에만 인정된다. 내년부터...</dd> </dl> </li>"
      ]
     },
     "execution_count": 29,
     "metadata": {},
     "output_type": "execute_result"
    }
   ],
   "source": [
    "all_articles[0]"
   ]
  },
  {
   "cell_type": "code",
   "execution_count": 31,
   "metadata": {},
   "outputs": [],
   "source": [
    "old_article = requests.get(\"https://news.naver.com/main/read.nhn?mode=LSD&amp;mid=sec&amp;sid1=101&amp;oid=020&amp;aid=0000208705\")"
   ]
  },
  {
   "cell_type": "code",
   "execution_count": 37,
   "metadata": {},
   "outputs": [
    {
     "data": {
      "text/plain": [
       "404"
      ]
     },
     "execution_count": 37,
     "metadata": {},
     "output_type": "execute_result"
    }
   ],
   "source": [
    "old_article.status_code"
   ]
  },
  {
   "cell_type": "markdown",
   "metadata": {},
   "source": [
    "한겨레 기사"
   ]
  },
  {
   "cell_type": "code",
   "execution_count": 52,
   "metadata": {},
   "outputs": [
    {
     "data": {
      "text/plain": [
       "4"
      ]
     },
     "execution_count": 52,
     "metadata": {},
     "output_type": "execute_result"
    }
   ],
   "source": [
    "len(all_articles)"
   ]
  },
  {
   "cell_type": "code",
   "execution_count": 43,
   "metadata": {},
   "outputs": [
    {
     "data": {
      "text/plain": [
       "[]"
      ]
     },
     "execution_count": 43,
     "metadata": {},
     "output_type": "execute_result"
    }
   ],
   "source": [
    "all_articles"
   ]
  },
  {
   "cell_type": "code",
   "execution_count": 47,
   "metadata": {},
   "outputs": [
    {
     "name": "stdout",
     "output_type": "stream",
     "text": [
      "매일일보\n",
      "머니S언론사 선정\n",
      "브릿지경제\n",
      "오마이뉴스언론사 선정\n",
      "아시아경제언론사 선정\n",
      "아시아타임즈\n",
      "뉴스1언론사 선정\n",
      "쿠키뉴스\n",
      "NSP통신\n",
      "전남일보\n"
     ]
    }
   ],
   "source": [
    "for a in articles:\n",
    "    print(a.select_one(\"span._sp_each_source\").text)"
   ]
  },
  {
   "cell_type": "code",
   "execution_count": 50,
   "metadata": {},
   "outputs": [
    {
     "data": {
      "text/plain": [
       "'아시아경제언론사'"
      ]
     },
     "execution_count": 50,
     "metadata": {},
     "output_type": "execute_result"
    }
   ],
   "source": [
    "\"아시아경제언론사\""
   ]
  },
  {
   "cell_type": "code",
   "execution_count": 54,
   "metadata": {},
   "outputs": [
    {
     "data": {
      "text/plain": [
       "<li id=\"sp_nws291\"> <div class=\"thumb\"><a class=\"sp_thmb thmb80\" href=\"http://www.m-i.kr/news/articleView.html?idxno=733920\" onclick=\"return goOtherCR(this, 'a=nws*f.img&amp;r=291&amp;i=88155e4f_000000000000000000418611&amp;g=5385.0000418611&amp;u='+urlencode(this.href));\" target=\"_blank\"><img alt='국회로 간 이재명 \"죽' class=\"\" height=\"80\" onerror=\"this.parentNode.style.display='none';\" src=\"https://search.pstatic.net/common/?src=https%3A%2F%2Fimgnews.pstatic.net%2Fimage%2Forigin%2F5385%2F2020%2F07%2F30%2F418611.jpg&amp;type=ofullfill80_80_q75_re2\" width=\"80\"/><span class=\"thmb_v\"></span></a></div> <dl> <dt><a class=\"_sp_each_url _sp_each_title\" href=\"http://www.m-i.kr/news/articleView.html?idxno=733920\" onclick=\"return goOtherCR(this, 'a=nws*f.tit&amp;r=291&amp;i=88155e4f_000000000000000000418611&amp;g=5385.0000418611&amp;u='+urlencode(this.href));\" target=\"_blank\" title='국회로 간 이재명 \"죽음 문턱서 생환\" 감사에 환호성'>국회로 간 이재명 \"죽음 문턱서 생환\" 감사에 환호성</a></dt> <dd class=\"txt_inline\"><span class=\"_sp_each_source\">매일일보</span> <span class=\"bar\"></span> 4일 전 <div class=\"scial\" id=\"sp_nws291_base\"> <span class=\"bar\"></span> <a class=\"bt_scial2 naver-splugin\" data-oninitialize=\"splugin_oninitialize('sp_nws291');\" data-style=\"unity-v2\" href=\"#\" onclick=\"goOtherTCR(this, 'a=nws*f.pplugin&amp;r=291&amp;i=88155e4f_000000000000000000418611&amp;u='+urlencode(this.href)); return false;\">보내기</a> </div> </dd> <dd>체감했다\"며 \"<strong class=\"hl\">기본소득</strong>은 단순 복지정책이 아니라 복지적 성격을 가진 경제정책\"이라고 했다. 이 지사는 이어 \"우리나라 국민의 가처분 <strong class=\"hl\">소득</strong> 중 이전 <strong class=\"hl\">소득</strong>이 차지하는 부분은 3%대로 전 세계 평균 30%에 10분의 1도 안 된다...</dd> </dl> </li>"
      ]
     },
     "execution_count": 54,
     "metadata": {},
     "output_type": "execute_result"
    }
   ],
   "source": [
    "articles[0]"
   ]
  },
  {
   "cell_type": "code",
   "execution_count": 59,
   "metadata": {},
   "outputs": [
    {
     "data": {
      "text/plain": [
       "'매일일보  4일 전   보내기  '"
      ]
     },
     "execution_count": 59,
     "metadata": {},
     "output_type": "execute_result"
    }
   ],
   "source": [
    "articles[0].select_one(\"dd.txt_inline\").text"
   ]
  },
  {
   "cell_type": "code",
   "execution_count": 69,
   "metadata": {},
   "outputs": [
    {
     "data": {
      "text/plain": [
       "5000"
      ]
     },
     "execution_count": 69,
     "metadata": {},
     "output_type": "execute_result"
    }
   ],
   "source": [
    "len(data['title'])"
   ]
  },
  {
   "cell_type": "code",
   "execution_count": 70,
   "metadata": {},
   "outputs": [],
   "source": [
    "df = pd.DataFrame(data)"
   ]
  },
  {
   "cell_type": "code",
   "execution_count": 86,
   "metadata": {},
   "outputs": [
    {
     "data": {
      "text/html": [
       "<div>\n",
       "<style scoped>\n",
       "    .dataframe tbody tr th:only-of-type {\n",
       "        vertical-align: middle;\n",
       "    }\n",
       "\n",
       "    .dataframe tbody tr th {\n",
       "        vertical-align: top;\n",
       "    }\n",
       "\n",
       "    .dataframe thead th {\n",
       "        text-align: right;\n",
       "    }\n",
       "</style>\n",
       "<table border=\"1\" class=\"dataframe\">\n",
       "  <thead>\n",
       "    <tr style=\"text-align: right;\">\n",
       "      <th></th>\n",
       "      <th>title</th>\n",
       "      <th>outlet</th>\n",
       "      <th>date</th>\n",
       "      <th>pick</th>\n",
       "    </tr>\n",
       "  </thead>\n",
       "  <tbody>\n",
       "    <tr>\n",
       "      <th>0</th>\n",
       "      <td>'저도 임차인입니다' 용혜인 \"집값 낮추는 국회 만들자\"</td>\n",
       "      <td>UPI뉴스</td>\n",
       "      <td>7분 전</td>\n",
       "      <td>False</td>\n",
       "    </tr>\n",
       "    <tr>\n",
       "      <th>1</th>\n",
       "      <td>홍천군, 재난기본소득 200억5950만원 지급…지급률 97.4%</td>\n",
       "      <td>MTN</td>\n",
       "      <td>47분 전</td>\n",
       "      <td>False</td>\n",
       "    </tr>\n",
       "    <tr>\n",
       "      <th>2</th>\n",
       "      <td>이장원 한국고용노사관계학회장 \"포스트 코로나19, 고용보험 넘어선 사회보장...</td>\n",
       "      <td>월간노동법률</td>\n",
       "      <td>49분 전</td>\n",
       "      <td>False</td>\n",
       "    </tr>\n",
       "    <tr>\n",
       "      <th>3</th>\n",
       "      <td>동료에 상품권 나눠준 직원 징계 놓고 경기도-남양주시 충돌</td>\n",
       "      <td>연합뉴스</td>\n",
       "      <td>59분 전  네이버뉴스</td>\n",
       "      <td>False</td>\n",
       "    </tr>\n",
       "    <tr>\n",
       "      <th>4</th>\n",
       "      <td>21대 국회 농해수위, 반성 없는 농정당국에 질타</td>\n",
       "      <td>한국농정신문</td>\n",
       "      <td>1시간 전</td>\n",
       "      <td>False</td>\n",
       "    </tr>\n",
       "    <tr>\n",
       "      <th>5</th>\n",
       "      <td>홍천군 재난기본소득 200억 지급…지급률 97%</td>\n",
       "      <td>이뉴스투데이</td>\n",
       "      <td>2시간 전</td>\n",
       "      <td>False</td>\n",
       "    </tr>\n",
       "    <tr>\n",
       "      <th>6</th>\n",
       "      <td>홍천군 재난기본소득 지급률 97.4% 완료</td>\n",
       "      <td>일간투데이</td>\n",
       "      <td>3시간 전</td>\n",
       "      <td>False</td>\n",
       "    </tr>\n",
       "    <tr>\n",
       "      <th>7</th>\n",
       "      <td>홍천군, 재난기본소득 추가지급 마감…지급률 97.4% 달성</td>\n",
       "      <td>쿠키뉴스</td>\n",
       "      <td>3시간 전</td>\n",
       "      <td>False</td>\n",
       "    </tr>\n",
       "    <tr>\n",
       "      <th>8</th>\n",
       "      <td>양극화 해소를 위한 새로운 일자리 모델의 기획</td>\n",
       "      <td>노동과희망</td>\n",
       "      <td>4시간 전</td>\n",
       "      <td>False</td>\n",
       "    </tr>\n",
       "    <tr>\n",
       "      <th>9</th>\n",
       "      <td>위기에 더 커진 ‘몰빵’…스크린 독점은 ‘무방비’</td>\n",
       "      <td>더리더</td>\n",
       "      <td>4시간 전</td>\n",
       "      <td>False</td>\n",
       "    </tr>\n",
       "  </tbody>\n",
       "</table>\n",
       "</div>"
      ],
      "text/plain": [
       "                                          title  outlet          date   pick\n",
       "0               '저도 임차인입니다' 용혜인 \"집값 낮추는 국회 만들자\"   UPI뉴스          7분 전  False\n",
       "1           홍천군, 재난기본소득 200억5950만원 지급…지급률 97.4%     MTN         47분 전  False\n",
       "2  이장원 한국고용노사관계학회장 \"포스트 코로나19, 고용보험 넘어선 사회보장...  월간노동법률         49분 전  False\n",
       "3              동료에 상품권 나눠준 직원 징계 놓고 경기도-남양주시 충돌    연합뉴스  59분 전  네이버뉴스  False\n",
       "4                   21대 국회 농해수위, 반성 없는 농정당국에 질타  한국농정신문         1시간 전  False\n",
       "5                    홍천군 재난기본소득 200억 지급…지급률 97%  이뉴스투데이         2시간 전  False\n",
       "6                       홍천군 재난기본소득 지급률 97.4% 완료   일간투데이         3시간 전  False\n",
       "7              홍천군, 재난기본소득 추가지급 마감…지급률 97.4% 달성    쿠키뉴스         3시간 전  False\n",
       "8                     양극화 해소를 위한 새로운 일자리 모델의 기획   노동과희망         4시간 전  False\n",
       "9                   위기에 더 커진 ‘몰빵’…스크린 독점은 ‘무방비’     더리더         4시간 전  False"
      ]
     },
     "execution_count": 86,
     "metadata": {},
     "output_type": "execute_result"
    }
   ],
   "source": [
    "df.head(10)"
   ]
  },
  {
   "cell_type": "code",
   "execution_count": 72,
   "metadata": {},
   "outputs": [
    {
     "data": {
      "text/plain": [
       "723"
      ]
     },
     "execution_count": 72,
     "metadata": {},
     "output_type": "execute_result"
    }
   ],
   "source": [
    "df.pick.sum()"
   ]
  },
  {
   "cell_type": "code",
   "execution_count": 75,
   "metadata": {},
   "outputs": [
    {
     "data": {
      "text/plain": [
       "(57, 4)"
      ]
     },
     "execution_count": 75,
     "metadata": {},
     "output_type": "execute_result"
    }
   ],
   "source": [
    "df[df.outlet.apply(lambda x: x in outlets_of_interest)].shape"
   ]
  },
  {
   "cell_type": "code",
   "execution_count": 80,
   "metadata": {},
   "outputs": [],
   "source": [
    "df.to_csv(\"../data/processed/naver_titles_5000.csv\", index=False)"
   ]
  },
  {
   "cell_type": "code",
   "execution_count": 77,
   "metadata": {},
   "outputs": [
    {
     "data": {
      "text/plain": [
       "783.1217935085297"
      ]
     },
     "execution_count": 77,
     "metadata": {},
     "output_type": "execute_result"
    }
   ],
   "source": [
    "np.sum(parse_time_per_page)"
   ]
  },
  {
   "cell_type": "code",
   "execution_count": 79,
   "metadata": {},
   "outputs": [
    {
     "data": {
      "text/plain": [
       "13.052029891808827"
      ]
     },
     "execution_count": 79,
     "metadata": {},
     "output_type": "execute_result"
    }
   ],
   "source": [
    "783.1217935085297 / 60"
   ]
  },
  {
   "cell_type": "code",
   "execution_count": 81,
   "metadata": {},
   "outputs": [],
   "source": [
    "b = requests.get(\"https://search.naver.com/search.naver?where=news&query=%22%EA%B8%B0%EB%B3%B8%EC%86%8C%EB%93%9D%22&sm=tab_opt&sort=1&photo=0&field=0&reporter_article=&pd=0&ds=&de=&docid=&nso=so%3Add%2Cp%3Aall%2Ca%3Aall&mynews=1&refresh_start=0&related=0\")"
   ]
  },
  {
   "cell_type": "code",
   "execution_count": 82,
   "metadata": {},
   "outputs": [],
   "source": [
    "html = BeautifulSoup(b.text, \"html.parser\")\n",
    "articles = html.select(\"ul.type01 > li\")"
   ]
  },
  {
   "cell_type": "code",
   "execution_count": 85,
   "metadata": {},
   "outputs": [
    {
     "name": "stdout",
     "output_type": "stream",
     "text": [
      "업코리아\n",
      "UPI뉴스\n",
      "MTN\n",
      "월간노동법률\n",
      "연합뉴스\n",
      "한국농정신문\n",
      "이뉴스투데이\n",
      "일간투데이\n",
      "쿠키뉴스\n",
      "노동과희망\n"
     ]
    }
   ],
   "source": [
    "for aa in articles:\n",
    "    print(aa.select_one(\"span._sp_each_source\").text)"
   ]
  },
  {
   "cell_type": "markdown",
   "metadata": {},
   "source": [
    "# 다음"
   ]
  },
  {
   "cell_type": "code",
   "execution_count": 111,
   "metadata": {},
   "outputs": [],
   "source": [
    "search_keyword = '\"기본소득\"'\n",
    "cp_dict = {\n",
    "    '조선일보': '16d4PV266g2j-N3GYq',\n",
    "    '한겨레': '16nzyJHdH5ORpabfqG',\n",
    "    '경향신문': '16akMkKFDu6n8GTzZr',\n",
    "    '동아일보': '16bOiOx4gG2S18EPLj',\n",
    "}\n",
    "\n",
    "cp_key = cp_dict['한겨레']\n",
    "page_num=1\n",
    "\n",
    "daum_url = f\"https://search.daum.net/search?w=news&q={search_keyword}&cp={cp_key}&DA=PGD&p={page_num}&cluster=n\""
   ]
  },
  {
   "cell_type": "code",
   "execution_count": 112,
   "metadata": {},
   "outputs": [],
   "source": [
    "r = requests.get(daum_url)\n",
    "html = BeautifulSoup(r.text, \"html.parser\")\n",
    "articles = html.select(\"ul#newsResultUL > li\")"
   ]
  },
  {
   "cell_type": "code",
   "execution_count": 120,
   "metadata": {},
   "outputs": [],
   "source": [
    "for i, ar in enumerate(articles):\n",
    "    article_url = ar.select_one('a.f_nb')['href']\n",
    "    article_res = requests.get(article_url)\n",
    "    article_html = BeautifulSoup(article_res.text, \"html.parser\")\n",
    "    title = article_html.select_one(\"h3.tit_view\").text\n",
    "    date = article_html.select_one(\"span.num_date\").text\n",
    "    body = article_html.select_one(\"div.news_view\").text\n",
    "    break"
   ]
  },
  {
   "cell_type": "code",
   "execution_count": 121,
   "metadata": {},
   "outputs": [
    {
     "data": {
      "text/plain": [
       "'이재명·원희룡, 기본소득 두고 \"맞닿는 점 있다면 경험 교류\"'"
      ]
     },
     "execution_count": 121,
     "metadata": {},
     "output_type": "execute_result"
    }
   ],
   "source": [
    "title"
   ]
  },
  {
   "cell_type": "code",
   "execution_count": 122,
   "metadata": {},
   "outputs": [
    {
     "data": {
      "text/plain": [
       "'2020.07.30. 10:36'"
      ]
     },
     "execution_count": 122,
     "metadata": {},
     "output_type": "execute_result"
    }
   ],
   "source": [
    "date"
   ]
  },
  {
   "cell_type": "code",
   "execution_count": 124,
   "metadata": {},
   "outputs": [
    {
     "data": {
      "text/plain": [
       "'기본소득 도입 협력에 공감대 \\n\\n\\n\\n\\n\\n            이재명 경기지사(왼쪽)와 원희룡 제주지사가 30일 오전 국회 의원회관에서 열린 ‘국회 기본소득 연구포럼 창립총회 및 세미나’에서 악수하고 있다. 연합뉴스\\n           \\n\\n 여야 유력 대선주자인 이재명 경기지사, 원희룡 제주지사가 30일 국회에서 만나 기본소득 이슈에 대한 입장을 내놨다. 두 사람은 이날 국회 의원회관에서 열린 ‘국회 기본소득 연구포럼’ 창립총회에 참석해 기본소득 도입을 위해 협력해야 한다는 데 공감대를 표했다.\\n이 지사는 “기본소득은 단순한 복지정책이 아닌 복지적인 성격을 띠는 경제정책”이라며 “자본주의 시스템이 불평등과 격차, 소비 수요 부족에 따른 저성장 등 한계를 노정하고 있다. 소비 수요를 정부 지원으로 늘리는 데는 기본소득 만한 게 없다”고 말했다. \\n원 지사는 “요즘 기본소득이 네 것이다, 내 것이다 하는데 결국 실현 가능한 한국형 모델을 만들어내느냐가 궁극적인 고민이다. 디지털 대전환 가속화 시대에 어떻게 국민의 기회와 역량을 키우며 소득 보장을 결합할 것인지를 고민하고 있다”고 했다. 이어 “이 지사와 내가 하는 부분이 맞닿는 점이 있다면 경험을 교류하며 실현·지속 가능한 방향을 함께 추구하도록 하겠다”고 밝혔다. \\n여야 대선주자 후보군인 두 사람은 최근 국회에서 열리는 각종 토론회에 적극 참여하면서 존재감을 내비치고 있다. 대표적 기본소득론자인 이 지사는 지난달 미래통합당에서 기본소득을 논의해야 한다는 주장이 나오자, “단기목표 연 50만원, 중기목표 연 100만원, 장기목표 연 200만∼600만원 등 장단기별 목표를 두고 실시하면 기본소득은 어려울 것이 없다”며 재원 구상방안 등을 제시한 바 있다. 원 지사도 지난달 ‘사회안전망 4.0과 기본소득제’ 정책토론회에 참석해 김종인 통합당 비대위원장과 마주 앉고 “한국식 기본소득을 고민해야 한다”고 밝혔다. \\n국회 기본소득연구포럼은 기본소득제 도입을 위한 정책로드맵 구축과 실행방안 연구를 목적으로 하는 여야 의원들을 아우르는 연구단체로 소병훈 의원(더불어민주당), 김성원 의원(미래통합당), 용혜인 의원(기본소득당) 등 32명이 참가하고 있다.\\n김미나 기자 mina@hani.co.kr'"
      ]
     },
     "execution_count": 124,
     "metadata": {},
     "output_type": "execute_result"
    }
   ],
   "source": [
    "body.strip()"
   ]
  },
  {
   "cell_type": "code",
   "execution_count": 160,
   "metadata": {},
   "outputs": [],
   "source": [
    "paragraphs = article_html.select(\"div#harmonyContainer.article_view > section > p\")\n",
    "text = '\\n\\n'.join([p.text.strip() for p in paragraphs])"
   ]
  },
  {
   "cell_type": "code",
   "execution_count": 163,
   "metadata": {},
   "outputs": [],
   "source": [
    "summary = article_html.select_one(\"strong.summary_view\").text.strip()"
   ]
  },
  {
   "cell_type": "code",
   "execution_count": 164,
   "metadata": {},
   "outputs": [
    {
     "data": {
      "text/plain": [
       "' 기본소득 도입 협력에 공감대 '"
      ]
     },
     "execution_count": 164,
     "metadata": {},
     "output_type": "execute_result"
    }
   ],
   "source": [
    "summary"
   ]
  },
  {
   "cell_type": "code",
   "execution_count": 138,
   "metadata": {},
   "outputs": [
    {
     "data": {
      "text/plain": [
       "3480"
      ]
     },
     "execution_count": 138,
     "metadata": {},
     "output_type": "execute_result"
    }
   ],
   "source": [
    "cnt_text = html.select_one(\"span#resultCntArea\").text\n",
    "cnt = cnt_text.split(\"/\")[1]\n",
    "\n",
    "int(''.join(re.findall('\\d+', cnt)))"
   ]
  },
  {
   "cell_type": "code",
   "execution_count": 139,
   "metadata": {},
   "outputs": [
    {
     "data": {
      "text/plain": [
       "'1-10 / 약 3,480건'"
      ]
     },
     "execution_count": 139,
     "metadata": {},
     "output_type": "execute_result"
    }
   ],
   "source": [
    "cnt_text"
   ]
  },
  {
   "cell_type": "code",
   "execution_count": 146,
   "metadata": {},
   "outputs": [
    {
     "ename": "AttributeError",
     "evalue": "'str' object has no attribute '__dict__'",
     "output_type": "error",
     "traceback": [
      "\u001b[1;31m---------------------------------------------------------------------------\u001b[0m",
      "\u001b[1;31mAttributeError\u001b[0m                            Traceback (most recent call last)",
      "\u001b[1;32m<ipython-input-146-7d476c63f016>\u001b[0m in \u001b[0;36m<module>\u001b[1;34m\u001b[0m\n\u001b[0;32m      2\u001b[0m \u001b[1;33m\u001b[0m\u001b[0m\n\u001b[0;32m      3\u001b[0m \u001b[1;32mfor\u001b[0m \u001b[0mf\u001b[0m \u001b[1;32min\u001b[0m \u001b[0mos\u001b[0m\u001b[1;33m.\u001b[0m\u001b[0mlistdir\u001b[0m\u001b[1;33m(\u001b[0m\u001b[1;34m\"../data\"\u001b[0m\u001b[1;33m)\u001b[0m\u001b[1;33m:\u001b[0m\u001b[1;33m\u001b[0m\u001b[1;33m\u001b[0m\u001b[0m\n\u001b[1;32m----> 4\u001b[1;33m     \u001b[0mprint\u001b[0m\u001b[1;33m(\u001b[0m\u001b[0mf\u001b[0m\u001b[1;33m.\u001b[0m\u001b[0m__dict__\u001b[0m\u001b[1;33m)\u001b[0m\u001b[1;33m\u001b[0m\u001b[1;33m\u001b[0m\u001b[0m\n\u001b[0m\u001b[0;32m      5\u001b[0m     \u001b[1;32mbreak\u001b[0m\u001b[1;33m\u001b[0m\u001b[1;33m\u001b[0m\u001b[0m\n",
      "\u001b[1;31mAttributeError\u001b[0m: 'str' object has no attribute '__dict__'"
     ]
    }
   ],
   "source": [
    "import os\n",
    "\n",
    "for f in os.listdir(\"../data\"):\n",
    "    print(f.__dict__)\n",
    "    break"
   ]
  },
  {
   "cell_type": "code",
   "execution_count": null,
   "metadata": {},
   "outputs": [],
   "source": []
  }
 ],
 "metadata": {
  "kernelspec": {
   "display_name": "Python [conda env:ubi]",
   "language": "python",
   "name": "conda-env-ubi-py"
  },
  "language_info": {
   "codemirror_mode": {
    "name": "ipython",
    "version": 3
   },
   "file_extension": ".py",
   "mimetype": "text/x-python",
   "name": "python",
   "nbconvert_exporter": "python",
   "pygments_lexer": "ipython3",
   "version": "3.8.3"
  }
 },
 "nbformat": 4,
 "nbformat_minor": 4
}
